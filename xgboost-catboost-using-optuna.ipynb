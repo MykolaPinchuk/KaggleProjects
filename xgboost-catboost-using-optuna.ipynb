{
 "cells": [
  {
   "cell_type": "markdown",
   "metadata": {
    "papermill": {
     "duration": 0.01763,
     "end_time": "2022-06-04T20:23:21.183575",
     "exception": false,
     "start_time": "2022-06-04T20:23:21.165945",
     "status": "completed"
    },
    "tags": []
   },
   "source": [
    "# Optuna: A hyperparameter optimization framework"
   ]
  },
  {
   "cell_type": "markdown",
   "metadata": {
    "execution": {
     "iopub.execute_input": "2022-06-04T19:50:29.687439Z",
     "iopub.status.busy": "2022-06-04T19:50:29.687081Z",
     "iopub.status.idle": "2022-06-04T19:50:29.691828Z",
     "shell.execute_reply": "2022-06-04T19:50:29.690941Z",
     "shell.execute_reply.started": "2022-06-04T19:50:29.687407Z"
    },
    "papermill": {
     "duration": 0.017654,
     "end_time": "2022-06-04T20:23:21.218272",
     "exception": false,
     "start_time": "2022-06-04T20:23:21.200618",
     "status": "completed"
    },
    "tags": []
   },
   "source": [
    "### This is modified public notebook from Kaggle, showing how to use Optuna.\n",
    "### I have modified it to do cross-validation within Optuna."
   ]
  },
  {
   "cell_type": "markdown",
   "metadata": {
    "papermill": {
     "duration": 0.016801,
     "end_time": "2022-06-04T20:23:21.251844",
     "exception": false,
     "start_time": "2022-06-04T20:23:21.235043",
     "status": "completed"
    },
    "tags": []
   },
   "source": [
    "* [1.Basic Concepts](#chapter1)\n",
    "* [2. Let's build our optimization function using optuna](#chapter2)\n",
    "* [3. XGBoost using Optuna](#chapter3)\n",
    "* [5. Submission](#chapter5)"
   ]
  },
  {
   "cell_type": "markdown",
   "metadata": {
    "papermill": {
     "duration": 0.01647,
     "end_time": "2022-06-04T20:23:21.285224",
     "exception": false,
     "start_time": "2022-06-04T20:23:21.268754",
     "status": "completed"
    },
    "tags": []
   },
   "source": [
    "* <h4> In This Kernel I will use an amazing framework called <b>Optuna</b> to find the best hyparameters of our XGBoost and CatBoost </h4>"
   ]
  },
  {
   "cell_type": "markdown",
   "metadata": {
    "papermill": {
     "duration": 0.01686,
     "end_time": "2022-06-04T20:23:21.318811",
     "exception": false,
     "start_time": "2022-06-04T20:23:21.301951",
     "status": "completed"
    },
    "tags": []
   },
   "source": [
    "**So, Optuna is an automatic hyperparameter optimization software framework, particularly designed for machine learning. It features an imperative, define-by-run style user API.<br> The code written with Optuna enjoys high modularity, and the user of Optuna can dynamically construct the search spaces for the hyperparameters.** \n",
    "* To learn more about Optuna check this [link](https://optuna.org/)"
   ]
  },
  {
   "cell_type": "markdown",
   "metadata": {
    "papermill": {
     "duration": 0.016631,
     "end_time": "2022-06-04T20:23:21.351954",
     "exception": false,
     "start_time": "2022-06-04T20:23:21.335323",
     "status": "completed"
    },
    "tags": []
   },
   "source": [
    "MP: Good fast introduction to Optuna: https://towardsdatascience.com/why-is-everyone-at-kaggle-obsessed-with-optuna-for-hyperparameter-tuning-7608fdca337c"
   ]
  },
  {
   "cell_type": "markdown",
   "metadata": {
    "papermill": {
     "duration": 0.018101,
     "end_time": "2022-06-04T20:23:21.386850",
     "exception": false,
     "start_time": "2022-06-04T20:23:21.368749",
     "status": "completed"
    },
    "tags": []
   },
   "source": [
    "# 1. Basic Concepts <a class=\"anchor\" id=\"chapter1\"></a>\n",
    "So, We use the terms study and trial as follows:\n",
    "* <b>Study</b> : optimization based on an objective function\n",
    "* <b>Trial</b> : a single execution of the objective function"
   ]
  },
  {
   "cell_type": "code",
   "execution_count": 1,
   "metadata": {
    "execution": {
     "iopub.execute_input": "2022-06-04T20:23:21.430284Z",
     "iopub.status.busy": "2022-06-04T20:23:21.429656Z",
     "iopub.status.idle": "2022-06-04T20:23:29.140286Z",
     "shell.execute_reply": "2022-06-04T20:23:29.140801Z",
     "shell.execute_reply.started": "2022-06-04T19:35:59.627241Z"
    },
    "papermill": {
     "duration": 7.737466,
     "end_time": "2022-06-04T20:23:29.140972",
     "exception": false,
     "start_time": "2022-06-04T20:23:21.403506",
     "status": "completed"
    },
    "tags": []
   },
   "outputs": [
    {
     "name": "stdout",
     "output_type": "stream",
     "text": [
      "(300000, 16)\n"
     ]
    }
   ],
   "source": [
    "#import optuna \n",
    "import optuna\n",
    "\n",
    "from xgboost import XGBRegressor\n",
    "import numpy as np\n",
    "import pandas as pd\n",
    "from sklearn.model_selection import KFold, GridSearchCV, KFold, RepeatedKFold\n",
    "from sklearn.metrics import mean_squared_error\n",
    "from sklearn.model_selection import train_test_split\n",
    "import time, warnings\n",
    "#from optuna.visualization.matplotlib import plot_param_importances\n",
    "\n",
    "warnings.filterwarnings('ignore')\n",
    "\n",
    "train = pd.read_csv('../input/tabular-playground-series-jan-2021/train.csv')\n",
    "test  = pd.read_csv('../input/tabular-playground-series-jan-2021/test.csv')\n",
    "sub = pd.read_csv('../input/tabular-playground-series-jan-2021/sample_submission.csv')\n",
    "\n",
    "train.head()\n",
    "\n",
    "print(train.shape)\n",
    "columns = [col for col in train.columns.to_list() if col not in ['id','target']]\n",
    "\n",
    "data=train[columns]\n",
    "target=train['target']\n",
    "\n",
    "X_train, X_test, y_train, y_test = train_test_split(data, target, test_size=0.15,random_state=4)"
   ]
  },
  {
   "cell_type": "markdown",
   "metadata": {
    "papermill": {
     "duration": 0.016713,
     "end_time": "2022-06-04T20:23:29.175505",
     "exception": false,
     "start_time": "2022-06-04T20:23:29.158792",
     "status": "completed"
    },
    "tags": []
   },
   "source": [
    "# 2. Let's build our optimization function using optuna <a class=\"anchor\" id=\"chapter2\"></a>"
   ]
  },
  {
   "cell_type": "markdown",
   "metadata": {
    "papermill": {
     "duration": 0.016716,
     "end_time": "2022-06-04T20:23:29.209091",
     "exception": false,
     "start_time": "2022-06-04T20:23:29.192375",
     "status": "completed"
    },
    "tags": []
   },
   "source": [
    "### The following optimization function uses XGBoostRegressor model, so it takes the following arguments:\n",
    "* the data\n",
    "* the target\n",
    "* trial (How many executions we will do)  \n",
    "### and returns\n",
    "* RMSE (Root Mean Squared Rrror)"
   ]
  },
  {
   "cell_type": "markdown",
   "metadata": {
    "papermill": {
     "duration": 0.016918,
     "end_time": "2022-06-04T20:23:29.242748",
     "exception": false,
     "start_time": "2022-06-04T20:23:29.225830",
     "status": "completed"
    },
    "tags": []
   },
   "source": [
    "## Notes:\n",
    "* Note that I used some XGBoostRegressor hyperparameters from Xgboost official site. \n",
    "* So if you like to add more parameters or change them, check this [link](https://xgboost.readthedocs.io/en/latest/parameter.html) \n",
    "* Also I used early_stopping_rounds to avoid overfiting\n",
    "* to speedup the training process we can use the GPU or you can comment the first param argument (the training process will takes a lot of time by only using the cpu 😩) "
   ]
  },
  {
   "cell_type": "markdown",
   "metadata": {
    "papermill": {
     "duration": 0.018149,
     "end_time": "2022-06-04T20:23:29.277777",
     "exception": false,
     "start_time": "2022-06-04T20:23:29.259628",
     "status": "completed"
    },
    "tags": []
   },
   "source": [
    "# 3. XGBoost using Optuna <a class=\"anchor\" id=\"chapter3\"></a>"
   ]
  },
  {
   "cell_type": "code",
   "execution_count": 2,
   "metadata": {
    "execution": {
     "iopub.execute_input": "2022-06-04T20:23:29.325693Z",
     "iopub.status.busy": "2022-06-04T20:23:29.324695Z",
     "iopub.status.idle": "2022-06-04T20:23:40.980811Z",
     "shell.execute_reply": "2022-06-04T20:23:40.981923Z",
     "shell.execute_reply.started": "2022-06-04T19:36:09.818343Z"
    },
    "papermill": {
     "duration": 11.687238,
     "end_time": "2022-06-04T20:23:40.982115",
     "exception": false,
     "start_time": "2022-06-04T20:23:29.294877",
     "status": "completed"
    },
    "tags": []
   },
   "outputs": [
    {
     "data": {
      "text/plain": [
       "0.703764751179221"
      ]
     },
     "execution_count": 2,
     "metadata": {},
     "output_type": "execute_result"
    }
   ],
   "source": [
    "def evaluate_model_rkf(model, X_df, y_df, n_splits=4, random_state=3):\n",
    "    X_values = X_df.values\n",
    "    y_values = y_df.values\n",
    "    rkf = KFold(n_splits=n_splits, random_state=random_state)\n",
    "    y_pred = np.zeros_like(y_values)\n",
    "    for train_index, test_index in rkf.split(X_values):\n",
    "        X_t, X_v = X_values[train_index, :], X_values[test_index, :]\n",
    "        y_t = y_values[train_index]\n",
    "        model.fit(\n",
    "            X_t, y_t,\n",
    "        )\n",
    "        y_pred[test_index] += model.predict(X_v)\n",
    "    y_pred\n",
    "    return np.sqrt(mean_squared_error(y_train, y_pred))\n",
    "\n",
    "\n",
    "# First, try raw XGBoost to make sure that evaluate_model_rkf works:\n",
    "\n",
    "model = XGBRegressor(tree_method = 'gpu_hist', gpu_id=0, max_depth=8, eta=0.03, n_estimators=200)\n",
    "evaluate_model_rkf(model, X_train, y_train, n_splits=4, random_state=2)"
   ]
  },
  {
   "cell_type": "code",
   "execution_count": 3,
   "metadata": {
    "execution": {
     "iopub.execute_input": "2022-06-04T20:23:41.041364Z",
     "iopub.status.busy": "2022-06-04T20:23:41.040699Z",
     "iopub.status.idle": "2022-06-04T20:31:02.181599Z",
     "shell.execute_reply": "2022-06-04T20:31:02.182548Z",
     "shell.execute_reply.started": "2022-06-04T20:05:08.193779Z"
    },
    "papermill": {
     "duration": 441.177457,
     "end_time": "2022-06-04T20:31:02.182710",
     "exception": false,
     "start_time": "2022-06-04T20:23:41.005253",
     "status": "completed"
    },
    "tags": []
   },
   "outputs": [
    {
     "name": "stderr",
     "output_type": "stream",
     "text": [
      "\u001b[32m[I 2022-06-04 20:23:41,049]\u001b[0m A new study created in memory with name: no-name-39ad46d8-a842-4e2a-971b-153ccc60183e\u001b[0m\n",
      "\u001b[32m[I 2022-06-04 20:23:45,542]\u001b[0m Trial 0 finished with value: 0.7122660786862711 and parameters: {'max_depth': 2, 'learning_rate': 0.05195085272826953, 'colsample_bytree': 0.47952588987255984, 'subsample': 0.5602922191370104, 'alpha': 0.21187056065297036, 'lambda': 0.00010545779009505479, 'min_child_weight': 195.47451947284634}. Best is trial 0 with value: 0.7122660786862711.\u001b[0m\n",
      "\u001b[32m[I 2022-06-04 20:24:17,451]\u001b[0m Trial 1 finished with value: 0.7017116049114462 and parameters: {'max_depth': 14, 'learning_rate': 0.07729284434572192, 'colsample_bytree': 0.5775365343700496, 'subsample': 0.8309369882567488, 'alpha': 0.12032459070247384, 'lambda': 0.00025089875473915946, 'min_child_weight': 55.88260673224424}. Best is trial 1 with value: 0.7017116049114462.\u001b[0m\n",
      "\u001b[32m[I 2022-06-04 20:24:46,829]\u001b[0m Trial 2 finished with value: 0.702229356941937 and parameters: {'max_depth': 15, 'learning_rate': 0.07728375335078388, 'colsample_bytree': 0.9069405924448317, 'subsample': 0.751107791947296, 'alpha': 0.04495259811817069, 'lambda': 7.538431833896211e-06, 'min_child_weight': 72.5976507340261}. Best is trial 1 with value: 0.7017116049114462.\u001b[0m\n",
      "\u001b[32m[I 2022-06-04 20:25:06,182]\u001b[0m Trial 3 finished with value: 0.6992904193852759 and parameters: {'max_depth': 11, 'learning_rate': 0.06251610916977142, 'colsample_bytree': 0.9851061089225766, 'subsample': 0.6151631070784156, 'alpha': 1.4309258286804851, 'lambda': 5.250087130258407e-06, 'min_child_weight': 266.57723741449325}. Best is trial 3 with value: 0.6992904193852759.\u001b[0m\n",
      "\u001b[32m[I 2022-06-04 20:25:12,087]\u001b[0m Trial 4 finished with value: 0.7090548461489452 and parameters: {'max_depth': 3, 'learning_rate': 0.048507710747031835, 'colsample_bytree': 0.24284460948798375, 'subsample': 0.5050944561750277, 'alpha': 8.422816641413203, 'lambda': 0.0038316394312051176, 'min_child_weight': 594.9486337959893}. Best is trial 3 with value: 0.6992904193852759.\u001b[0m\n",
      "\u001b[32m[I 2022-06-04 20:25:34,162]\u001b[0m Trial 5 finished with value: 0.7020921592490991 and parameters: {'max_depth': 8, 'learning_rate': 0.01821162639268017, 'colsample_bytree': 0.34358464474083206, 'subsample': 0.7800086468142229, 'alpha': 0.9743376376323518, 'lambda': 0.0003399284171269997, 'min_child_weight': 185.60826890300442}. Best is trial 3 with value: 0.6992904193852759.\u001b[0m\n",
      "\u001b[32m[I 2022-06-04 20:25:38,921]\u001b[0m Trial 6 finished with value: 0.7075874472309801 and parameters: {'max_depth': 4, 'learning_rate': 0.0641688300979165, 'colsample_bytree': 0.6475219104112571, 'subsample': 0.9038234631508684, 'alpha': 7.538362367800765, 'lambda': 6.24814172253296, 'min_child_weight': 216.43183960610742}. Best is trial 3 with value: 0.6992904193852759.\u001b[0m\n",
      "\u001b[32m[I 2022-06-04 20:26:24,731]\u001b[0m Trial 7 finished with value: 0.7044533350041138 and parameters: {'max_depth': 11, 'learning_rate': 0.011962310686583296, 'colsample_bytree': 0.4499011595327882, 'subsample': 0.4790501939039644, 'alpha': 3.8781702715090556, 'lambda': 2.3930768877183984e-06, 'min_child_weight': 110.93940314637516}. Best is trial 3 with value: 0.6992904193852759.\u001b[0m\n",
      "\u001b[32m[I 2022-06-04 20:26:36,131]\u001b[0m Trial 8 finished with value: 0.7003750794832 and parameters: {'max_depth': 6, 'learning_rate': 0.07410244191672528, 'colsample_bytree': 0.3264288134976166, 'subsample': 0.6350023371315985, 'alpha': 0.0980742084826737, 'lambda': 0.4803112720791934, 'min_child_weight': 418.71258764493444}. Best is trial 3 with value: 0.6992904193852759.\u001b[0m\n",
      "\u001b[32m[I 2022-06-04 20:26:50,377]\u001b[0m Trial 9 finished with value: 0.6996245148447716 and parameters: {'max_depth': 9, 'learning_rate': 0.0723612599593154, 'colsample_bytree': 0.9367029766472197, 'subsample': 0.5875108427494995, 'alpha': 0.013116742535647787, 'lambda': 6.245876585878281e-08, 'min_child_weight': 165.58957642391812}. Best is trial 3 with value: 0.6992904193852759.\u001b[0m\n",
      "\u001b[32m[I 2022-06-04 20:27:10,438]\u001b[0m Trial 10 finished with value: 0.7007740391600251 and parameters: {'max_depth': 13, 'learning_rate': 0.029158163725552723, 'colsample_bytree': 0.7581676227057426, 'subsample': 0.36434742795579345, 'alpha': 1.0393962540197244, 'lambda': 1.1034170867152987e-08, 'min_child_weight': 929.4909855122394}. Best is trial 3 with value: 0.6992904193852759.\u001b[0m\n",
      "\u001b[32m[I 2022-06-04 20:27:29,866]\u001b[0m Trial 11 finished with value: 0.6991141969897481 and parameters: {'max_depth': 10, 'learning_rate': 0.06010841199384105, 'colsample_bytree': 0.9975006969819412, 'subsample': 0.6554906889769498, 'alpha': 0.01146008140455173, 'lambda': 1.7258533459230472e-08, 'min_child_weight': 418.3033527271548}. Best is trial 11 with value: 0.6991141969897481.\u001b[0m\n",
      "\u001b[32m[I 2022-06-04 20:27:51,825]\u001b[0m Trial 12 finished with value: 0.6989273519450643 and parameters: {'max_depth': 11, 'learning_rate': 0.060447541697188065, 'colsample_bytree': 0.9816586075536732, 'subsample': 0.7002962578592645, 'alpha': 1.1979300999563511, 'lambda': 1.653599787540466e-07, 'min_child_weight': 441.62828036691985}. Best is trial 12 with value: 0.6989273519450643.\u001b[0m\n",
      "\u001b[32m[I 2022-06-04 20:28:16,223]\u001b[0m Trial 13 finished with value: 0.6987518627100472 and parameters: {'max_depth': 11, 'learning_rate': 0.03623966178357429, 'colsample_bytree': 0.8308086646391357, 'subsample': 0.721444912625484, 'alpha': 0.010464934632562822, 'lambda': 3.268061206481809e-08, 'min_child_weight': 657.2747009840198}. Best is trial 13 with value: 0.6987518627100472.\u001b[0m\n",
      "\u001b[32m[I 2022-06-04 20:28:43,721]\u001b[0m Trial 14 finished with value: 0.6986239639816714 and parameters: {'max_depth': 12, 'learning_rate': 0.036087274062563145, 'colsample_bytree': 0.8259357654247372, 'subsample': 0.9684555857906337, 'alpha': 0.4203925287035287, 'lambda': 1.8661920104016937e-07, 'min_child_weight': 693.7997346158645}. Best is trial 14 with value: 0.6986239639816714.\u001b[0m\n",
      "\u001b[32m[I 2022-06-04 20:29:13,426]\u001b[0m Trial 15 finished with value: 0.6985637111252132 and parameters: {'max_depth': 13, 'learning_rate': 0.034523889931332534, 'colsample_bytree': 0.8012493138417882, 'subsample': 0.9900494398052899, 'alpha': 0.402566316033456, 'lambda': 3.0248086736399903e-07, 'min_child_weight': 753.6641831815462}. Best is trial 15 with value: 0.6985637111252132.\u001b[0m\n",
      "\u001b[32m[I 2022-06-04 20:29:42,152]\u001b[0m Trial 16 finished with value: 0.698634212783899 and parameters: {'max_depth': 13, 'learning_rate': 0.03631880031910773, 'colsample_bytree': 0.7359335947815051, 'subsample': 0.9950018585176996, 'alpha': 0.45660390777384097, 'lambda': 1.3457048545663045e-06, 'min_child_weight': 855.527219575326}. Best is trial 15 with value: 0.6985637111252132.\u001b[0m\n",
      "\u001b[32m[I 2022-06-04 20:30:18,702]\u001b[0m Trial 17 finished with value: 0.6990625268963145 and parameters: {'max_depth': 15, 'learning_rate': 0.02446152706328949, 'colsample_bytree': 0.8445005525350079, 'subsample': 0.9888218622123179, 'alpha': 0.3117933282958691, 'lambda': 2.915998383968674e-07, 'min_child_weight': 768.8093292114135}. Best is trial 15 with value: 0.6985637111252132.\u001b[0m\n",
      "\u001b[32m[I 2022-06-04 20:30:48,870]\u001b[0m Trial 18 finished with value: 0.6982600215100139 and parameters: {'max_depth': 13, 'learning_rate': 0.039802844302637114, 'colsample_bytree': 0.6952356940618502, 'subsample': 0.9164605438407302, 'alpha': 0.037490266214095305, 'lambda': 2.9193514677158114e-05, 'min_child_weight': 730.7930557677373}. Best is trial 18 with value: 0.6982600215100139.\u001b[0m\n",
      "\u001b[32m[I 2022-06-04 20:31:02,171]\u001b[0m Trial 19 finished with value: 0.7004106728593765 and parameters: {'max_depth': 7, 'learning_rate': 0.042967798477006526, 'colsample_bytree': 0.6494579477708748, 'subsample': 0.8897926159459756, 'alpha': 0.03206617697238632, 'lambda': 0.015857624957397107, 'min_child_weight': 925.4721199742112}. Best is trial 18 with value: 0.6982600215100139.\u001b[0m\n"
     ]
    },
    {
     "name": "stdout",
     "output_type": "stream",
     "text": [
      "Total time  441.1238269805908\n",
      "           max_depth : 13\n",
      "       learning_rate : 0.039802844302637114\n",
      "    colsample_bytree : 0.6952356940618502\n",
      "           subsample : 0.9164605438407302\n",
      "               alpha : 0.037490266214095305\n",
      "              lambda : 2.9193514677158114e-05\n",
      "    min_child_weight : 730.7930557677373\n",
      "best objective value : 0.6982600215100139\n"
     ]
    }
   ],
   "source": [
    "def objective(trial, random_state=1, n_splits=4, n_jobs=-1, early_stopping_rounds=50):\n",
    "    params = {\n",
    "        \"tree_method\": 'gpu_hist',\n",
    "        \"gpu_id\": 0,\n",
    "        \"verbosity\": 0,  # 0 (silent) - 3 (debug)\n",
    "        \"objective\": \"reg:squarederror\",\n",
    "        \"n_estimators\": 400,\n",
    "        \"max_depth\": trial.suggest_int(\"max_depth\", 2, 15),\n",
    "        \"learning_rate\": trial.suggest_uniform(\"learning_rate\", 0.01, 0.08),\n",
    "        \"colsample_bytree\": trial.suggest_uniform(\"colsample_bytree\", 0.2, 1),\n",
    "        \"subsample\": trial.suggest_uniform(\"subsample\", 0.3, 1),\n",
    "        \"alpha\": trial.suggest_loguniform(\"alpha\", 0.01, 10.0),\n",
    "        \"lambda\": trial.suggest_loguniform(\"lambda\", 1e-8, 10.0),\n",
    "        \"gamma\": trial.suggest_loguniform(\"lambda\", 1e-8, 10.0),\n",
    "        \"min_child_weight\": trial.suggest_uniform(\"min_child_weight\", 10, 1000),\n",
    "        \"seed\": random_state,\n",
    "        \"n_jobs\": n_jobs,\n",
    "    }\n",
    "\n",
    "    X = X_train\n",
    "    y = y_train\n",
    "    \n",
    "    model = XGBRegressor(**params)\n",
    "    rkf = KFold(n_splits=n_splits, random_state=random_state)\n",
    "    X_values = X.values\n",
    "    y_values = y.values\n",
    "    y_pred = np.zeros_like(y_values)\n",
    "    for train_index, test_index in rkf.split(X_values):\n",
    "        X_A, X_B = X_values[train_index, :], X_values[test_index, :]\n",
    "        y_A, y_B = y_values[train_index], y_values[test_index]\n",
    "        model.fit(X_A, y_A, eval_set=[(X_B, y_B)],\n",
    "            eval_metric=\"rmse\", early_stopping_rounds=early_stopping_rounds, verbose = False)\n",
    "        y_pred[test_index] += model.predict(X_B)\n",
    "    return (mean_squared_error(y_train, y_pred, squared=False))\n",
    "\n",
    "\n",
    "\n",
    "time1 = time.time()\n",
    "study = optuna.create_study(direction=\"minimize\")\n",
    "study.optimize(objective, n_trials=20)\n",
    "print('Total time ', time.time()-time1)\n",
    "\n",
    "# display params\n",
    "hp = study.best_params\n",
    "for key, value in hp.items():\n",
    "    print(f\"{key:>20s} : {value}\")\n",
    "print(f\"{'best objective value':>20s} : {study.best_value}\")"
   ]
  },
  {
   "cell_type": "code",
   "execution_count": 4,
   "metadata": {
    "execution": {
     "iopub.execute_input": "2022-06-04T20:31:02.238139Z",
     "iopub.status.busy": "2022-06-04T20:31:02.237177Z",
     "iopub.status.idle": "2022-06-04T20:58:15.070764Z",
     "shell.execute_reply": "2022-06-04T20:58:15.071223Z",
     "shell.execute_reply.started": "2022-06-04T20:11:42.260571Z"
    },
    "papermill": {
     "duration": 1632.865047,
     "end_time": "2022-06-04T20:58:15.071356",
     "exception": false,
     "start_time": "2022-06-04T20:31:02.206309",
     "status": "completed"
    },
    "tags": []
   },
   "outputs": [
    {
     "name": "stdout",
     "output_type": "stream",
     "text": [
      "XGB  {'eta': 0.06, 'max_depth': 7, 'n_estimators': 400} -0.7003756237179315 1632.807345867157\n"
     ]
    }
   ],
   "source": [
    "# compare timing with GridSearchCV on XGBoost:\n",
    "\n",
    "time1 = time.time()\n",
    "xgbb = XGBRegressor(tree_method='gpu_hist', gpu_id=0)\n",
    "param_grid = {'n_estimators':[400], 'eta':[0.02, 0.04, 0.06], 'max_depth':[4,7,10,15]}\n",
    "xgbm = GridSearchCV(xgbb, param_grid, cv=4, scoring='neg_root_mean_squared_error')\n",
    "xgbm.fit(X_train, y_train)\n",
    "print('XGB ', xgbm.best_params_, xgbm.best_score_, time.time()-time1)\n"
   ]
  },
  {
   "cell_type": "code",
   "execution_count": 5,
   "metadata": {
    "execution": {
     "iopub.execute_input": "2022-06-04T20:58:15.155980Z",
     "iopub.status.busy": "2022-06-04T20:58:15.154331Z",
     "iopub.status.idle": "2022-06-04T20:58:21.888997Z",
     "shell.execute_reply": "2022-06-04T20:58:21.888231Z",
     "shell.execute_reply.started": "2022-06-04T20:15:28.842138Z"
    },
    "papermill": {
     "duration": 6.773663,
     "end_time": "2022-06-04T20:58:21.889133",
     "exception": false,
     "start_time": "2022-06-04T20:58:15.115470",
     "status": "completed"
    },
    "tags": []
   },
   "outputs": [
    {
     "name": "stdout",
     "output_type": "stream",
     "text": [
      "Optuna model: 0.6973884455545938\n",
      "GS model: 0.6986591315057581\n"
     ]
    }
   ],
   "source": [
    "optuna_xgb = XGBRegressor(tree_method = 'gpu_hist', gpu_id = 0,\n",
    "                         n_estimators=300, max_depth=12, eta=0.04, subsample=0.35, colsample_bytree=0.55,\n",
    "                         min_child_weight=200)\n",
    "optuna_xgb.fit(X_train, y_train)\n",
    "gs_xgb = xgbm\n",
    "\n",
    "print('Optuna model:', mean_squared_error(optuna_xgb.predict(X_test), y_test, squared = False))\n",
    "print('GS model:', mean_squared_error(gs_xgb.predict(X_test), y_test, squared = False))"
   ]
  },
  {
   "cell_type": "code",
   "execution_count": 6,
   "metadata": {
    "execution": {
     "iopub.execute_input": "2022-06-04T20:58:21.968115Z",
     "iopub.status.busy": "2022-06-04T20:58:21.958056Z",
     "iopub.status.idle": "2022-06-04T20:58:21.986008Z",
     "shell.execute_reply": "2022-06-04T20:58:21.985496Z",
     "shell.execute_reply.started": "2022-06-04T20:16:26.913489Z"
    },
    "papermill": {
     "duration": 0.068308,
     "end_time": "2022-06-04T20:58:21.986118",
     "exception": false,
     "start_time": "2022-06-04T20:58:21.917810",
     "status": "completed"
    },
    "tags": []
   },
   "outputs": [
    {
     "data": {
      "text/html": [
       "<div>\n",
       "<style scoped>\n",
       "    .dataframe tbody tr th:only-of-type {\n",
       "        vertical-align: middle;\n",
       "    }\n",
       "\n",
       "    .dataframe tbody tr th {\n",
       "        vertical-align: top;\n",
       "    }\n",
       "\n",
       "    .dataframe thead th {\n",
       "        text-align: right;\n",
       "    }\n",
       "</style>\n",
       "<table border=\"1\" class=\"dataframe\">\n",
       "  <thead>\n",
       "    <tr style=\"text-align: right;\">\n",
       "      <th></th>\n",
       "      <th>number</th>\n",
       "      <th>value</th>\n",
       "      <th>datetime_start</th>\n",
       "      <th>datetime_complete</th>\n",
       "      <th>duration</th>\n",
       "      <th>params_alpha</th>\n",
       "      <th>params_colsample_bytree</th>\n",
       "      <th>params_lambda</th>\n",
       "      <th>params_learning_rate</th>\n",
       "      <th>params_max_depth</th>\n",
       "      <th>params_min_child_weight</th>\n",
       "      <th>params_subsample</th>\n",
       "      <th>state</th>\n",
       "    </tr>\n",
       "  </thead>\n",
       "  <tbody>\n",
       "    <tr>\n",
       "      <th>0</th>\n",
       "      <td>0</td>\n",
       "      <td>0.712266</td>\n",
       "      <td>2022-06-04 20:23:41.053397</td>\n",
       "      <td>2022-06-04 20:23:45.541948</td>\n",
       "      <td>0 days 00:00:04.488551</td>\n",
       "      <td>0.211871</td>\n",
       "      <td>0.479526</td>\n",
       "      <td>1.054578e-04</td>\n",
       "      <td>0.051951</td>\n",
       "      <td>2</td>\n",
       "      <td>195.474519</td>\n",
       "      <td>0.560292</td>\n",
       "      <td>COMPLETE</td>\n",
       "    </tr>\n",
       "    <tr>\n",
       "      <th>1</th>\n",
       "      <td>1</td>\n",
       "      <td>0.701712</td>\n",
       "      <td>2022-06-04 20:23:45.543298</td>\n",
       "      <td>2022-06-04 20:24:17.450749</td>\n",
       "      <td>0 days 00:00:31.907451</td>\n",
       "      <td>0.120325</td>\n",
       "      <td>0.577537</td>\n",
       "      <td>2.508988e-04</td>\n",
       "      <td>0.077293</td>\n",
       "      <td>14</td>\n",
       "      <td>55.882607</td>\n",
       "      <td>0.830937</td>\n",
       "      <td>COMPLETE</td>\n",
       "    </tr>\n",
       "    <tr>\n",
       "      <th>2</th>\n",
       "      <td>2</td>\n",
       "      <td>0.702229</td>\n",
       "      <td>2022-06-04 20:24:17.452199</td>\n",
       "      <td>2022-06-04 20:24:46.829045</td>\n",
       "      <td>0 days 00:00:29.376846</td>\n",
       "      <td>0.044953</td>\n",
       "      <td>0.906941</td>\n",
       "      <td>7.538432e-06</td>\n",
       "      <td>0.077284</td>\n",
       "      <td>15</td>\n",
       "      <td>72.597651</td>\n",
       "      <td>0.751108</td>\n",
       "      <td>COMPLETE</td>\n",
       "    </tr>\n",
       "    <tr>\n",
       "      <th>3</th>\n",
       "      <td>3</td>\n",
       "      <td>0.699290</td>\n",
       "      <td>2022-06-04 20:24:46.830384</td>\n",
       "      <td>2022-06-04 20:25:06.181459</td>\n",
       "      <td>0 days 00:00:19.351075</td>\n",
       "      <td>1.430926</td>\n",
       "      <td>0.985106</td>\n",
       "      <td>5.250087e-06</td>\n",
       "      <td>0.062516</td>\n",
       "      <td>11</td>\n",
       "      <td>266.577237</td>\n",
       "      <td>0.615163</td>\n",
       "      <td>COMPLETE</td>\n",
       "    </tr>\n",
       "    <tr>\n",
       "      <th>4</th>\n",
       "      <td>4</td>\n",
       "      <td>0.709055</td>\n",
       "      <td>2022-06-04 20:25:06.196676</td>\n",
       "      <td>2022-06-04 20:25:12.086617</td>\n",
       "      <td>0 days 00:00:05.889941</td>\n",
       "      <td>8.422817</td>\n",
       "      <td>0.242845</td>\n",
       "      <td>3.831639e-03</td>\n",
       "      <td>0.048508</td>\n",
       "      <td>3</td>\n",
       "      <td>594.948634</td>\n",
       "      <td>0.505094</td>\n",
       "      <td>COMPLETE</td>\n",
       "    </tr>\n",
       "    <tr>\n",
       "      <th>5</th>\n",
       "      <td>5</td>\n",
       "      <td>0.702092</td>\n",
       "      <td>2022-06-04 20:25:12.087939</td>\n",
       "      <td>2022-06-04 20:25:34.162130</td>\n",
       "      <td>0 days 00:00:22.074191</td>\n",
       "      <td>0.974338</td>\n",
       "      <td>0.343585</td>\n",
       "      <td>3.399284e-04</td>\n",
       "      <td>0.018212</td>\n",
       "      <td>8</td>\n",
       "      <td>185.608269</td>\n",
       "      <td>0.780009</td>\n",
       "      <td>COMPLETE</td>\n",
       "    </tr>\n",
       "    <tr>\n",
       "      <th>6</th>\n",
       "      <td>6</td>\n",
       "      <td>0.707587</td>\n",
       "      <td>2022-06-04 20:25:34.163573</td>\n",
       "      <td>2022-06-04 20:25:38.920749</td>\n",
       "      <td>0 days 00:00:04.757176</td>\n",
       "      <td>7.538362</td>\n",
       "      <td>0.647522</td>\n",
       "      <td>6.248142e+00</td>\n",
       "      <td>0.064169</td>\n",
       "      <td>4</td>\n",
       "      <td>216.431840</td>\n",
       "      <td>0.903823</td>\n",
       "      <td>COMPLETE</td>\n",
       "    </tr>\n",
       "    <tr>\n",
       "      <th>7</th>\n",
       "      <td>7</td>\n",
       "      <td>0.704453</td>\n",
       "      <td>2022-06-04 20:25:38.922080</td>\n",
       "      <td>2022-06-04 20:26:24.730964</td>\n",
       "      <td>0 days 00:00:45.808884</td>\n",
       "      <td>3.878170</td>\n",
       "      <td>0.449901</td>\n",
       "      <td>2.393077e-06</td>\n",
       "      <td>0.011962</td>\n",
       "      <td>11</td>\n",
       "      <td>110.939403</td>\n",
       "      <td>0.479050</td>\n",
       "      <td>COMPLETE</td>\n",
       "    </tr>\n",
       "    <tr>\n",
       "      <th>8</th>\n",
       "      <td>8</td>\n",
       "      <td>0.700375</td>\n",
       "      <td>2022-06-04 20:26:24.732299</td>\n",
       "      <td>2022-06-04 20:26:36.131062</td>\n",
       "      <td>0 days 00:00:11.398763</td>\n",
       "      <td>0.098074</td>\n",
       "      <td>0.326429</td>\n",
       "      <td>4.803113e-01</td>\n",
       "      <td>0.074102</td>\n",
       "      <td>6</td>\n",
       "      <td>418.712588</td>\n",
       "      <td>0.635002</td>\n",
       "      <td>COMPLETE</td>\n",
       "    </tr>\n",
       "    <tr>\n",
       "      <th>9</th>\n",
       "      <td>9</td>\n",
       "      <td>0.699625</td>\n",
       "      <td>2022-06-04 20:26:36.132416</td>\n",
       "      <td>2022-06-04 20:26:50.377500</td>\n",
       "      <td>0 days 00:00:14.245084</td>\n",
       "      <td>0.013117</td>\n",
       "      <td>0.936703</td>\n",
       "      <td>6.245877e-08</td>\n",
       "      <td>0.072361</td>\n",
       "      <td>9</td>\n",
       "      <td>165.589576</td>\n",
       "      <td>0.587511</td>\n",
       "      <td>COMPLETE</td>\n",
       "    </tr>\n",
       "    <tr>\n",
       "      <th>10</th>\n",
       "      <td>10</td>\n",
       "      <td>0.700774</td>\n",
       "      <td>2022-06-04 20:26:50.378801</td>\n",
       "      <td>2022-06-04 20:27:10.437837</td>\n",
       "      <td>0 days 00:00:20.059036</td>\n",
       "      <td>1.039396</td>\n",
       "      <td>0.758168</td>\n",
       "      <td>1.103417e-08</td>\n",
       "      <td>0.029158</td>\n",
       "      <td>13</td>\n",
       "      <td>929.490986</td>\n",
       "      <td>0.364347</td>\n",
       "      <td>COMPLETE</td>\n",
       "    </tr>\n",
       "    <tr>\n",
       "      <th>11</th>\n",
       "      <td>11</td>\n",
       "      <td>0.699114</td>\n",
       "      <td>2022-06-04 20:27:10.439170</td>\n",
       "      <td>2022-06-04 20:27:29.865827</td>\n",
       "      <td>0 days 00:00:19.426657</td>\n",
       "      <td>0.011460</td>\n",
       "      <td>0.997501</td>\n",
       "      <td>1.725853e-08</td>\n",
       "      <td>0.060108</td>\n",
       "      <td>10</td>\n",
       "      <td>418.303353</td>\n",
       "      <td>0.655491</td>\n",
       "      <td>COMPLETE</td>\n",
       "    </tr>\n",
       "    <tr>\n",
       "      <th>12</th>\n",
       "      <td>12</td>\n",
       "      <td>0.698927</td>\n",
       "      <td>2022-06-04 20:27:29.867274</td>\n",
       "      <td>2022-06-04 20:27:51.825429</td>\n",
       "      <td>0 days 00:00:21.958155</td>\n",
       "      <td>1.197930</td>\n",
       "      <td>0.981659</td>\n",
       "      <td>1.653600e-07</td>\n",
       "      <td>0.060448</td>\n",
       "      <td>11</td>\n",
       "      <td>441.628280</td>\n",
       "      <td>0.700296</td>\n",
       "      <td>COMPLETE</td>\n",
       "    </tr>\n",
       "    <tr>\n",
       "      <th>13</th>\n",
       "      <td>13</td>\n",
       "      <td>0.698752</td>\n",
       "      <td>2022-06-04 20:27:51.827258</td>\n",
       "      <td>2022-06-04 20:28:16.223383</td>\n",
       "      <td>0 days 00:00:24.396125</td>\n",
       "      <td>0.010465</td>\n",
       "      <td>0.830809</td>\n",
       "      <td>3.268061e-08</td>\n",
       "      <td>0.036240</td>\n",
       "      <td>11</td>\n",
       "      <td>657.274701</td>\n",
       "      <td>0.721445</td>\n",
       "      <td>COMPLETE</td>\n",
       "    </tr>\n",
       "    <tr>\n",
       "      <th>14</th>\n",
       "      <td>14</td>\n",
       "      <td>0.698624</td>\n",
       "      <td>2022-06-04 20:28:16.224736</td>\n",
       "      <td>2022-06-04 20:28:43.720746</td>\n",
       "      <td>0 days 00:00:27.496010</td>\n",
       "      <td>0.420393</td>\n",
       "      <td>0.825936</td>\n",
       "      <td>1.866192e-07</td>\n",
       "      <td>0.036087</td>\n",
       "      <td>12</td>\n",
       "      <td>693.799735</td>\n",
       "      <td>0.968456</td>\n",
       "      <td>COMPLETE</td>\n",
       "    </tr>\n",
       "    <tr>\n",
       "      <th>15</th>\n",
       "      <td>15</td>\n",
       "      <td>0.698564</td>\n",
       "      <td>2022-06-04 20:28:43.722214</td>\n",
       "      <td>2022-06-04 20:29:13.425932</td>\n",
       "      <td>0 days 00:00:29.703718</td>\n",
       "      <td>0.402566</td>\n",
       "      <td>0.801249</td>\n",
       "      <td>3.024809e-07</td>\n",
       "      <td>0.034524</td>\n",
       "      <td>13</td>\n",
       "      <td>753.664183</td>\n",
       "      <td>0.990049</td>\n",
       "      <td>COMPLETE</td>\n",
       "    </tr>\n",
       "    <tr>\n",
       "      <th>16</th>\n",
       "      <td>16</td>\n",
       "      <td>0.698634</td>\n",
       "      <td>2022-06-04 20:29:13.427330</td>\n",
       "      <td>2022-06-04 20:29:42.151782</td>\n",
       "      <td>0 days 00:00:28.724452</td>\n",
       "      <td>0.456604</td>\n",
       "      <td>0.735934</td>\n",
       "      <td>1.345705e-06</td>\n",
       "      <td>0.036319</td>\n",
       "      <td>13</td>\n",
       "      <td>855.527220</td>\n",
       "      <td>0.995002</td>\n",
       "      <td>COMPLETE</td>\n",
       "    </tr>\n",
       "    <tr>\n",
       "      <th>17</th>\n",
       "      <td>17</td>\n",
       "      <td>0.699063</td>\n",
       "      <td>2022-06-04 20:29:42.158512</td>\n",
       "      <td>2022-06-04 20:30:18.701684</td>\n",
       "      <td>0 days 00:00:36.543172</td>\n",
       "      <td>0.311793</td>\n",
       "      <td>0.844501</td>\n",
       "      <td>2.915998e-07</td>\n",
       "      <td>0.024462</td>\n",
       "      <td>15</td>\n",
       "      <td>768.809329</td>\n",
       "      <td>0.988822</td>\n",
       "      <td>COMPLETE</td>\n",
       "    </tr>\n",
       "    <tr>\n",
       "      <th>18</th>\n",
       "      <td>18</td>\n",
       "      <td>0.698260</td>\n",
       "      <td>2022-06-04 20:30:18.703155</td>\n",
       "      <td>2022-06-04 20:30:48.869979</td>\n",
       "      <td>0 days 00:00:30.166824</td>\n",
       "      <td>0.037490</td>\n",
       "      <td>0.695236</td>\n",
       "      <td>2.919351e-05</td>\n",
       "      <td>0.039803</td>\n",
       "      <td>13</td>\n",
       "      <td>730.793056</td>\n",
       "      <td>0.916461</td>\n",
       "      <td>COMPLETE</td>\n",
       "    </tr>\n",
       "    <tr>\n",
       "      <th>19</th>\n",
       "      <td>19</td>\n",
       "      <td>0.700411</td>\n",
       "      <td>2022-06-04 20:30:48.877501</td>\n",
       "      <td>2022-06-04 20:31:02.171109</td>\n",
       "      <td>0 days 00:00:13.293608</td>\n",
       "      <td>0.032066</td>\n",
       "      <td>0.649458</td>\n",
       "      <td>1.585762e-02</td>\n",
       "      <td>0.042968</td>\n",
       "      <td>7</td>\n",
       "      <td>925.472120</td>\n",
       "      <td>0.889793</td>\n",
       "      <td>COMPLETE</td>\n",
       "    </tr>\n",
       "  </tbody>\n",
       "</table>\n",
       "</div>"
      ],
      "text/plain": [
       "    number     value             datetime_start          datetime_complete  \\\n",
       "0        0  0.712266 2022-06-04 20:23:41.053397 2022-06-04 20:23:45.541948   \n",
       "1        1  0.701712 2022-06-04 20:23:45.543298 2022-06-04 20:24:17.450749   \n",
       "2        2  0.702229 2022-06-04 20:24:17.452199 2022-06-04 20:24:46.829045   \n",
       "3        3  0.699290 2022-06-04 20:24:46.830384 2022-06-04 20:25:06.181459   \n",
       "4        4  0.709055 2022-06-04 20:25:06.196676 2022-06-04 20:25:12.086617   \n",
       "5        5  0.702092 2022-06-04 20:25:12.087939 2022-06-04 20:25:34.162130   \n",
       "6        6  0.707587 2022-06-04 20:25:34.163573 2022-06-04 20:25:38.920749   \n",
       "7        7  0.704453 2022-06-04 20:25:38.922080 2022-06-04 20:26:24.730964   \n",
       "8        8  0.700375 2022-06-04 20:26:24.732299 2022-06-04 20:26:36.131062   \n",
       "9        9  0.699625 2022-06-04 20:26:36.132416 2022-06-04 20:26:50.377500   \n",
       "10      10  0.700774 2022-06-04 20:26:50.378801 2022-06-04 20:27:10.437837   \n",
       "11      11  0.699114 2022-06-04 20:27:10.439170 2022-06-04 20:27:29.865827   \n",
       "12      12  0.698927 2022-06-04 20:27:29.867274 2022-06-04 20:27:51.825429   \n",
       "13      13  0.698752 2022-06-04 20:27:51.827258 2022-06-04 20:28:16.223383   \n",
       "14      14  0.698624 2022-06-04 20:28:16.224736 2022-06-04 20:28:43.720746   \n",
       "15      15  0.698564 2022-06-04 20:28:43.722214 2022-06-04 20:29:13.425932   \n",
       "16      16  0.698634 2022-06-04 20:29:13.427330 2022-06-04 20:29:42.151782   \n",
       "17      17  0.699063 2022-06-04 20:29:42.158512 2022-06-04 20:30:18.701684   \n",
       "18      18  0.698260 2022-06-04 20:30:18.703155 2022-06-04 20:30:48.869979   \n",
       "19      19  0.700411 2022-06-04 20:30:48.877501 2022-06-04 20:31:02.171109   \n",
       "\n",
       "                 duration  params_alpha  params_colsample_bytree  \\\n",
       "0  0 days 00:00:04.488551      0.211871                 0.479526   \n",
       "1  0 days 00:00:31.907451      0.120325                 0.577537   \n",
       "2  0 days 00:00:29.376846      0.044953                 0.906941   \n",
       "3  0 days 00:00:19.351075      1.430926                 0.985106   \n",
       "4  0 days 00:00:05.889941      8.422817                 0.242845   \n",
       "5  0 days 00:00:22.074191      0.974338                 0.343585   \n",
       "6  0 days 00:00:04.757176      7.538362                 0.647522   \n",
       "7  0 days 00:00:45.808884      3.878170                 0.449901   \n",
       "8  0 days 00:00:11.398763      0.098074                 0.326429   \n",
       "9  0 days 00:00:14.245084      0.013117                 0.936703   \n",
       "10 0 days 00:00:20.059036      1.039396                 0.758168   \n",
       "11 0 days 00:00:19.426657      0.011460                 0.997501   \n",
       "12 0 days 00:00:21.958155      1.197930                 0.981659   \n",
       "13 0 days 00:00:24.396125      0.010465                 0.830809   \n",
       "14 0 days 00:00:27.496010      0.420393                 0.825936   \n",
       "15 0 days 00:00:29.703718      0.402566                 0.801249   \n",
       "16 0 days 00:00:28.724452      0.456604                 0.735934   \n",
       "17 0 days 00:00:36.543172      0.311793                 0.844501   \n",
       "18 0 days 00:00:30.166824      0.037490                 0.695236   \n",
       "19 0 days 00:00:13.293608      0.032066                 0.649458   \n",
       "\n",
       "    params_lambda  params_learning_rate  params_max_depth  \\\n",
       "0    1.054578e-04              0.051951                 2   \n",
       "1    2.508988e-04              0.077293                14   \n",
       "2    7.538432e-06              0.077284                15   \n",
       "3    5.250087e-06              0.062516                11   \n",
       "4    3.831639e-03              0.048508                 3   \n",
       "5    3.399284e-04              0.018212                 8   \n",
       "6    6.248142e+00              0.064169                 4   \n",
       "7    2.393077e-06              0.011962                11   \n",
       "8    4.803113e-01              0.074102                 6   \n",
       "9    6.245877e-08              0.072361                 9   \n",
       "10   1.103417e-08              0.029158                13   \n",
       "11   1.725853e-08              0.060108                10   \n",
       "12   1.653600e-07              0.060448                11   \n",
       "13   3.268061e-08              0.036240                11   \n",
       "14   1.866192e-07              0.036087                12   \n",
       "15   3.024809e-07              0.034524                13   \n",
       "16   1.345705e-06              0.036319                13   \n",
       "17   2.915998e-07              0.024462                15   \n",
       "18   2.919351e-05              0.039803                13   \n",
       "19   1.585762e-02              0.042968                 7   \n",
       "\n",
       "    params_min_child_weight  params_subsample     state  \n",
       "0                195.474519          0.560292  COMPLETE  \n",
       "1                 55.882607          0.830937  COMPLETE  \n",
       "2                 72.597651          0.751108  COMPLETE  \n",
       "3                266.577237          0.615163  COMPLETE  \n",
       "4                594.948634          0.505094  COMPLETE  \n",
       "5                185.608269          0.780009  COMPLETE  \n",
       "6                216.431840          0.903823  COMPLETE  \n",
       "7                110.939403          0.479050  COMPLETE  \n",
       "8                418.712588          0.635002  COMPLETE  \n",
       "9                165.589576          0.587511  COMPLETE  \n",
       "10               929.490986          0.364347  COMPLETE  \n",
       "11               418.303353          0.655491  COMPLETE  \n",
       "12               441.628280          0.700296  COMPLETE  \n",
       "13               657.274701          0.721445  COMPLETE  \n",
       "14               693.799735          0.968456  COMPLETE  \n",
       "15               753.664183          0.990049  COMPLETE  \n",
       "16               855.527220          0.995002  COMPLETE  \n",
       "17               768.809329          0.988822  COMPLETE  \n",
       "18               730.793056          0.916461  COMPLETE  \n",
       "19               925.472120          0.889793  COMPLETE  "
      ]
     },
     "execution_count": 6,
     "metadata": {},
     "output_type": "execute_result"
    }
   ],
   "source": [
    "study.trials_dataframe()"
   ]
  },
  {
   "cell_type": "markdown",
   "metadata": {
    "papermill": {
     "duration": 0.024522,
     "end_time": "2022-06-04T20:58:22.036139",
     "exception": false,
     "start_time": "2022-06-04T20:58:22.011617",
     "status": "completed"
    },
    "tags": []
   },
   "source": [
    "# Let's do some Quick Visualization for Hyperparameter Optimization Analysis\n",
    "#### Optuna provides various visualization features in optuna.visualization to analyze optimization results visually"
   ]
  },
  {
   "cell_type": "code",
   "execution_count": 7,
   "metadata": {
    "execution": {
     "iopub.execute_input": "2022-06-04T20:58:22.089473Z",
     "iopub.status.busy": "2022-06-04T20:58:22.088938Z",
     "iopub.status.idle": "2022-06-04T20:58:22.241978Z",
     "shell.execute_reply": "2022-06-04T20:58:22.242434Z",
     "shell.execute_reply.started": "2022-06-04T20:16:31.375724Z"
    },
    "papermill": {
     "duration": 0.181806,
     "end_time": "2022-06-04T20:58:22.242563",
     "exception": false,
     "start_time": "2022-06-04T20:58:22.060757",
     "status": "completed"
    },
    "tags": []
   },
   "outputs": [
    {
     "data": {
      "text/html": [
       "        <script type=\"text/javascript\">\n",
       "        window.PlotlyConfig = {MathJaxConfig: 'local'};\n",
       "        if (window.MathJax) {MathJax.Hub.Config({SVG: {font: \"STIX-Web\"}});}\n",
       "        if (typeof require !== 'undefined') {\n",
       "        require.undef(\"plotly\");\n",
       "        requirejs.config({\n",
       "            paths: {\n",
       "                'plotly': ['https://cdn.plot.ly/plotly-latest.min']\n",
       "            }\n",
       "        });\n",
       "        require(['plotly'], function(Plotly) {\n",
       "            window._Plotly = Plotly;\n",
       "        });\n",
       "        }\n",
       "        </script>\n",
       "        "
      ]
     },
     "metadata": {},
     "output_type": "display_data"
    },
    {
     "data": {
      "text/html": [
       "<div>                            <div id=\"66dbc4a1-ceea-4f83-9025-8f4c100184ad\" class=\"plotly-graph-div\" style=\"height:525px; width:100%;\"></div>            <script type=\"text/javascript\">                require([\"plotly\"], function(Plotly) {                    window.PLOTLYENV=window.PLOTLYENV || {};                                    if (document.getElementById(\"66dbc4a1-ceea-4f83-9025-8f4c100184ad\")) {                    Plotly.newPlot(                        \"66dbc4a1-ceea-4f83-9025-8f4c100184ad\",                        [{\"mode\": \"markers\", \"name\": \"Objective Value\", \"type\": \"scatter\", \"x\": [0, 1, 2, 3, 4, 5, 6, 7, 8, 9, 10, 11, 12, 13, 14, 15, 16, 17, 18, 19], \"y\": [0.7122660786862711, 0.7017116049114462, 0.702229356941937, 0.6992904193852759, 0.7090548461489452, 0.7020921592490991, 0.7075874472309801, 0.7044533350041138, 0.7003750794832, 0.6996245148447716, 0.7007740391600251, 0.6991141969897481, 0.6989273519450643, 0.6987518627100472, 0.6986239639816714, 0.6985637111252132, 0.698634212783899, 0.6990625268963145, 0.6982600215100139, 0.7004106728593765]}, {\"name\": \"Best Value\", \"type\": \"scatter\", \"x\": [0, 1, 2, 3, 4, 5, 6, 7, 8, 9, 10, 11, 12, 13, 14, 15, 16, 17, 18, 19], \"y\": [0.7122660786862711, 0.7017116049114462, 0.7017116049114462, 0.6992904193852759, 0.6992904193852759, 0.6992904193852759, 0.6992904193852759, 0.6992904193852759, 0.6992904193852759, 0.6992904193852759, 0.6992904193852759, 0.6991141969897481, 0.6989273519450643, 0.6987518627100472, 0.6986239639816714, 0.6985637111252132, 0.6985637111252132, 0.6985637111252132, 0.6982600215100139, 0.6982600215100139]}],                        {\"template\": {\"data\": {\"bar\": [{\"error_x\": {\"color\": \"#2a3f5f\"}, \"error_y\": {\"color\": \"#2a3f5f\"}, \"marker\": {\"line\": {\"color\": \"#E5ECF6\", \"width\": 0.5}}, \"type\": \"bar\"}], \"barpolar\": [{\"marker\": {\"line\": {\"color\": \"#E5ECF6\", \"width\": 0.5}}, \"type\": \"barpolar\"}], \"carpet\": [{\"aaxis\": {\"endlinecolor\": \"#2a3f5f\", \"gridcolor\": \"white\", \"linecolor\": \"white\", \"minorgridcolor\": \"white\", \"startlinecolor\": \"#2a3f5f\"}, \"baxis\": {\"endlinecolor\": \"#2a3f5f\", \"gridcolor\": \"white\", \"linecolor\": \"white\", \"minorgridcolor\": \"white\", \"startlinecolor\": \"#2a3f5f\"}, \"type\": \"carpet\"}], \"choropleth\": [{\"colorbar\": {\"outlinewidth\": 0, \"ticks\": \"\"}, \"type\": \"choropleth\"}], \"contour\": [{\"colorbar\": {\"outlinewidth\": 0, \"ticks\": \"\"}, \"colorscale\": [[0.0, \"#0d0887\"], [0.1111111111111111, \"#46039f\"], [0.2222222222222222, \"#7201a8\"], [0.3333333333333333, \"#9c179e\"], [0.4444444444444444, \"#bd3786\"], [0.5555555555555556, \"#d8576b\"], [0.6666666666666666, \"#ed7953\"], [0.7777777777777778, \"#fb9f3a\"], [0.8888888888888888, \"#fdca26\"], [1.0, \"#f0f921\"]], \"type\": \"contour\"}], \"contourcarpet\": [{\"colorbar\": {\"outlinewidth\": 0, \"ticks\": \"\"}, \"type\": \"contourcarpet\"}], \"heatmap\": [{\"colorbar\": {\"outlinewidth\": 0, \"ticks\": \"\"}, \"colorscale\": [[0.0, \"#0d0887\"], [0.1111111111111111, \"#46039f\"], [0.2222222222222222, \"#7201a8\"], [0.3333333333333333, \"#9c179e\"], [0.4444444444444444, \"#bd3786\"], [0.5555555555555556, \"#d8576b\"], [0.6666666666666666, \"#ed7953\"], [0.7777777777777778, \"#fb9f3a\"], [0.8888888888888888, \"#fdca26\"], [1.0, \"#f0f921\"]], \"type\": \"heatmap\"}], \"heatmapgl\": [{\"colorbar\": {\"outlinewidth\": 0, \"ticks\": \"\"}, \"colorscale\": [[0.0, \"#0d0887\"], [0.1111111111111111, \"#46039f\"], [0.2222222222222222, \"#7201a8\"], [0.3333333333333333, \"#9c179e\"], [0.4444444444444444, \"#bd3786\"], [0.5555555555555556, \"#d8576b\"], [0.6666666666666666, \"#ed7953\"], [0.7777777777777778, \"#fb9f3a\"], [0.8888888888888888, \"#fdca26\"], [1.0, \"#f0f921\"]], \"type\": \"heatmapgl\"}], \"histogram\": [{\"marker\": {\"colorbar\": {\"outlinewidth\": 0, \"ticks\": \"\"}}, \"type\": \"histogram\"}], \"histogram2d\": [{\"colorbar\": {\"outlinewidth\": 0, \"ticks\": \"\"}, \"colorscale\": [[0.0, \"#0d0887\"], [0.1111111111111111, \"#46039f\"], [0.2222222222222222, \"#7201a8\"], [0.3333333333333333, \"#9c179e\"], [0.4444444444444444, \"#bd3786\"], [0.5555555555555556, \"#d8576b\"], [0.6666666666666666, \"#ed7953\"], [0.7777777777777778, \"#fb9f3a\"], [0.8888888888888888, \"#fdca26\"], [1.0, \"#f0f921\"]], \"type\": \"histogram2d\"}], \"histogram2dcontour\": [{\"colorbar\": {\"outlinewidth\": 0, \"ticks\": \"\"}, \"colorscale\": [[0.0, \"#0d0887\"], [0.1111111111111111, \"#46039f\"], [0.2222222222222222, \"#7201a8\"], [0.3333333333333333, \"#9c179e\"], [0.4444444444444444, \"#bd3786\"], [0.5555555555555556, \"#d8576b\"], [0.6666666666666666, \"#ed7953\"], [0.7777777777777778, \"#fb9f3a\"], [0.8888888888888888, \"#fdca26\"], [1.0, \"#f0f921\"]], \"type\": \"histogram2dcontour\"}], \"mesh3d\": [{\"colorbar\": {\"outlinewidth\": 0, \"ticks\": \"\"}, \"type\": \"mesh3d\"}], \"parcoords\": [{\"line\": {\"colorbar\": {\"outlinewidth\": 0, \"ticks\": \"\"}}, \"type\": \"parcoords\"}], \"pie\": [{\"automargin\": true, \"type\": \"pie\"}], \"scatter\": [{\"marker\": {\"colorbar\": {\"outlinewidth\": 0, \"ticks\": \"\"}}, \"type\": \"scatter\"}], \"scatter3d\": [{\"line\": {\"colorbar\": {\"outlinewidth\": 0, \"ticks\": \"\"}}, \"marker\": {\"colorbar\": {\"outlinewidth\": 0, \"ticks\": \"\"}}, \"type\": \"scatter3d\"}], \"scattercarpet\": [{\"marker\": {\"colorbar\": {\"outlinewidth\": 0, \"ticks\": \"\"}}, \"type\": \"scattercarpet\"}], \"scattergeo\": [{\"marker\": {\"colorbar\": {\"outlinewidth\": 0, \"ticks\": \"\"}}, \"type\": \"scattergeo\"}], \"scattergl\": [{\"marker\": {\"colorbar\": {\"outlinewidth\": 0, \"ticks\": \"\"}}, \"type\": \"scattergl\"}], \"scattermapbox\": [{\"marker\": {\"colorbar\": {\"outlinewidth\": 0, \"ticks\": \"\"}}, \"type\": \"scattermapbox\"}], \"scatterpolar\": [{\"marker\": {\"colorbar\": {\"outlinewidth\": 0, \"ticks\": \"\"}}, \"type\": \"scatterpolar\"}], \"scatterpolargl\": [{\"marker\": {\"colorbar\": {\"outlinewidth\": 0, \"ticks\": \"\"}}, \"type\": \"scatterpolargl\"}], \"scatterternary\": [{\"marker\": {\"colorbar\": {\"outlinewidth\": 0, \"ticks\": \"\"}}, \"type\": \"scatterternary\"}], \"surface\": [{\"colorbar\": {\"outlinewidth\": 0, \"ticks\": \"\"}, \"colorscale\": [[0.0, \"#0d0887\"], [0.1111111111111111, \"#46039f\"], [0.2222222222222222, \"#7201a8\"], [0.3333333333333333, \"#9c179e\"], [0.4444444444444444, \"#bd3786\"], [0.5555555555555556, \"#d8576b\"], [0.6666666666666666, \"#ed7953\"], [0.7777777777777778, \"#fb9f3a\"], [0.8888888888888888, \"#fdca26\"], [1.0, \"#f0f921\"]], \"type\": \"surface\"}], \"table\": [{\"cells\": {\"fill\": {\"color\": \"#EBF0F8\"}, \"line\": {\"color\": \"white\"}}, \"header\": {\"fill\": {\"color\": \"#C8D4E3\"}, \"line\": {\"color\": \"white\"}}, \"type\": \"table\"}]}, \"layout\": {\"annotationdefaults\": {\"arrowcolor\": \"#2a3f5f\", \"arrowhead\": 0, \"arrowwidth\": 1}, \"autotypenumbers\": \"strict\", \"coloraxis\": {\"colorbar\": {\"outlinewidth\": 0, \"ticks\": \"\"}}, \"colorscale\": {\"diverging\": [[0, \"#8e0152\"], [0.1, \"#c51b7d\"], [0.2, \"#de77ae\"], [0.3, \"#f1b6da\"], [0.4, \"#fde0ef\"], [0.5, \"#f7f7f7\"], [0.6, \"#e6f5d0\"], [0.7, \"#b8e186\"], [0.8, \"#7fbc41\"], [0.9, \"#4d9221\"], [1, \"#276419\"]], \"sequential\": [[0.0, \"#0d0887\"], [0.1111111111111111, \"#46039f\"], [0.2222222222222222, \"#7201a8\"], [0.3333333333333333, \"#9c179e\"], [0.4444444444444444, \"#bd3786\"], [0.5555555555555556, \"#d8576b\"], [0.6666666666666666, \"#ed7953\"], [0.7777777777777778, \"#fb9f3a\"], [0.8888888888888888, \"#fdca26\"], [1.0, \"#f0f921\"]], \"sequentialminus\": [[0.0, \"#0d0887\"], [0.1111111111111111, \"#46039f\"], [0.2222222222222222, \"#7201a8\"], [0.3333333333333333, \"#9c179e\"], [0.4444444444444444, \"#bd3786\"], [0.5555555555555556, \"#d8576b\"], [0.6666666666666666, \"#ed7953\"], [0.7777777777777778, \"#fb9f3a\"], [0.8888888888888888, \"#fdca26\"], [1.0, \"#f0f921\"]]}, \"colorway\": [\"#636efa\", \"#EF553B\", \"#00cc96\", \"#ab63fa\", \"#FFA15A\", \"#19d3f3\", \"#FF6692\", \"#B6E880\", \"#FF97FF\", \"#FECB52\"], \"font\": {\"color\": \"#2a3f5f\"}, \"geo\": {\"bgcolor\": \"white\", \"lakecolor\": \"white\", \"landcolor\": \"#E5ECF6\", \"showlakes\": true, \"showland\": true, \"subunitcolor\": \"white\"}, \"hoverlabel\": {\"align\": \"left\"}, \"hovermode\": \"closest\", \"mapbox\": {\"style\": \"light\"}, \"paper_bgcolor\": \"white\", \"plot_bgcolor\": \"#E5ECF6\", \"polar\": {\"angularaxis\": {\"gridcolor\": \"white\", \"linecolor\": \"white\", \"ticks\": \"\"}, \"bgcolor\": \"#E5ECF6\", \"radialaxis\": {\"gridcolor\": \"white\", \"linecolor\": \"white\", \"ticks\": \"\"}}, \"scene\": {\"xaxis\": {\"backgroundcolor\": \"#E5ECF6\", \"gridcolor\": \"white\", \"gridwidth\": 2, \"linecolor\": \"white\", \"showbackground\": true, \"ticks\": \"\", \"zerolinecolor\": \"white\"}, \"yaxis\": {\"backgroundcolor\": \"#E5ECF6\", \"gridcolor\": \"white\", \"gridwidth\": 2, \"linecolor\": \"white\", \"showbackground\": true, \"ticks\": \"\", \"zerolinecolor\": \"white\"}, \"zaxis\": {\"backgroundcolor\": \"#E5ECF6\", \"gridcolor\": \"white\", \"gridwidth\": 2, \"linecolor\": \"white\", \"showbackground\": true, \"ticks\": \"\", \"zerolinecolor\": \"white\"}}, \"shapedefaults\": {\"line\": {\"color\": \"#2a3f5f\"}}, \"ternary\": {\"aaxis\": {\"gridcolor\": \"white\", \"linecolor\": \"white\", \"ticks\": \"\"}, \"baxis\": {\"gridcolor\": \"white\", \"linecolor\": \"white\", \"ticks\": \"\"}, \"bgcolor\": \"#E5ECF6\", \"caxis\": {\"gridcolor\": \"white\", \"linecolor\": \"white\", \"ticks\": \"\"}}, \"title\": {\"x\": 0.05}, \"xaxis\": {\"automargin\": true, \"gridcolor\": \"white\", \"linecolor\": \"white\", \"ticks\": \"\", \"title\": {\"standoff\": 15}, \"zerolinecolor\": \"white\", \"zerolinewidth\": 2}, \"yaxis\": {\"automargin\": true, \"gridcolor\": \"white\", \"linecolor\": \"white\", \"ticks\": \"\", \"title\": {\"standoff\": 15}, \"zerolinecolor\": \"white\", \"zerolinewidth\": 2}}}, \"title\": {\"text\": \"Optimization History Plot\"}, \"xaxis\": {\"title\": {\"text\": \"#Trials\"}}, \"yaxis\": {\"title\": {\"text\": \"Objective Value\"}}},                        {\"responsive\": true}                    ).then(function(){\n",
       "                            \n",
       "var gd = document.getElementById('66dbc4a1-ceea-4f83-9025-8f4c100184ad');\n",
       "var x = new MutationObserver(function (mutations, observer) {{\n",
       "        var display = window.getComputedStyle(gd).display;\n",
       "        if (!display || display === 'none') {{\n",
       "            console.log([gd, 'removed!']);\n",
       "            Plotly.purge(gd);\n",
       "            observer.disconnect();\n",
       "        }}\n",
       "}});\n",
       "\n",
       "// Listen for the removal of the full notebook cells\n",
       "var notebookContainer = gd.closest('#notebook-container');\n",
       "if (notebookContainer) {{\n",
       "    x.observe(notebookContainer, {childList: true});\n",
       "}}\n",
       "\n",
       "// Listen for the clearing of the current output cell\n",
       "var outputEl = gd.closest('.output');\n",
       "if (outputEl) {{\n",
       "    x.observe(outputEl, {childList: true});\n",
       "}}\n",
       "\n",
       "                        })                };                });            </script>        </div>"
      ]
     },
     "metadata": {},
     "output_type": "display_data"
    }
   ],
   "source": [
    "#plot_optimization_histor: shows the scores from all trials as well as the best score so far at each point.\n",
    "optuna.visualization.plot_optimization_history(study)"
   ]
  },
  {
   "cell_type": "code",
   "execution_count": 8,
   "metadata": {
    "execution": {
     "iopub.execute_input": "2022-06-04T20:58:22.302773Z",
     "iopub.status.busy": "2022-06-04T20:58:22.302225Z",
     "iopub.status.idle": "2022-06-04T20:58:22.348344Z",
     "shell.execute_reply": "2022-06-04T20:58:22.347799Z",
     "shell.execute_reply.started": "2022-06-04T20:16:47.473231Z"
    },
    "papermill": {
     "duration": 0.080062,
     "end_time": "2022-06-04T20:58:22.348453",
     "exception": false,
     "start_time": "2022-06-04T20:58:22.268391",
     "status": "completed"
    },
    "tags": []
   },
   "outputs": [
    {
     "data": {
      "text/html": [
       "<div>                            <div id=\"87340558-6d75-4011-b624-019845bb3560\" class=\"plotly-graph-div\" style=\"height:525px; width:100%;\"></div>            <script type=\"text/javascript\">                require([\"plotly\"], function(Plotly) {                    window.PLOTLYENV=window.PLOTLYENV || {};                                    if (document.getElementById(\"87340558-6d75-4011-b624-019845bb3560\")) {                    Plotly.newPlot(                        \"87340558-6d75-4011-b624-019845bb3560\",                        [{\"dimensions\": [{\"label\": \"Objective Value\", \"range\": [0.6982600215100139, 0.7122660786862711], \"values\": [0.7122660786862711, 0.7017116049114462, 0.702229356941937, 0.6992904193852759, 0.7090548461489452, 0.7020921592490991, 0.7075874472309801, 0.7044533350041138, 0.7003750794832, 0.6996245148447716, 0.7007740391600251, 0.6991141969897481, 0.6989273519450643, 0.6987518627100472, 0.6986239639816714, 0.6985637111252132, 0.698634212783899, 0.6990625268963145, 0.6982600215100139, 0.7004106728593765]}, {\"label\": \"alpha\", \"range\": [0.010464934632562822, 8.422816641413203], \"values\": [0.21187056065297036, 0.12032459070247384, 0.04495259811817069, 1.4309258286804851, 8.422816641413203, 0.9743376376323518, 7.538362367800765, 3.8781702715090556, 0.0980742084826737, 0.013116742535647787, 1.0393962540197244, 0.01146008140455173, 1.1979300999563511, 0.010464934632562822, 0.4203925287035287, 0.402566316033456, 0.45660390777384097, 0.3117933282958691, 0.037490266214095305, 0.03206617697238632]}, {\"label\": \"colsample_bytree\", \"range\": [0.24284460948798375, 0.9975006969819412], \"values\": [0.47952588987255984, 0.5775365343700496, 0.9069405924448317, 0.9851061089225766, 0.24284460948798375, 0.34358464474083206, 0.6475219104112571, 0.4499011595327882, 0.3264288134976166, 0.9367029766472197, 0.7581676227057426, 0.9975006969819412, 0.9816586075536732, 0.8308086646391357, 0.8259357654247372, 0.8012493138417882, 0.7359335947815051, 0.8445005525350079, 0.6952356940618502, 0.6494579477708748]}, {\"label\": \"lambda\", \"range\": [1.1034170867152987e-08, 6.24814172253296], \"values\": [0.00010545779009505479, 0.00025089875473915946, 7.538431833896211e-06, 5.250087130258407e-06, 0.0038316394312051176, 0.0003399284171269997, 6.24814172253296, 2.3930768877183984e-06, 0.4803112720791934, 6.245876585878281e-08, 1.1034170867152987e-08, 1.7258533459230472e-08, 1.653599787540466e-07, 3.268061206481809e-08, 1.8661920104016937e-07, 3.0248086736399903e-07, 1.3457048545663045e-06, 2.915998383968674e-07, 2.9193514677158114e-05, 0.015857624957397107]}, {\"label\": \"learning_rate\", \"range\": [0.011962310686583296, 0.07729284434572192], \"values\": [0.05195085272826953, 0.07729284434572192, 0.07728375335078388, 0.06251610916977142, 0.048507710747031835, 0.01821162639268017, 0.0641688300979165, 0.011962310686583296, 0.07410244191672528, 0.0723612599593154, 0.029158163725552723, 0.06010841199384105, 0.060447541697188065, 0.03623966178357429, 0.036087274062563145, 0.034523889931332534, 0.03631880031910773, 0.02446152706328949, 0.039802844302637114, 0.042967798477006526]}, {\"label\": \"max_depth\", \"range\": [2, 15], \"values\": [2, 14, 15, 11, 3, 8, 4, 11, 6, 9, 13, 10, 11, 11, 12, 13, 13, 15, 13, 7]}, {\"label\": \"min_child_weight\", \"range\": [55.88260673224424, 929.4909855122394], \"values\": [195.47451947284634, 55.88260673224424, 72.5976507340261, 266.57723741449325, 594.9486337959893, 185.60826890300442, 216.43183960610742, 110.93940314637516, 418.71258764493444, 165.58957642391812, 929.4909855122394, 418.3033527271548, 441.62828036691985, 657.2747009840198, 693.7997346158645, 753.6641831815462, 855.527219575326, 768.8093292114135, 730.7930557677373, 925.4721199742112]}, {\"label\": \"subsample\", \"range\": [0.36434742795579345, 0.9950018585176996], \"values\": [0.5602922191370104, 0.8309369882567488, 0.751107791947296, 0.6151631070784156, 0.5050944561750277, 0.7800086468142229, 0.9038234631508684, 0.4790501939039644, 0.6350023371315985, 0.5875108427494995, 0.36434742795579345, 0.6554906889769498, 0.7002962578592645, 0.721444912625484, 0.9684555857906337, 0.9900494398052899, 0.9950018585176996, 0.9888218622123179, 0.9164605438407302, 0.8897926159459756]}], \"labelangle\": 30, \"labelside\": \"bottom\", \"line\": {\"color\": [0.7122660786862711, 0.7017116049114462, 0.702229356941937, 0.6992904193852759, 0.7090548461489452, 0.7020921592490991, 0.7075874472309801, 0.7044533350041138, 0.7003750794832, 0.6996245148447716, 0.7007740391600251, 0.6991141969897481, 0.6989273519450643, 0.6987518627100472, 0.6986239639816714, 0.6985637111252132, 0.698634212783899, 0.6990625268963145, 0.6982600215100139, 0.7004106728593765], \"colorbar\": {\"title\": {\"text\": \"Objective Value\"}}, \"colorscale\": [[0.0, \"rgb(247,251,255)\"], [0.125, \"rgb(222,235,247)\"], [0.25, \"rgb(198,219,239)\"], [0.375, \"rgb(158,202,225)\"], [0.5, \"rgb(107,174,214)\"], [0.625, \"rgb(66,146,198)\"], [0.75, \"rgb(33,113,181)\"], [0.875, \"rgb(8,81,156)\"], [1.0, \"rgb(8,48,107)\"]], \"reversescale\": true, \"showscale\": true}, \"type\": \"parcoords\"}],                        {\"template\": {\"data\": {\"bar\": [{\"error_x\": {\"color\": \"#2a3f5f\"}, \"error_y\": {\"color\": \"#2a3f5f\"}, \"marker\": {\"line\": {\"color\": \"#E5ECF6\", \"width\": 0.5}}, \"type\": \"bar\"}], \"barpolar\": [{\"marker\": {\"line\": {\"color\": \"#E5ECF6\", \"width\": 0.5}}, \"type\": \"barpolar\"}], \"carpet\": [{\"aaxis\": {\"endlinecolor\": \"#2a3f5f\", \"gridcolor\": \"white\", \"linecolor\": \"white\", \"minorgridcolor\": \"white\", \"startlinecolor\": \"#2a3f5f\"}, \"baxis\": {\"endlinecolor\": \"#2a3f5f\", \"gridcolor\": \"white\", \"linecolor\": \"white\", \"minorgridcolor\": \"white\", \"startlinecolor\": \"#2a3f5f\"}, \"type\": \"carpet\"}], \"choropleth\": [{\"colorbar\": {\"outlinewidth\": 0, \"ticks\": \"\"}, \"type\": \"choropleth\"}], \"contour\": [{\"colorbar\": {\"outlinewidth\": 0, \"ticks\": \"\"}, \"colorscale\": [[0.0, \"#0d0887\"], [0.1111111111111111, \"#46039f\"], [0.2222222222222222, \"#7201a8\"], [0.3333333333333333, \"#9c179e\"], [0.4444444444444444, \"#bd3786\"], [0.5555555555555556, \"#d8576b\"], [0.6666666666666666, \"#ed7953\"], [0.7777777777777778, \"#fb9f3a\"], [0.8888888888888888, \"#fdca26\"], [1.0, \"#f0f921\"]], \"type\": \"contour\"}], \"contourcarpet\": [{\"colorbar\": {\"outlinewidth\": 0, \"ticks\": \"\"}, \"type\": \"contourcarpet\"}], \"heatmap\": [{\"colorbar\": {\"outlinewidth\": 0, \"ticks\": \"\"}, \"colorscale\": [[0.0, \"#0d0887\"], [0.1111111111111111, \"#46039f\"], [0.2222222222222222, \"#7201a8\"], [0.3333333333333333, \"#9c179e\"], [0.4444444444444444, \"#bd3786\"], [0.5555555555555556, \"#d8576b\"], [0.6666666666666666, \"#ed7953\"], [0.7777777777777778, \"#fb9f3a\"], [0.8888888888888888, \"#fdca26\"], [1.0, \"#f0f921\"]], \"type\": \"heatmap\"}], \"heatmapgl\": [{\"colorbar\": {\"outlinewidth\": 0, \"ticks\": \"\"}, \"colorscale\": [[0.0, \"#0d0887\"], [0.1111111111111111, \"#46039f\"], [0.2222222222222222, \"#7201a8\"], [0.3333333333333333, \"#9c179e\"], [0.4444444444444444, \"#bd3786\"], [0.5555555555555556, \"#d8576b\"], [0.6666666666666666, \"#ed7953\"], [0.7777777777777778, \"#fb9f3a\"], [0.8888888888888888, \"#fdca26\"], [1.0, \"#f0f921\"]], \"type\": \"heatmapgl\"}], \"histogram\": [{\"marker\": {\"colorbar\": {\"outlinewidth\": 0, \"ticks\": \"\"}}, \"type\": \"histogram\"}], \"histogram2d\": [{\"colorbar\": {\"outlinewidth\": 0, \"ticks\": \"\"}, \"colorscale\": [[0.0, \"#0d0887\"], [0.1111111111111111, \"#46039f\"], [0.2222222222222222, \"#7201a8\"], [0.3333333333333333, \"#9c179e\"], [0.4444444444444444, \"#bd3786\"], [0.5555555555555556, \"#d8576b\"], [0.6666666666666666, \"#ed7953\"], [0.7777777777777778, \"#fb9f3a\"], [0.8888888888888888, \"#fdca26\"], [1.0, \"#f0f921\"]], \"type\": \"histogram2d\"}], \"histogram2dcontour\": [{\"colorbar\": {\"outlinewidth\": 0, \"ticks\": \"\"}, \"colorscale\": [[0.0, \"#0d0887\"], [0.1111111111111111, \"#46039f\"], [0.2222222222222222, \"#7201a8\"], [0.3333333333333333, \"#9c179e\"], [0.4444444444444444, \"#bd3786\"], [0.5555555555555556, \"#d8576b\"], [0.6666666666666666, \"#ed7953\"], [0.7777777777777778, \"#fb9f3a\"], [0.8888888888888888, \"#fdca26\"], [1.0, \"#f0f921\"]], \"type\": \"histogram2dcontour\"}], \"mesh3d\": [{\"colorbar\": {\"outlinewidth\": 0, \"ticks\": \"\"}, \"type\": \"mesh3d\"}], \"parcoords\": [{\"line\": {\"colorbar\": {\"outlinewidth\": 0, \"ticks\": \"\"}}, \"type\": \"parcoords\"}], \"pie\": [{\"automargin\": true, \"type\": \"pie\"}], \"scatter\": [{\"marker\": {\"colorbar\": {\"outlinewidth\": 0, \"ticks\": \"\"}}, \"type\": \"scatter\"}], \"scatter3d\": [{\"line\": {\"colorbar\": {\"outlinewidth\": 0, \"ticks\": \"\"}}, \"marker\": {\"colorbar\": {\"outlinewidth\": 0, \"ticks\": \"\"}}, \"type\": \"scatter3d\"}], \"scattercarpet\": [{\"marker\": {\"colorbar\": {\"outlinewidth\": 0, \"ticks\": \"\"}}, \"type\": \"scattercarpet\"}], \"scattergeo\": [{\"marker\": {\"colorbar\": {\"outlinewidth\": 0, \"ticks\": \"\"}}, \"type\": \"scattergeo\"}], \"scattergl\": [{\"marker\": {\"colorbar\": {\"outlinewidth\": 0, \"ticks\": \"\"}}, \"type\": \"scattergl\"}], \"scattermapbox\": [{\"marker\": {\"colorbar\": {\"outlinewidth\": 0, \"ticks\": \"\"}}, \"type\": \"scattermapbox\"}], \"scatterpolar\": [{\"marker\": {\"colorbar\": {\"outlinewidth\": 0, \"ticks\": \"\"}}, \"type\": \"scatterpolar\"}], \"scatterpolargl\": [{\"marker\": {\"colorbar\": {\"outlinewidth\": 0, \"ticks\": \"\"}}, \"type\": \"scatterpolargl\"}], \"scatterternary\": [{\"marker\": {\"colorbar\": {\"outlinewidth\": 0, \"ticks\": \"\"}}, \"type\": \"scatterternary\"}], \"surface\": [{\"colorbar\": {\"outlinewidth\": 0, \"ticks\": \"\"}, \"colorscale\": [[0.0, \"#0d0887\"], [0.1111111111111111, \"#46039f\"], [0.2222222222222222, \"#7201a8\"], [0.3333333333333333, \"#9c179e\"], [0.4444444444444444, \"#bd3786\"], [0.5555555555555556, \"#d8576b\"], [0.6666666666666666, \"#ed7953\"], [0.7777777777777778, \"#fb9f3a\"], [0.8888888888888888, \"#fdca26\"], [1.0, \"#f0f921\"]], \"type\": \"surface\"}], \"table\": [{\"cells\": {\"fill\": {\"color\": \"#EBF0F8\"}, \"line\": {\"color\": \"white\"}}, \"header\": {\"fill\": {\"color\": \"#C8D4E3\"}, \"line\": {\"color\": \"white\"}}, \"type\": \"table\"}]}, \"layout\": {\"annotationdefaults\": {\"arrowcolor\": \"#2a3f5f\", \"arrowhead\": 0, \"arrowwidth\": 1}, \"autotypenumbers\": \"strict\", \"coloraxis\": {\"colorbar\": {\"outlinewidth\": 0, \"ticks\": \"\"}}, \"colorscale\": {\"diverging\": [[0, \"#8e0152\"], [0.1, \"#c51b7d\"], [0.2, \"#de77ae\"], [0.3, \"#f1b6da\"], [0.4, \"#fde0ef\"], [0.5, \"#f7f7f7\"], [0.6, \"#e6f5d0\"], [0.7, \"#b8e186\"], [0.8, \"#7fbc41\"], [0.9, \"#4d9221\"], [1, \"#276419\"]], \"sequential\": [[0.0, \"#0d0887\"], [0.1111111111111111, \"#46039f\"], [0.2222222222222222, \"#7201a8\"], [0.3333333333333333, \"#9c179e\"], [0.4444444444444444, \"#bd3786\"], [0.5555555555555556, \"#d8576b\"], [0.6666666666666666, \"#ed7953\"], [0.7777777777777778, \"#fb9f3a\"], [0.8888888888888888, \"#fdca26\"], [1.0, \"#f0f921\"]], \"sequentialminus\": [[0.0, \"#0d0887\"], [0.1111111111111111, \"#46039f\"], [0.2222222222222222, \"#7201a8\"], [0.3333333333333333, \"#9c179e\"], [0.4444444444444444, \"#bd3786\"], [0.5555555555555556, \"#d8576b\"], [0.6666666666666666, \"#ed7953\"], [0.7777777777777778, \"#fb9f3a\"], [0.8888888888888888, \"#fdca26\"], [1.0, \"#f0f921\"]]}, \"colorway\": [\"#636efa\", \"#EF553B\", \"#00cc96\", \"#ab63fa\", \"#FFA15A\", \"#19d3f3\", \"#FF6692\", \"#B6E880\", \"#FF97FF\", \"#FECB52\"], \"font\": {\"color\": \"#2a3f5f\"}, \"geo\": {\"bgcolor\": \"white\", \"lakecolor\": \"white\", \"landcolor\": \"#E5ECF6\", \"showlakes\": true, \"showland\": true, \"subunitcolor\": \"white\"}, \"hoverlabel\": {\"align\": \"left\"}, \"hovermode\": \"closest\", \"mapbox\": {\"style\": \"light\"}, \"paper_bgcolor\": \"white\", \"plot_bgcolor\": \"#E5ECF6\", \"polar\": {\"angularaxis\": {\"gridcolor\": \"white\", \"linecolor\": \"white\", \"ticks\": \"\"}, \"bgcolor\": \"#E5ECF6\", \"radialaxis\": {\"gridcolor\": \"white\", \"linecolor\": \"white\", \"ticks\": \"\"}}, \"scene\": {\"xaxis\": {\"backgroundcolor\": \"#E5ECF6\", \"gridcolor\": \"white\", \"gridwidth\": 2, \"linecolor\": \"white\", \"showbackground\": true, \"ticks\": \"\", \"zerolinecolor\": \"white\"}, \"yaxis\": {\"backgroundcolor\": \"#E5ECF6\", \"gridcolor\": \"white\", \"gridwidth\": 2, \"linecolor\": \"white\", \"showbackground\": true, \"ticks\": \"\", \"zerolinecolor\": \"white\"}, \"zaxis\": {\"backgroundcolor\": \"#E5ECF6\", \"gridcolor\": \"white\", \"gridwidth\": 2, \"linecolor\": \"white\", \"showbackground\": true, \"ticks\": \"\", \"zerolinecolor\": \"white\"}}, \"shapedefaults\": {\"line\": {\"color\": \"#2a3f5f\"}}, \"ternary\": {\"aaxis\": {\"gridcolor\": \"white\", \"linecolor\": \"white\", \"ticks\": \"\"}, \"baxis\": {\"gridcolor\": \"white\", \"linecolor\": \"white\", \"ticks\": \"\"}, \"bgcolor\": \"#E5ECF6\", \"caxis\": {\"gridcolor\": \"white\", \"linecolor\": \"white\", \"ticks\": \"\"}}, \"title\": {\"x\": 0.05}, \"xaxis\": {\"automargin\": true, \"gridcolor\": \"white\", \"linecolor\": \"white\", \"ticks\": \"\", \"title\": {\"standoff\": 15}, \"zerolinecolor\": \"white\", \"zerolinewidth\": 2}, \"yaxis\": {\"automargin\": true, \"gridcolor\": \"white\", \"linecolor\": \"white\", \"ticks\": \"\", \"title\": {\"standoff\": 15}, \"zerolinecolor\": \"white\", \"zerolinewidth\": 2}}}, \"title\": {\"text\": \"Parallel Coordinate Plot\"}},                        {\"responsive\": true}                    ).then(function(){\n",
       "                            \n",
       "var gd = document.getElementById('87340558-6d75-4011-b624-019845bb3560');\n",
       "var x = new MutationObserver(function (mutations, observer) {{\n",
       "        var display = window.getComputedStyle(gd).display;\n",
       "        if (!display || display === 'none') {{\n",
       "            console.log([gd, 'removed!']);\n",
       "            Plotly.purge(gd);\n",
       "            observer.disconnect();\n",
       "        }}\n",
       "}});\n",
       "\n",
       "// Listen for the removal of the full notebook cells\n",
       "var notebookContainer = gd.closest('#notebook-container');\n",
       "if (notebookContainer) {{\n",
       "    x.observe(notebookContainer, {childList: true});\n",
       "}}\n",
       "\n",
       "// Listen for the clearing of the current output cell\n",
       "var outputEl = gd.closest('.output');\n",
       "if (outputEl) {{\n",
       "    x.observe(outputEl, {childList: true});\n",
       "}}\n",
       "\n",
       "                        })                };                });            </script>        </div>"
      ]
     },
     "metadata": {},
     "output_type": "display_data"
    }
   ],
   "source": [
    "#plot_parallel_coordinate: interactively visualizes the hyperparameters and scores\n",
    "optuna.visualization.plot_parallel_coordinate(study)"
   ]
  },
  {
   "cell_type": "code",
   "execution_count": 9,
   "metadata": {
    "execution": {
     "iopub.execute_input": "2022-06-04T20:58:22.409136Z",
     "iopub.status.busy": "2022-06-04T20:58:22.408285Z",
     "iopub.status.idle": "2022-06-04T20:58:22.663758Z",
     "shell.execute_reply": "2022-06-04T20:58:22.662918Z",
     "shell.execute_reply.started": "2022-06-04T20:16:53.209916Z"
    },
    "papermill": {
     "duration": 0.289077,
     "end_time": "2022-06-04T20:58:22.663865",
     "exception": false,
     "start_time": "2022-06-04T20:58:22.374788",
     "status": "completed"
    },
    "tags": []
   },
   "outputs": [
    {
     "data": {
      "text/html": [
       "<div>                            <div id=\"153b6e07-e62f-4829-abab-302798e943f4\" class=\"plotly-graph-div\" style=\"height:525px; width:2100px;\"></div>            <script type=\"text/javascript\">                require([\"plotly\"], function(Plotly) {                    window.PLOTLYENV=window.PLOTLYENV || {};                                    if (document.getElementById(\"153b6e07-e62f-4829-abab-302798e943f4\")) {                    Plotly.newPlot(                        \"153b6e07-e62f-4829-abab-302798e943f4\",                        [{\"marker\": {\"color\": [0, 1, 2, 3, 4, 5, 6, 7, 8, 9, 10, 11, 12, 13, 14, 15, 16, 17, 18, 19], \"colorbar\": {\"title\": {\"text\": \"#Trials\"}, \"x\": 1.0, \"xpad\": 40}, \"colorscale\": [[0.0, \"rgb(247,251,255)\"], [0.125, \"rgb(222,235,247)\"], [0.25, \"rgb(198,219,239)\"], [0.375, \"rgb(158,202,225)\"], [0.5, \"rgb(107,174,214)\"], [0.625, \"rgb(66,146,198)\"], [0.75, \"rgb(33,113,181)\"], [0.875, \"rgb(8,81,156)\"], [1.0, \"rgb(8,48,107)\"]], \"line\": {\"color\": \"Grey\", \"width\": 0.5}, \"showscale\": true}, \"mode\": \"markers\", \"showlegend\": false, \"type\": \"scatter\", \"x\": [0.21187056065297036, 0.12032459070247384, 0.04495259811817069, 1.4309258286804851, 8.422816641413203, 0.9743376376323518, 7.538362367800765, 3.8781702715090556, 0.0980742084826737, 0.013116742535647787, 1.0393962540197244, 0.01146008140455173, 1.1979300999563511, 0.010464934632562822, 0.4203925287035287, 0.402566316033456, 0.45660390777384097, 0.3117933282958691, 0.037490266214095305, 0.03206617697238632], \"xaxis\": \"x\", \"y\": [0.7122660786862711, 0.7017116049114462, 0.702229356941937, 0.6992904193852759, 0.7090548461489452, 0.7020921592490991, 0.7075874472309801, 0.7044533350041138, 0.7003750794832, 0.6996245148447716, 0.7007740391600251, 0.6991141969897481, 0.6989273519450643, 0.6987518627100472, 0.6986239639816714, 0.6985637111252132, 0.698634212783899, 0.6990625268963145, 0.6982600215100139, 0.7004106728593765], \"yaxis\": \"y\"}, {\"marker\": {\"color\": [0, 1, 2, 3, 4, 5, 6, 7, 8, 9, 10, 11, 12, 13, 14, 15, 16, 17, 18, 19], \"colorbar\": {\"title\": {\"text\": \"#Trials\"}, \"x\": 1.0, \"xpad\": 40}, \"colorscale\": [[0.0, \"rgb(247,251,255)\"], [0.125, \"rgb(222,235,247)\"], [0.25, \"rgb(198,219,239)\"], [0.375, \"rgb(158,202,225)\"], [0.5, \"rgb(107,174,214)\"], [0.625, \"rgb(66,146,198)\"], [0.75, \"rgb(33,113,181)\"], [0.875, \"rgb(8,81,156)\"], [1.0, \"rgb(8,48,107)\"]], \"line\": {\"color\": \"Grey\", \"width\": 0.5}, \"showscale\": false}, \"mode\": \"markers\", \"showlegend\": false, \"type\": \"scatter\", \"x\": [0.47952588987255984, 0.5775365343700496, 0.9069405924448317, 0.9851061089225766, 0.24284460948798375, 0.34358464474083206, 0.6475219104112571, 0.4499011595327882, 0.3264288134976166, 0.9367029766472197, 0.7581676227057426, 0.9975006969819412, 0.9816586075536732, 0.8308086646391357, 0.8259357654247372, 0.8012493138417882, 0.7359335947815051, 0.8445005525350079, 0.6952356940618502, 0.6494579477708748], \"xaxis\": \"x2\", \"y\": [0.7122660786862711, 0.7017116049114462, 0.702229356941937, 0.6992904193852759, 0.7090548461489452, 0.7020921592490991, 0.7075874472309801, 0.7044533350041138, 0.7003750794832, 0.6996245148447716, 0.7007740391600251, 0.6991141969897481, 0.6989273519450643, 0.6987518627100472, 0.6986239639816714, 0.6985637111252132, 0.698634212783899, 0.6990625268963145, 0.6982600215100139, 0.7004106728593765], \"yaxis\": \"y2\"}, {\"marker\": {\"color\": [0, 1, 2, 3, 4, 5, 6, 7, 8, 9, 10, 11, 12, 13, 14, 15, 16, 17, 18, 19], \"colorbar\": {\"title\": {\"text\": \"#Trials\"}, \"x\": 1.0, \"xpad\": 40}, \"colorscale\": [[0.0, \"rgb(247,251,255)\"], [0.125, \"rgb(222,235,247)\"], [0.25, \"rgb(198,219,239)\"], [0.375, \"rgb(158,202,225)\"], [0.5, \"rgb(107,174,214)\"], [0.625, \"rgb(66,146,198)\"], [0.75, \"rgb(33,113,181)\"], [0.875, \"rgb(8,81,156)\"], [1.0, \"rgb(8,48,107)\"]], \"line\": {\"color\": \"Grey\", \"width\": 0.5}, \"showscale\": false}, \"mode\": \"markers\", \"showlegend\": false, \"type\": \"scatter\", \"x\": [0.00010545779009505479, 0.00025089875473915946, 7.538431833896211e-06, 5.250087130258407e-06, 0.0038316394312051176, 0.0003399284171269997, 6.24814172253296, 2.3930768877183984e-06, 0.4803112720791934, 6.245876585878281e-08, 1.1034170867152987e-08, 1.7258533459230472e-08, 1.653599787540466e-07, 3.268061206481809e-08, 1.8661920104016937e-07, 3.0248086736399903e-07, 1.3457048545663045e-06, 2.915998383968674e-07, 2.9193514677158114e-05, 0.015857624957397107], \"xaxis\": \"x3\", \"y\": [0.7122660786862711, 0.7017116049114462, 0.702229356941937, 0.6992904193852759, 0.7090548461489452, 0.7020921592490991, 0.7075874472309801, 0.7044533350041138, 0.7003750794832, 0.6996245148447716, 0.7007740391600251, 0.6991141969897481, 0.6989273519450643, 0.6987518627100472, 0.6986239639816714, 0.6985637111252132, 0.698634212783899, 0.6990625268963145, 0.6982600215100139, 0.7004106728593765], \"yaxis\": \"y3\"}, {\"marker\": {\"color\": [0, 1, 2, 3, 4, 5, 6, 7, 8, 9, 10, 11, 12, 13, 14, 15, 16, 17, 18, 19], \"colorbar\": {\"title\": {\"text\": \"#Trials\"}, \"x\": 1.0, \"xpad\": 40}, \"colorscale\": [[0.0, \"rgb(247,251,255)\"], [0.125, \"rgb(222,235,247)\"], [0.25, \"rgb(198,219,239)\"], [0.375, \"rgb(158,202,225)\"], [0.5, \"rgb(107,174,214)\"], [0.625, \"rgb(66,146,198)\"], [0.75, \"rgb(33,113,181)\"], [0.875, \"rgb(8,81,156)\"], [1.0, \"rgb(8,48,107)\"]], \"line\": {\"color\": \"Grey\", \"width\": 0.5}, \"showscale\": false}, \"mode\": \"markers\", \"showlegend\": false, \"type\": \"scatter\", \"x\": [0.05195085272826953, 0.07729284434572192, 0.07728375335078388, 0.06251610916977142, 0.048507710747031835, 0.01821162639268017, 0.0641688300979165, 0.011962310686583296, 0.07410244191672528, 0.0723612599593154, 0.029158163725552723, 0.06010841199384105, 0.060447541697188065, 0.03623966178357429, 0.036087274062563145, 0.034523889931332534, 0.03631880031910773, 0.02446152706328949, 0.039802844302637114, 0.042967798477006526], \"xaxis\": \"x4\", \"y\": [0.7122660786862711, 0.7017116049114462, 0.702229356941937, 0.6992904193852759, 0.7090548461489452, 0.7020921592490991, 0.7075874472309801, 0.7044533350041138, 0.7003750794832, 0.6996245148447716, 0.7007740391600251, 0.6991141969897481, 0.6989273519450643, 0.6987518627100472, 0.6986239639816714, 0.6985637111252132, 0.698634212783899, 0.6990625268963145, 0.6982600215100139, 0.7004106728593765], \"yaxis\": \"y4\"}, {\"marker\": {\"color\": [0, 1, 2, 3, 4, 5, 6, 7, 8, 9, 10, 11, 12, 13, 14, 15, 16, 17, 18, 19], \"colorbar\": {\"title\": {\"text\": \"#Trials\"}, \"x\": 1.0, \"xpad\": 40}, \"colorscale\": [[0.0, \"rgb(247,251,255)\"], [0.125, \"rgb(222,235,247)\"], [0.25, \"rgb(198,219,239)\"], [0.375, \"rgb(158,202,225)\"], [0.5, \"rgb(107,174,214)\"], [0.625, \"rgb(66,146,198)\"], [0.75, \"rgb(33,113,181)\"], [0.875, \"rgb(8,81,156)\"], [1.0, \"rgb(8,48,107)\"]], \"line\": {\"color\": \"Grey\", \"width\": 0.5}, \"showscale\": false}, \"mode\": \"markers\", \"showlegend\": false, \"type\": \"scatter\", \"x\": [2, 14, 15, 11, 3, 8, 4, 11, 6, 9, 13, 10, 11, 11, 12, 13, 13, 15, 13, 7], \"xaxis\": \"x5\", \"y\": [0.7122660786862711, 0.7017116049114462, 0.702229356941937, 0.6992904193852759, 0.7090548461489452, 0.7020921592490991, 0.7075874472309801, 0.7044533350041138, 0.7003750794832, 0.6996245148447716, 0.7007740391600251, 0.6991141969897481, 0.6989273519450643, 0.6987518627100472, 0.6986239639816714, 0.6985637111252132, 0.698634212783899, 0.6990625268963145, 0.6982600215100139, 0.7004106728593765], \"yaxis\": \"y5\"}, {\"marker\": {\"color\": [0, 1, 2, 3, 4, 5, 6, 7, 8, 9, 10, 11, 12, 13, 14, 15, 16, 17, 18, 19], \"colorbar\": {\"title\": {\"text\": \"#Trials\"}, \"x\": 1.0, \"xpad\": 40}, \"colorscale\": [[0.0, \"rgb(247,251,255)\"], [0.125, \"rgb(222,235,247)\"], [0.25, \"rgb(198,219,239)\"], [0.375, \"rgb(158,202,225)\"], [0.5, \"rgb(107,174,214)\"], [0.625, \"rgb(66,146,198)\"], [0.75, \"rgb(33,113,181)\"], [0.875, \"rgb(8,81,156)\"], [1.0, \"rgb(8,48,107)\"]], \"line\": {\"color\": \"Grey\", \"width\": 0.5}, \"showscale\": false}, \"mode\": \"markers\", \"showlegend\": false, \"type\": \"scatter\", \"x\": [195.47451947284634, 55.88260673224424, 72.5976507340261, 266.57723741449325, 594.9486337959893, 185.60826890300442, 216.43183960610742, 110.93940314637516, 418.71258764493444, 165.58957642391812, 929.4909855122394, 418.3033527271548, 441.62828036691985, 657.2747009840198, 693.7997346158645, 753.6641831815462, 855.527219575326, 768.8093292114135, 730.7930557677373, 925.4721199742112], \"xaxis\": \"x6\", \"y\": [0.7122660786862711, 0.7017116049114462, 0.702229356941937, 0.6992904193852759, 0.7090548461489452, 0.7020921592490991, 0.7075874472309801, 0.7044533350041138, 0.7003750794832, 0.6996245148447716, 0.7007740391600251, 0.6991141969897481, 0.6989273519450643, 0.6987518627100472, 0.6986239639816714, 0.6985637111252132, 0.698634212783899, 0.6990625268963145, 0.6982600215100139, 0.7004106728593765], \"yaxis\": \"y6\"}, {\"marker\": {\"color\": [0, 1, 2, 3, 4, 5, 6, 7, 8, 9, 10, 11, 12, 13, 14, 15, 16, 17, 18, 19], \"colorbar\": {\"title\": {\"text\": \"#Trials\"}, \"x\": 1.0, \"xpad\": 40}, \"colorscale\": [[0.0, \"rgb(247,251,255)\"], [0.125, \"rgb(222,235,247)\"], [0.25, \"rgb(198,219,239)\"], [0.375, \"rgb(158,202,225)\"], [0.5, \"rgb(107,174,214)\"], [0.625, \"rgb(66,146,198)\"], [0.75, \"rgb(33,113,181)\"], [0.875, \"rgb(8,81,156)\"], [1.0, \"rgb(8,48,107)\"]], \"line\": {\"color\": \"Grey\", \"width\": 0.5}, \"showscale\": false}, \"mode\": \"markers\", \"showlegend\": false, \"type\": \"scatter\", \"x\": [0.5602922191370104, 0.8309369882567488, 0.751107791947296, 0.6151631070784156, 0.5050944561750277, 0.7800086468142229, 0.9038234631508684, 0.4790501939039644, 0.6350023371315985, 0.5875108427494995, 0.36434742795579345, 0.6554906889769498, 0.7002962578592645, 0.721444912625484, 0.9684555857906337, 0.9900494398052899, 0.9950018585176996, 0.9888218622123179, 0.9164605438407302, 0.8897926159459756], \"xaxis\": \"x7\", \"y\": [0.7122660786862711, 0.7017116049114462, 0.702229356941937, 0.6992904193852759, 0.7090548461489452, 0.7020921592490991, 0.7075874472309801, 0.7044533350041138, 0.7003750794832, 0.6996245148447716, 0.7007740391600251, 0.6991141969897481, 0.6989273519450643, 0.6987518627100472, 0.6986239639816714, 0.6985637111252132, 0.698634212783899, 0.6990625268963145, 0.6982600215100139, 0.7004106728593765], \"yaxis\": \"y7\"}],                        {\"template\": {\"data\": {\"bar\": [{\"error_x\": {\"color\": \"#2a3f5f\"}, \"error_y\": {\"color\": \"#2a3f5f\"}, \"marker\": {\"line\": {\"color\": \"#E5ECF6\", \"width\": 0.5}}, \"type\": \"bar\"}], \"barpolar\": [{\"marker\": {\"line\": {\"color\": \"#E5ECF6\", \"width\": 0.5}}, \"type\": \"barpolar\"}], \"carpet\": [{\"aaxis\": {\"endlinecolor\": \"#2a3f5f\", \"gridcolor\": \"white\", \"linecolor\": \"white\", \"minorgridcolor\": \"white\", \"startlinecolor\": \"#2a3f5f\"}, \"baxis\": {\"endlinecolor\": \"#2a3f5f\", \"gridcolor\": \"white\", \"linecolor\": \"white\", \"minorgridcolor\": \"white\", \"startlinecolor\": \"#2a3f5f\"}, \"type\": \"carpet\"}], \"choropleth\": [{\"colorbar\": {\"outlinewidth\": 0, \"ticks\": \"\"}, \"type\": \"choropleth\"}], \"contour\": [{\"colorbar\": {\"outlinewidth\": 0, \"ticks\": \"\"}, \"colorscale\": [[0.0, \"#0d0887\"], [0.1111111111111111, \"#46039f\"], [0.2222222222222222, \"#7201a8\"], [0.3333333333333333, \"#9c179e\"], [0.4444444444444444, \"#bd3786\"], [0.5555555555555556, \"#d8576b\"], [0.6666666666666666, \"#ed7953\"], [0.7777777777777778, \"#fb9f3a\"], [0.8888888888888888, \"#fdca26\"], [1.0, \"#f0f921\"]], \"type\": \"contour\"}], \"contourcarpet\": [{\"colorbar\": {\"outlinewidth\": 0, \"ticks\": \"\"}, \"type\": \"contourcarpet\"}], \"heatmap\": [{\"colorbar\": {\"outlinewidth\": 0, \"ticks\": \"\"}, \"colorscale\": [[0.0, \"#0d0887\"], [0.1111111111111111, \"#46039f\"], [0.2222222222222222, \"#7201a8\"], [0.3333333333333333, \"#9c179e\"], [0.4444444444444444, \"#bd3786\"], [0.5555555555555556, \"#d8576b\"], [0.6666666666666666, \"#ed7953\"], [0.7777777777777778, \"#fb9f3a\"], [0.8888888888888888, \"#fdca26\"], [1.0, \"#f0f921\"]], \"type\": \"heatmap\"}], \"heatmapgl\": [{\"colorbar\": {\"outlinewidth\": 0, \"ticks\": \"\"}, \"colorscale\": [[0.0, \"#0d0887\"], [0.1111111111111111, \"#46039f\"], [0.2222222222222222, \"#7201a8\"], [0.3333333333333333, \"#9c179e\"], [0.4444444444444444, \"#bd3786\"], [0.5555555555555556, \"#d8576b\"], [0.6666666666666666, \"#ed7953\"], [0.7777777777777778, \"#fb9f3a\"], [0.8888888888888888, \"#fdca26\"], [1.0, \"#f0f921\"]], \"type\": \"heatmapgl\"}], \"histogram\": [{\"marker\": {\"colorbar\": {\"outlinewidth\": 0, \"ticks\": \"\"}}, \"type\": \"histogram\"}], \"histogram2d\": [{\"colorbar\": {\"outlinewidth\": 0, \"ticks\": \"\"}, \"colorscale\": [[0.0, \"#0d0887\"], [0.1111111111111111, \"#46039f\"], [0.2222222222222222, \"#7201a8\"], [0.3333333333333333, \"#9c179e\"], [0.4444444444444444, \"#bd3786\"], [0.5555555555555556, \"#d8576b\"], [0.6666666666666666, \"#ed7953\"], [0.7777777777777778, \"#fb9f3a\"], [0.8888888888888888, \"#fdca26\"], [1.0, \"#f0f921\"]], \"type\": \"histogram2d\"}], \"histogram2dcontour\": [{\"colorbar\": {\"outlinewidth\": 0, \"ticks\": \"\"}, \"colorscale\": [[0.0, \"#0d0887\"], [0.1111111111111111, \"#46039f\"], [0.2222222222222222, \"#7201a8\"], [0.3333333333333333, \"#9c179e\"], [0.4444444444444444, \"#bd3786\"], [0.5555555555555556, \"#d8576b\"], [0.6666666666666666, \"#ed7953\"], [0.7777777777777778, \"#fb9f3a\"], [0.8888888888888888, \"#fdca26\"], [1.0, \"#f0f921\"]], \"type\": \"histogram2dcontour\"}], \"mesh3d\": [{\"colorbar\": {\"outlinewidth\": 0, \"ticks\": \"\"}, \"type\": \"mesh3d\"}], \"parcoords\": [{\"line\": {\"colorbar\": {\"outlinewidth\": 0, \"ticks\": \"\"}}, \"type\": \"parcoords\"}], \"pie\": [{\"automargin\": true, \"type\": \"pie\"}], \"scatter\": [{\"marker\": {\"colorbar\": {\"outlinewidth\": 0, \"ticks\": \"\"}}, \"type\": \"scatter\"}], \"scatter3d\": [{\"line\": {\"colorbar\": {\"outlinewidth\": 0, \"ticks\": \"\"}}, \"marker\": {\"colorbar\": {\"outlinewidth\": 0, \"ticks\": \"\"}}, \"type\": \"scatter3d\"}], \"scattercarpet\": [{\"marker\": {\"colorbar\": {\"outlinewidth\": 0, \"ticks\": \"\"}}, \"type\": \"scattercarpet\"}], \"scattergeo\": [{\"marker\": {\"colorbar\": {\"outlinewidth\": 0, \"ticks\": \"\"}}, \"type\": \"scattergeo\"}], \"scattergl\": [{\"marker\": {\"colorbar\": {\"outlinewidth\": 0, \"ticks\": \"\"}}, \"type\": \"scattergl\"}], \"scattermapbox\": [{\"marker\": {\"colorbar\": {\"outlinewidth\": 0, \"ticks\": \"\"}}, \"type\": \"scattermapbox\"}], \"scatterpolar\": [{\"marker\": {\"colorbar\": {\"outlinewidth\": 0, \"ticks\": \"\"}}, \"type\": \"scatterpolar\"}], \"scatterpolargl\": [{\"marker\": {\"colorbar\": {\"outlinewidth\": 0, \"ticks\": \"\"}}, \"type\": \"scatterpolargl\"}], \"scatterternary\": [{\"marker\": {\"colorbar\": {\"outlinewidth\": 0, \"ticks\": \"\"}}, \"type\": \"scatterternary\"}], \"surface\": [{\"colorbar\": {\"outlinewidth\": 0, \"ticks\": \"\"}, \"colorscale\": [[0.0, \"#0d0887\"], [0.1111111111111111, \"#46039f\"], [0.2222222222222222, \"#7201a8\"], [0.3333333333333333, \"#9c179e\"], [0.4444444444444444, \"#bd3786\"], [0.5555555555555556, \"#d8576b\"], [0.6666666666666666, \"#ed7953\"], [0.7777777777777778, \"#fb9f3a\"], [0.8888888888888888, \"#fdca26\"], [1.0, \"#f0f921\"]], \"type\": \"surface\"}], \"table\": [{\"cells\": {\"fill\": {\"color\": \"#EBF0F8\"}, \"line\": {\"color\": \"white\"}}, \"header\": {\"fill\": {\"color\": \"#C8D4E3\"}, \"line\": {\"color\": \"white\"}}, \"type\": \"table\"}]}, \"layout\": {\"annotationdefaults\": {\"arrowcolor\": \"#2a3f5f\", \"arrowhead\": 0, \"arrowwidth\": 1}, \"autotypenumbers\": \"strict\", \"coloraxis\": {\"colorbar\": {\"outlinewidth\": 0, \"ticks\": \"\"}}, \"colorscale\": {\"diverging\": [[0, \"#8e0152\"], [0.1, \"#c51b7d\"], [0.2, \"#de77ae\"], [0.3, \"#f1b6da\"], [0.4, \"#fde0ef\"], [0.5, \"#f7f7f7\"], [0.6, \"#e6f5d0\"], [0.7, \"#b8e186\"], [0.8, \"#7fbc41\"], [0.9, \"#4d9221\"], [1, \"#276419\"]], \"sequential\": [[0.0, \"#0d0887\"], [0.1111111111111111, \"#46039f\"], [0.2222222222222222, \"#7201a8\"], [0.3333333333333333, \"#9c179e\"], [0.4444444444444444, \"#bd3786\"], [0.5555555555555556, \"#d8576b\"], [0.6666666666666666, \"#ed7953\"], [0.7777777777777778, \"#fb9f3a\"], [0.8888888888888888, \"#fdca26\"], [1.0, \"#f0f921\"]], \"sequentialminus\": [[0.0, \"#0d0887\"], [0.1111111111111111, \"#46039f\"], [0.2222222222222222, \"#7201a8\"], [0.3333333333333333, \"#9c179e\"], [0.4444444444444444, \"#bd3786\"], [0.5555555555555556, \"#d8576b\"], [0.6666666666666666, \"#ed7953\"], [0.7777777777777778, \"#fb9f3a\"], [0.8888888888888888, \"#fdca26\"], [1.0, \"#f0f921\"]]}, \"colorway\": [\"#636efa\", \"#EF553B\", \"#00cc96\", \"#ab63fa\", \"#FFA15A\", \"#19d3f3\", \"#FF6692\", \"#B6E880\", \"#FF97FF\", \"#FECB52\"], \"font\": {\"color\": \"#2a3f5f\"}, \"geo\": {\"bgcolor\": \"white\", \"lakecolor\": \"white\", \"landcolor\": \"#E5ECF6\", \"showlakes\": true, \"showland\": true, \"subunitcolor\": \"white\"}, \"hoverlabel\": {\"align\": \"left\"}, \"hovermode\": \"closest\", \"mapbox\": {\"style\": \"light\"}, \"paper_bgcolor\": \"white\", \"plot_bgcolor\": \"#E5ECF6\", \"polar\": {\"angularaxis\": {\"gridcolor\": \"white\", \"linecolor\": \"white\", \"ticks\": \"\"}, \"bgcolor\": \"#E5ECF6\", \"radialaxis\": {\"gridcolor\": \"white\", \"linecolor\": \"white\", \"ticks\": \"\"}}, \"scene\": {\"xaxis\": {\"backgroundcolor\": \"#E5ECF6\", \"gridcolor\": \"white\", \"gridwidth\": 2, \"linecolor\": \"white\", \"showbackground\": true, \"ticks\": \"\", \"zerolinecolor\": \"white\"}, \"yaxis\": {\"backgroundcolor\": \"#E5ECF6\", \"gridcolor\": \"white\", \"gridwidth\": 2, \"linecolor\": \"white\", \"showbackground\": true, \"ticks\": \"\", \"zerolinecolor\": \"white\"}, \"zaxis\": {\"backgroundcolor\": \"#E5ECF6\", \"gridcolor\": \"white\", \"gridwidth\": 2, \"linecolor\": \"white\", \"showbackground\": true, \"ticks\": \"\", \"zerolinecolor\": \"white\"}}, \"shapedefaults\": {\"line\": {\"color\": \"#2a3f5f\"}}, \"ternary\": {\"aaxis\": {\"gridcolor\": \"white\", \"linecolor\": \"white\", \"ticks\": \"\"}, \"baxis\": {\"gridcolor\": \"white\", \"linecolor\": \"white\", \"ticks\": \"\"}, \"bgcolor\": \"#E5ECF6\", \"caxis\": {\"gridcolor\": \"white\", \"linecolor\": \"white\", \"ticks\": \"\"}}, \"title\": {\"x\": 0.05}, \"xaxis\": {\"automargin\": true, \"gridcolor\": \"white\", \"linecolor\": \"white\", \"ticks\": \"\", \"title\": {\"standoff\": 15}, \"zerolinecolor\": \"white\", \"zerolinewidth\": 2}, \"yaxis\": {\"automargin\": true, \"gridcolor\": \"white\", \"linecolor\": \"white\", \"ticks\": \"\", \"title\": {\"standoff\": 15}, \"zerolinecolor\": \"white\", \"zerolinewidth\": 2}}}, \"title\": {\"text\": \"Slice Plot\"}, \"width\": 2100, \"xaxis\": {\"anchor\": \"y\", \"domain\": [0.0, 0.1183673469387755], \"title\": {\"text\": \"alpha\"}, \"type\": \"log\"}, \"xaxis2\": {\"anchor\": \"y2\", \"domain\": [0.14693877551020407, 0.26530612244897955], \"title\": {\"text\": \"colsample_bytree\"}}, \"xaxis3\": {\"anchor\": \"y3\", \"domain\": [0.29387755102040813, 0.4122448979591836], \"title\": {\"text\": \"lambda\"}, \"type\": \"log\"}, \"xaxis4\": {\"anchor\": \"y4\", \"domain\": [0.4408163265306122, 0.5591836734693877], \"title\": {\"text\": \"learning_rate\"}}, \"xaxis5\": {\"anchor\": \"y5\", \"domain\": [0.5877551020408163, 0.7061224489795918], \"title\": {\"text\": \"max_depth\"}}, \"xaxis6\": {\"anchor\": \"y6\", \"domain\": [0.7346938775510204, 0.8530612244897959], \"title\": {\"text\": \"min_child_weight\"}}, \"xaxis7\": {\"anchor\": \"y7\", \"domain\": [0.8816326530612244, 0.9999999999999999], \"title\": {\"text\": \"subsample\"}}, \"yaxis\": {\"anchor\": \"x\", \"domain\": [0.0, 1.0], \"title\": {\"text\": \"Objective Value\"}}, \"yaxis2\": {\"anchor\": \"x2\", \"domain\": [0.0, 1.0], \"matches\": \"y\", \"showticklabels\": false}, \"yaxis3\": {\"anchor\": \"x3\", \"domain\": [0.0, 1.0], \"matches\": \"y\", \"showticklabels\": false}, \"yaxis4\": {\"anchor\": \"x4\", \"domain\": [0.0, 1.0], \"matches\": \"y\", \"showticklabels\": false}, \"yaxis5\": {\"anchor\": \"x5\", \"domain\": [0.0, 1.0], \"matches\": \"y\", \"showticklabels\": false}, \"yaxis6\": {\"anchor\": \"x6\", \"domain\": [0.0, 1.0], \"matches\": \"y\", \"showticklabels\": false}, \"yaxis7\": {\"anchor\": \"x7\", \"domain\": [0.0, 1.0], \"matches\": \"y\", \"showticklabels\": false}},                        {\"responsive\": true}                    ).then(function(){\n",
       "                            \n",
       "var gd = document.getElementById('153b6e07-e62f-4829-abab-302798e943f4');\n",
       "var x = new MutationObserver(function (mutations, observer) {{\n",
       "        var display = window.getComputedStyle(gd).display;\n",
       "        if (!display || display === 'none') {{\n",
       "            console.log([gd, 'removed!']);\n",
       "            Plotly.purge(gd);\n",
       "            observer.disconnect();\n",
       "        }}\n",
       "}});\n",
       "\n",
       "// Listen for the removal of the full notebook cells\n",
       "var notebookContainer = gd.closest('#notebook-container');\n",
       "if (notebookContainer) {{\n",
       "    x.observe(notebookContainer, {childList: true});\n",
       "}}\n",
       "\n",
       "// Listen for the clearing of the current output cell\n",
       "var outputEl = gd.closest('.output');\n",
       "if (outputEl) {{\n",
       "    x.observe(outputEl, {childList: true});\n",
       "}}\n",
       "\n",
       "                        })                };                });            </script>        </div>"
      ]
     },
     "metadata": {},
     "output_type": "display_data"
    }
   ],
   "source": [
    "'''plot_slice: shows the evolution of the search. You can see where in the hyperparameter space your search\n",
    "went and which parts of the space were explored more.'''\n",
    "optuna.visualization.plot_slice(study)"
   ]
  },
  {
   "cell_type": "code",
   "execution_count": 10,
   "metadata": {
    "execution": {
     "iopub.execute_input": "2022-06-04T20:58:22.734673Z",
     "iopub.status.busy": "2022-06-04T20:58:22.733791Z",
     "iopub.status.idle": "2022-06-04T20:58:23.206768Z",
     "shell.execute_reply": "2022-06-04T20:58:23.207201Z",
     "shell.execute_reply.started": "2022-06-04T20:17:59.627584Z"
    },
    "papermill": {
     "duration": 0.515706,
     "end_time": "2022-06-04T20:58:23.207323",
     "exception": false,
     "start_time": "2022-06-04T20:58:22.691617",
     "status": "completed"
    },
    "tags": []
   },
   "outputs": [
    {
     "data": {
      "text/html": [
       "<div>                            <div id=\"871f844b-1f3c-4cc2-b14a-e72792ae5597\" class=\"plotly-graph-div\" style=\"height:525px; width:100%;\"></div>            <script type=\"text/javascript\">                require([\"plotly\"], function(Plotly) {                    window.PLOTLYENV=window.PLOTLYENV || {};                                    if (document.getElementById(\"871f844b-1f3c-4cc2-b14a-e72792ae5597\")) {                    Plotly.newPlot(                        \"871f844b-1f3c-4cc2-b14a-e72792ae5597\",                        [{\"type\": \"scatter\", \"xaxis\": \"x\", \"yaxis\": \"y\"}, {\"colorbar\": {\"title\": {\"text\": \"Objective Value\"}}, \"colorscale\": [[0, \"rgb(220,220,220)\"], [0.30000000000000004, \"rgb(106,137,247)\"], [0.4, \"rgb(90,120,245)\"], [0.5, \"rgb(70,100,245)\"], [0.65, \"rgb(40,60,190)\"], [1, \"rgb(5,10,172)\"]], \"connectgaps\": true, \"contours\": {\"coloring\": \"heatmap\"}, \"hoverinfo\": \"none\", \"line\": {\"smoothing\": 1.3}, \"showscale\": true, \"type\": \"contour\", \"x\": [0.007489459534161002, 0.010464934632562822, 0.01146008140455173, 0.013116742535647787, 0.03206617697238632, 0.037490266214095305, 0.04495259811817069, 0.0980742084826737, 0.12032459070247384, 0.21187056065297036, 0.3117933282958691, 0.402566316033456, 0.4203925287035287, 0.45660390777384097, 0.9743376376323518, 1.0393962540197244, 1.1979300999563511, 1.4309258286804851, 3.8781702715090556, 7.538362367800765, 8.422816641413203, 11.769103654597123], \"xaxis\": \"x5\", \"y\": [4.027997074846986e-09, 1.1034170867152987e-08, 1.7258533459230472e-08, 3.268061206481809e-08, 6.245876585878281e-08, 1.653599787540466e-07, 1.8661920104016937e-07, 2.915998383968674e-07, 3.0248086736399903e-07, 1.3457048545663045e-06, 2.3930768877183984e-06, 5.250087130258407e-06, 7.538431833896211e-06, 2.9193514677158114e-05, 0.00010545779009505479, 0.00025089875473915946, 0.0003399284171269997, 0.0038316394312051176, 0.015857624957397107, 0.4803112720791934, 6.24814172253296, 17.115966592710407], \"yaxis\": \"y5\", \"z\": [[null, null, null, null, null, null, null, null, null, null, null, null, null, null, null, null, null, null, null, null, null, null], [null, null, null, null, null, null, null, null, null, null, null, null, null, null, null, 0.7007740391600251, null, null, null, null, null, null], [null, null, 0.6991141969897481, null, null, null, null, null, null, null, null, null, null, null, null, null, null, null, null, null, null, null], [null, 0.6987518627100472, null, null, null, null, null, null, null, null, null, null, null, null, null, null, null, null, null, null, null, null], [null, null, null, 0.6996245148447716, null, null, null, null, null, null, null, null, null, null, null, null, null, null, null, null, null, null], [null, null, null, null, null, null, null, null, null, null, null, null, null, null, null, null, 0.6989273519450643, null, null, null, null, null], [null, null, null, null, null, null, null, null, null, null, null, null, 0.6986239639816714, null, null, null, null, null, null, null, null, null], [null, null, null, null, null, null, null, null, null, null, 0.6990625268963145, null, null, null, null, null, null, null, null, null, null, null], [null, null, null, null, null, null, null, null, null, null, null, 0.6985637111252132, null, null, null, null, null, null, null, null, null, null], [null, null, null, null, null, null, null, null, null, null, null, null, null, 0.698634212783899, null, null, null, null, null, null, null, null], [null, null, null, null, null, null, null, null, null, null, null, null, null, null, null, null, null, null, 0.7044533350041138, null, null, null], [null, null, null, null, null, null, null, null, null, null, null, null, null, null, null, null, null, 0.6992904193852759, null, null, null, null], [null, null, null, null, null, null, 0.702229356941937, null, null, null, null, null, null, null, null, null, null, null, null, null, null, null], [null, null, null, null, null, 0.6982600215100139, null, null, null, null, null, null, null, null, null, null, null, null, null, null, null, null], [null, null, null, null, null, null, null, null, null, 0.7122660786862711, null, null, null, null, null, null, null, null, null, null, null, null], [null, null, null, null, null, null, null, null, 0.7017116049114462, null, null, null, null, null, null, null, null, null, null, null, null, null], [null, null, null, null, null, null, null, null, null, null, null, null, null, null, 0.7020921592490991, null, null, null, null, null, null, null], [null, null, null, null, null, null, null, null, null, null, null, null, null, null, null, null, null, null, null, null, 0.7090548461489452, null], [null, null, null, null, 0.7004106728593765, null, null, null, null, null, null, null, null, null, null, null, null, null, null, null, null, null], [null, null, null, null, null, null, null, 0.7003750794832, null, null, null, null, null, null, null, null, null, null, null, null, null, null], [null, null, null, null, null, null, null, null, null, null, null, null, null, null, null, null, null, null, null, 0.7075874472309801, null, null], [null, null, null, null, null, null, null, null, null, null, null, null, null, null, null, null, null, null, null, null, null, null]]}, {\"marker\": {\"color\": \"black\", \"line\": {\"color\": \"Grey\", \"width\": 0.5}}, \"mode\": \"markers\", \"showlegend\": false, \"type\": \"scatter\", \"x\": [0.21187056065297036, 0.12032459070247384, 0.04495259811817069, 1.4309258286804851, 8.422816641413203, 0.9743376376323518, 7.538362367800765, 3.8781702715090556, 0.0980742084826737, 0.013116742535647787, 1.0393962540197244, 0.01146008140455173, 1.1979300999563511, 0.010464934632562822, 0.4203925287035287, 0.402566316033456, 0.45660390777384097, 0.3117933282958691, 0.037490266214095305, 0.03206617697238632], \"xaxis\": \"x5\", \"y\": [0.00010545779009505479, 0.00025089875473915946, 7.538431833896211e-06, 5.250087130258407e-06, 0.0038316394312051176, 0.0003399284171269997, 6.24814172253296, 2.3930768877183984e-06, 0.4803112720791934, 6.245876585878281e-08, 1.1034170867152987e-08, 1.7258533459230472e-08, 1.653599787540466e-07, 3.268061206481809e-08, 1.8661920104016937e-07, 3.0248086736399903e-07, 1.3457048545663045e-06, 2.915998383968674e-07, 2.9193514677158114e-05, 0.015857624957397107], \"yaxis\": \"y5\"}, {\"colorbar\": {\"title\": {\"text\": \"Objective Value\"}}, \"colorscale\": [[0, \"rgb(220,220,220)\"], [0.30000000000000004, \"rgb(106,137,247)\"], [0.4, \"rgb(90,120,245)\"], [0.5, \"rgb(70,100,245)\"], [0.65, \"rgb(40,60,190)\"], [1, \"rgb(5,10,172)\"]], \"connectgaps\": true, \"contours\": {\"coloring\": \"heatmap\"}, \"hoverinfo\": \"none\", \"line\": {\"smoothing\": 1.3}, \"showscale\": false, \"type\": \"contour\", \"x\": [0.007489459534161002, 0.010464934632562822, 0.01146008140455173, 0.013116742535647787, 0.03206617697238632, 0.037490266214095305, 0.04495259811817069, 0.0980742084826737, 0.12032459070247384, 0.21187056065297036, 0.3117933282958691, 0.402566316033456, 0.4203925287035287, 0.45660390777384097, 0.9743376376323518, 1.0393962540197244, 1.1979300999563511, 1.4309258286804851, 3.8781702715090556, 7.538362367800765, 8.422816641413203, 11.769103654597123], \"xaxis\": \"x9\", \"y\": [0.008695784003626365, 0.011962310686583296, 0.01821162639268017, 0.02446152706328949, 0.029158163725552723, 0.034523889931332534, 0.036087274062563145, 0.03623966178357429, 0.03631880031910773, 0.039802844302637114, 0.042967798477006526, 0.048507710747031835, 0.05195085272826953, 0.06010841199384105, 0.060447541697188065, 0.06251610916977142, 0.0641688300979165, 0.0723612599593154, 0.07410244191672528, 0.07728375335078388, 0.07729284434572192, 0.08055937102867886], \"yaxis\": \"y9\", \"z\": [[null, null, null, null, null, null, null, null, null, null, null, null, null, null, null, null, null, null, null, null, null, null], [null, null, null, null, null, null, null, null, null, null, null, null, null, null, null, null, null, null, 0.7044533350041138, null, null, null], [null, null, null, null, null, null, null, null, null, null, null, null, null, null, 0.7020921592490991, null, null, null, null, null, null, null], [null, null, null, null, null, null, null, null, null, null, 0.6990625268963145, null, null, null, null, null, null, null, null, null, null, null], [null, null, null, null, null, null, null, null, null, null, null, null, null, null, null, 0.7007740391600251, null, null, null, null, null, null], [null, null, null, null, null, null, null, null, null, null, null, 0.6985637111252132, null, null, null, null, null, null, null, null, null, null], [null, null, null, null, null, null, null, null, null, null, null, null, 0.6986239639816714, null, null, null, null, null, null, null, null, null], [null, 0.6987518627100472, null, null, null, null, null, null, null, null, null, null, null, null, null, null, null, null, null, null, null, null], [null, null, null, null, null, null, null, null, null, null, null, null, null, 0.698634212783899, null, null, null, null, null, null, null, null], [null, null, null, null, null, 0.6982600215100139, null, null, null, null, null, null, null, null, null, null, null, null, null, null, null, null], [null, null, null, null, 0.7004106728593765, null, null, null, null, null, null, null, null, null, null, null, null, null, null, null, null, null], [null, null, null, null, null, null, null, null, null, null, null, null, null, null, null, null, null, null, null, null, 0.7090548461489452, null], [null, null, null, null, null, null, null, null, null, 0.7122660786862711, null, null, null, null, null, null, null, null, null, null, null, null], [null, null, 0.6991141969897481, null, null, null, null, null, null, null, null, null, null, null, null, null, null, null, null, null, null, null], [null, null, null, null, null, null, null, null, null, null, null, null, null, null, null, null, 0.6989273519450643, null, null, null, null, null], [null, null, null, null, null, null, null, null, null, null, null, null, null, null, null, null, null, 0.6992904193852759, null, null, null, null], [null, null, null, null, null, null, null, null, null, null, null, null, null, null, null, null, null, null, null, 0.7075874472309801, null, null], [null, null, null, 0.6996245148447716, null, null, null, null, null, null, null, null, null, null, null, null, null, null, null, null, null, null], [null, null, null, null, null, null, null, 0.7003750794832, null, null, null, null, null, null, null, null, null, null, null, null, null, null], [null, null, null, null, null, null, 0.702229356941937, null, null, null, null, null, null, null, null, null, null, null, null, null, null, null], [null, null, null, null, null, null, null, null, 0.7017116049114462, null, null, null, null, null, null, null, null, null, null, null, null, null], [null, null, null, null, null, null, null, null, null, null, null, null, null, null, null, null, null, null, null, null, null, null]]}, {\"marker\": {\"color\": \"black\", \"line\": {\"color\": \"Grey\", \"width\": 0.5}}, \"mode\": \"markers\", \"showlegend\": false, \"type\": \"scatter\", \"x\": [0.21187056065297036, 0.12032459070247384, 0.04495259811817069, 1.4309258286804851, 8.422816641413203, 0.9743376376323518, 7.538362367800765, 3.8781702715090556, 0.0980742084826737, 0.013116742535647787, 1.0393962540197244, 0.01146008140455173, 1.1979300999563511, 0.010464934632562822, 0.4203925287035287, 0.402566316033456, 0.45660390777384097, 0.3117933282958691, 0.037490266214095305, 0.03206617697238632], \"xaxis\": \"x9\", \"y\": [0.05195085272826953, 0.07729284434572192, 0.07728375335078388, 0.06251610916977142, 0.048507710747031835, 0.01821162639268017, 0.0641688300979165, 0.011962310686583296, 0.07410244191672528, 0.0723612599593154, 0.029158163725552723, 0.06010841199384105, 0.060447541697188065, 0.03623966178357429, 0.036087274062563145, 0.034523889931332534, 0.03631880031910773, 0.02446152706328949, 0.039802844302637114, 0.042967798477006526], \"yaxis\": \"y9\"}, {\"colorbar\": {\"title\": {\"text\": \"Objective Value\"}}, \"colorscale\": [[0, \"rgb(220,220,220)\"], [0.30000000000000004, \"rgb(106,137,247)\"], [0.4, \"rgb(90,120,245)\"], [0.5, \"rgb(70,100,245)\"], [0.65, \"rgb(40,60,190)\"], [1, \"rgb(5,10,172)\"]], \"connectgaps\": true, \"contours\": {\"coloring\": \"heatmap\"}, \"hoverinfo\": \"none\", \"line\": {\"smoothing\": 1.3}, \"showscale\": false, \"type\": \"contour\", \"x\": [0.007489459534161002, 0.010464934632562822, 0.01146008140455173, 0.013116742535647787, 0.03206617697238632, 0.037490266214095305, 0.04495259811817069, 0.0980742084826737, 0.12032459070247384, 0.21187056065297036, 0.3117933282958691, 0.402566316033456, 0.4203925287035287, 0.45660390777384097, 0.9743376376323518, 1.0393962540197244, 1.1979300999563511, 1.4309258286804851, 3.8781702715090556, 7.538362367800765, 8.422816641413203, 11.769103654597123], \"xaxis\": \"x13\", \"y\": [0.3328147064276981, 0.36434742795579345, 0.4790501939039644, 0.5050944561750277, 0.5602922191370104, 0.5875108427494995, 0.6151631070784156, 0.6350023371315985, 0.6554906889769498, 0.7002962578592645, 0.721444912625484, 0.751107791947296, 0.7800086468142229, 0.8309369882567488, 0.8897926159459756, 0.9038234631508684, 0.9164605438407302, 0.9684555857906337, 0.9888218622123179, 0.9900494398052899, 0.9950018585176996, 1.026534580045795], \"yaxis\": \"y13\", \"z\": [[null, null, null, null, null, null, null, null, null, null, null, null, null, null, null, null, null, null, null, null, null, null], [null, null, null, null, null, null, null, null, null, null, null, null, null, null, null, 0.7007740391600251, null, null, null, null, null, null], [null, null, null, null, null, null, null, null, null, null, null, null, null, null, null, null, null, null, 0.7044533350041138, null, null, null], [null, null, null, null, null, null, null, null, null, null, null, null, null, null, null, null, null, null, null, null, 0.7090548461489452, null], [null, null, null, null, null, null, null, null, null, 0.7122660786862711, null, null, null, null, null, null, null, null, null, null, null, null], [null, null, null, 0.6996245148447716, null, null, null, null, null, null, null, null, null, null, null, null, null, null, null, null, null, null], [null, null, null, null, null, null, null, null, null, null, null, null, null, null, null, null, null, 0.6992904193852759, null, null, null, null], [null, null, null, null, null, null, null, 0.7003750794832, null, null, null, null, null, null, null, null, null, null, null, null, null, null], [null, null, 0.6991141969897481, null, null, null, null, null, null, null, null, null, null, null, null, null, null, null, null, null, null, null], [null, null, null, null, null, null, null, null, null, null, null, null, null, null, null, null, 0.6989273519450643, null, null, null, null, null], [null, 0.6987518627100472, null, null, null, null, null, null, null, null, null, null, null, null, null, null, null, null, null, null, null, null], [null, null, null, null, null, null, 0.702229356941937, null, null, null, null, null, null, null, null, null, null, null, null, null, null, null], [null, null, null, null, null, null, null, null, null, null, null, null, null, null, 0.7020921592490991, null, null, null, null, null, null, null], [null, null, null, null, null, null, null, null, 0.7017116049114462, null, null, null, null, null, null, null, null, null, null, null, null, null], [null, null, null, null, 0.7004106728593765, null, null, null, null, null, null, null, null, null, null, null, null, null, null, null, null, null], [null, null, null, null, null, null, null, null, null, null, null, null, null, null, null, null, null, null, null, 0.7075874472309801, null, null], [null, null, null, null, null, 0.6982600215100139, null, null, null, null, null, null, null, null, null, null, null, null, null, null, null, null], [null, null, null, null, null, null, null, null, null, null, null, null, 0.6986239639816714, null, null, null, null, null, null, null, null, null], [null, null, null, null, null, null, null, null, null, null, 0.6990625268963145, null, null, null, null, null, null, null, null, null, null, null], [null, null, null, null, null, null, null, null, null, null, null, 0.6985637111252132, null, null, null, null, null, null, null, null, null, null], [null, null, null, null, null, null, null, null, null, null, null, null, null, 0.698634212783899, null, null, null, null, null, null, null, null], [null, null, null, null, null, null, null, null, null, null, null, null, null, null, null, null, null, null, null, null, null, null]]}, {\"marker\": {\"color\": \"black\", \"line\": {\"color\": \"Grey\", \"width\": 0.5}}, \"mode\": \"markers\", \"showlegend\": false, \"type\": \"scatter\", \"x\": [0.21187056065297036, 0.12032459070247384, 0.04495259811817069, 1.4309258286804851, 8.422816641413203, 0.9743376376323518, 7.538362367800765, 3.8781702715090556, 0.0980742084826737, 0.013116742535647787, 1.0393962540197244, 0.01146008140455173, 1.1979300999563511, 0.010464934632562822, 0.4203925287035287, 0.402566316033456, 0.45660390777384097, 0.3117933282958691, 0.037490266214095305, 0.03206617697238632], \"xaxis\": \"x13\", \"y\": [0.5602922191370104, 0.8309369882567488, 0.751107791947296, 0.6151631070784156, 0.5050944561750277, 0.7800086468142229, 0.9038234631508684, 0.4790501939039644, 0.6350023371315985, 0.5875108427494995, 0.36434742795579345, 0.6554906889769498, 0.7002962578592645, 0.721444912625484, 0.9684555857906337, 0.9900494398052899, 0.9950018585176996, 0.9888218622123179, 0.9164605438407302, 0.8897926159459756], \"yaxis\": \"y13\"}, {\"colorbar\": {\"title\": {\"text\": \"Objective Value\"}}, \"colorscale\": [[0, \"rgb(220,220,220)\"], [0.30000000000000004, \"rgb(106,137,247)\"], [0.4, \"rgb(90,120,245)\"], [0.5, \"rgb(70,100,245)\"], [0.65, \"rgb(40,60,190)\"], [1, \"rgb(5,10,172)\"]], \"connectgaps\": true, \"contours\": {\"coloring\": \"heatmap\"}, \"hoverinfo\": \"none\", \"line\": {\"smoothing\": 1.3}, \"showscale\": false, \"type\": \"contour\", \"x\": [4.027997074846986e-09, 1.1034170867152987e-08, 1.7258533459230472e-08, 3.268061206481809e-08, 6.245876585878281e-08, 1.653599787540466e-07, 1.8661920104016937e-07, 2.915998383968674e-07, 3.0248086736399903e-07, 1.3457048545663045e-06, 2.3930768877183984e-06, 5.250087130258407e-06, 7.538431833896211e-06, 2.9193514677158114e-05, 0.00010545779009505479, 0.00025089875473915946, 0.0003399284171269997, 0.0038316394312051176, 0.015857624957397107, 0.4803112720791934, 6.24814172253296, 17.115966592710407], \"xaxis\": \"x2\", \"y\": [0.007489459534161002, 0.010464934632562822, 0.01146008140455173, 0.013116742535647787, 0.03206617697238632, 0.037490266214095305, 0.04495259811817069, 0.0980742084826737, 0.12032459070247384, 0.21187056065297036, 0.3117933282958691, 0.402566316033456, 0.4203925287035287, 0.45660390777384097, 0.9743376376323518, 1.0393962540197244, 1.1979300999563511, 1.4309258286804851, 3.8781702715090556, 7.538362367800765, 8.422816641413203, 11.769103654597123], \"yaxis\": \"y2\", \"z\": [[null, null, null, null, null, null, null, null, null, null, null, null, null, null, null, null, null, null, null, null, null, null], [null, null, null, 0.6987518627100472, null, null, null, null, null, null, null, null, null, null, null, null, null, null, null, null, null, null], [null, null, 0.6991141969897481, null, null, null, null, null, null, null, null, null, null, null, null, null, null, null, null, null, null, null], [null, null, null, null, 0.6996245148447716, null, null, null, null, null, null, null, null, null, null, null, null, null, null, null, null, null], [null, null, null, null, null, null, null, null, null, null, null, null, null, null, null, null, null, null, 0.7004106728593765, null, null, null], [null, null, null, null, null, null, null, null, null, null, null, null, null, 0.6982600215100139, null, null, null, null, null, null, null, null], [null, null, null, null, null, null, null, null, null, null, null, null, 0.702229356941937, null, null, null, null, null, null, null, null, null], [null, null, null, null, null, null, null, null, null, null, null, null, null, null, null, null, null, null, null, 0.7003750794832, null, null], [null, null, null, null, null, null, null, null, null, null, null, null, null, null, null, 0.7017116049114462, null, null, null, null, null, null], [null, null, null, null, null, null, null, null, null, null, null, null, null, null, 0.7122660786862711, null, null, null, null, null, null, null], [null, null, null, null, null, null, null, 0.6990625268963145, null, null, null, null, null, null, null, null, null, null, null, null, null, null], [null, null, null, null, null, null, null, null, 0.6985637111252132, null, null, null, null, null, null, null, null, null, null, null, null, null], [null, null, null, null, null, null, 0.6986239639816714, null, null, null, null, null, null, null, null, null, null, null, null, null, null, null], [null, null, null, null, null, null, null, null, null, 0.698634212783899, null, null, null, null, null, null, null, null, null, null, null, null], [null, null, null, null, null, null, null, null, null, null, null, null, null, null, null, null, 0.7020921592490991, null, null, null, null, null], [null, 0.7007740391600251, null, null, null, null, null, null, null, null, null, null, null, null, null, null, null, null, null, null, null, null], [null, null, null, null, null, 0.6989273519450643, null, null, null, null, null, null, null, null, null, null, null, null, null, null, null, null], [null, null, null, null, null, null, null, null, null, null, null, 0.6992904193852759, null, null, null, null, null, null, null, null, null, null], [null, null, null, null, null, null, null, null, null, null, 0.7044533350041138, null, null, null, null, null, null, null, null, null, null, null], [null, null, null, null, null, null, null, null, null, null, null, null, null, null, null, null, null, null, null, null, 0.7075874472309801, null], [null, null, null, null, null, null, null, null, null, null, null, null, null, null, null, null, null, 0.7090548461489452, null, null, null, null], [null, null, null, null, null, null, null, null, null, null, null, null, null, null, null, null, null, null, null, null, null, null]]}, {\"marker\": {\"color\": \"black\", \"line\": {\"color\": \"Grey\", \"width\": 0.5}}, \"mode\": \"markers\", \"showlegend\": false, \"type\": \"scatter\", \"x\": [0.00010545779009505479, 0.00025089875473915946, 7.538431833896211e-06, 5.250087130258407e-06, 0.0038316394312051176, 0.0003399284171269997, 6.24814172253296, 2.3930768877183984e-06, 0.4803112720791934, 6.245876585878281e-08, 1.1034170867152987e-08, 1.7258533459230472e-08, 1.653599787540466e-07, 3.268061206481809e-08, 1.8661920104016937e-07, 3.0248086736399903e-07, 1.3457048545663045e-06, 2.915998383968674e-07, 2.9193514677158114e-05, 0.015857624957397107], \"xaxis\": \"x2\", \"y\": [0.21187056065297036, 0.12032459070247384, 0.04495259811817069, 1.4309258286804851, 8.422816641413203, 0.9743376376323518, 7.538362367800765, 3.8781702715090556, 0.0980742084826737, 0.013116742535647787, 1.0393962540197244, 0.01146008140455173, 1.1979300999563511, 0.010464934632562822, 0.4203925287035287, 0.402566316033456, 0.45660390777384097, 0.3117933282958691, 0.037490266214095305, 0.03206617697238632], \"yaxis\": \"y2\"}, {\"type\": \"scatter\", \"xaxis\": \"x6\", \"yaxis\": \"y6\"}, {\"colorbar\": {\"title\": {\"text\": \"Objective Value\"}}, \"colorscale\": [[0, \"rgb(220,220,220)\"], [0.30000000000000004, \"rgb(106,137,247)\"], [0.4, \"rgb(90,120,245)\"], [0.5, \"rgb(70,100,245)\"], [0.65, \"rgb(40,60,190)\"], [1, \"rgb(5,10,172)\"]], \"connectgaps\": true, \"contours\": {\"coloring\": \"heatmap\"}, \"hoverinfo\": \"none\", \"line\": {\"smoothing\": 1.3}, \"showscale\": false, \"type\": \"contour\", \"x\": [4.027997074846986e-09, 1.1034170867152987e-08, 1.7258533459230472e-08, 3.268061206481809e-08, 6.245876585878281e-08, 1.653599787540466e-07, 1.8661920104016937e-07, 2.915998383968674e-07, 3.0248086736399903e-07, 1.3457048545663045e-06, 2.3930768877183984e-06, 5.250087130258407e-06, 7.538431833896211e-06, 2.9193514677158114e-05, 0.00010545779009505479, 0.00025089875473915946, 0.0003399284171269997, 0.0038316394312051176, 0.015857624957397107, 0.4803112720791934, 6.24814172253296, 17.115966592710407], \"xaxis\": \"x10\", \"y\": [0.008695784003626365, 0.011962310686583296, 0.01821162639268017, 0.02446152706328949, 0.029158163725552723, 0.034523889931332534, 0.036087274062563145, 0.03623966178357429, 0.03631880031910773, 0.039802844302637114, 0.042967798477006526, 0.048507710747031835, 0.05195085272826953, 0.06010841199384105, 0.060447541697188065, 0.06251610916977142, 0.0641688300979165, 0.0723612599593154, 0.07410244191672528, 0.07728375335078388, 0.07729284434572192, 0.08055937102867886], \"yaxis\": \"y10\", \"z\": [[null, null, null, null, null, null, null, null, null, null, null, null, null, null, null, null, null, null, null, null, null, null], [null, null, null, null, null, null, null, null, null, null, 0.7044533350041138, null, null, null, null, null, null, null, null, null, null, null], [null, null, null, null, null, null, null, null, null, null, null, null, null, null, null, null, 0.7020921592490991, null, null, null, null, null], [null, null, null, null, null, null, null, 0.6990625268963145, null, null, null, null, null, null, null, null, null, null, null, null, null, null], [null, 0.7007740391600251, null, null, null, null, null, null, null, null, null, null, null, null, null, null, null, null, null, null, null, null], [null, null, null, null, null, null, null, null, 0.6985637111252132, null, null, null, null, null, null, null, null, null, null, null, null, null], [null, null, null, null, null, null, 0.6986239639816714, null, null, null, null, null, null, null, null, null, null, null, null, null, null, null], [null, null, null, 0.6987518627100472, null, null, null, null, null, null, null, null, null, null, null, null, null, null, null, null, null, null], [null, null, null, null, null, null, null, null, null, 0.698634212783899, null, null, null, null, null, null, null, null, null, null, null, null], [null, null, null, null, null, null, null, null, null, null, null, null, null, 0.6982600215100139, null, null, null, null, null, null, null, null], [null, null, null, null, null, null, null, null, null, null, null, null, null, null, null, null, null, null, 0.7004106728593765, null, null, null], [null, null, null, null, null, null, null, null, null, null, null, null, null, null, null, null, null, 0.7090548461489452, null, null, null, null], [null, null, null, null, null, null, null, null, null, null, null, null, null, null, 0.7122660786862711, null, null, null, null, null, null, null], [null, null, 0.6991141969897481, null, null, null, null, null, null, null, null, null, null, null, null, null, null, null, null, null, null, null], [null, null, null, null, null, 0.6989273519450643, null, null, null, null, null, null, null, null, null, null, null, null, null, null, null, null], [null, null, null, null, null, null, null, null, null, null, null, 0.6992904193852759, null, null, null, null, null, null, null, null, null, null], [null, null, null, null, null, null, null, null, null, null, null, null, null, null, null, null, null, null, null, null, 0.7075874472309801, null], [null, null, null, null, 0.6996245148447716, null, null, null, null, null, null, null, null, null, null, null, null, null, null, null, null, null], [null, null, null, null, null, null, null, null, null, null, null, null, null, null, null, null, null, null, null, 0.7003750794832, null, null], [null, null, null, null, null, null, null, null, null, null, null, null, 0.702229356941937, null, null, null, null, null, null, null, null, null], [null, null, null, null, null, null, null, null, null, null, null, null, null, null, null, 0.7017116049114462, null, null, null, null, null, null], [null, null, null, null, null, null, null, null, null, null, null, null, null, null, null, null, null, null, null, null, null, null]]}, {\"marker\": {\"color\": \"black\", \"line\": {\"color\": \"Grey\", \"width\": 0.5}}, \"mode\": \"markers\", \"showlegend\": false, \"type\": \"scatter\", \"x\": [0.00010545779009505479, 0.00025089875473915946, 7.538431833896211e-06, 5.250087130258407e-06, 0.0038316394312051176, 0.0003399284171269997, 6.24814172253296, 2.3930768877183984e-06, 0.4803112720791934, 6.245876585878281e-08, 1.1034170867152987e-08, 1.7258533459230472e-08, 1.653599787540466e-07, 3.268061206481809e-08, 1.8661920104016937e-07, 3.0248086736399903e-07, 1.3457048545663045e-06, 2.915998383968674e-07, 2.9193514677158114e-05, 0.015857624957397107], \"xaxis\": \"x10\", \"y\": [0.05195085272826953, 0.07729284434572192, 0.07728375335078388, 0.06251610916977142, 0.048507710747031835, 0.01821162639268017, 0.0641688300979165, 0.011962310686583296, 0.07410244191672528, 0.0723612599593154, 0.029158163725552723, 0.06010841199384105, 0.060447541697188065, 0.03623966178357429, 0.036087274062563145, 0.034523889931332534, 0.03631880031910773, 0.02446152706328949, 0.039802844302637114, 0.042967798477006526], \"yaxis\": \"y10\"}, {\"colorbar\": {\"title\": {\"text\": \"Objective Value\"}}, \"colorscale\": [[0, \"rgb(220,220,220)\"], [0.30000000000000004, \"rgb(106,137,247)\"], [0.4, \"rgb(90,120,245)\"], [0.5, \"rgb(70,100,245)\"], [0.65, \"rgb(40,60,190)\"], [1, \"rgb(5,10,172)\"]], \"connectgaps\": true, \"contours\": {\"coloring\": \"heatmap\"}, \"hoverinfo\": \"none\", \"line\": {\"smoothing\": 1.3}, \"showscale\": false, \"type\": \"contour\", \"x\": [4.027997074846986e-09, 1.1034170867152987e-08, 1.7258533459230472e-08, 3.268061206481809e-08, 6.245876585878281e-08, 1.653599787540466e-07, 1.8661920104016937e-07, 2.915998383968674e-07, 3.0248086736399903e-07, 1.3457048545663045e-06, 2.3930768877183984e-06, 5.250087130258407e-06, 7.538431833896211e-06, 2.9193514677158114e-05, 0.00010545779009505479, 0.00025089875473915946, 0.0003399284171269997, 0.0038316394312051176, 0.015857624957397107, 0.4803112720791934, 6.24814172253296, 17.115966592710407], \"xaxis\": \"x14\", \"y\": [0.3328147064276981, 0.36434742795579345, 0.4790501939039644, 0.5050944561750277, 0.5602922191370104, 0.5875108427494995, 0.6151631070784156, 0.6350023371315985, 0.6554906889769498, 0.7002962578592645, 0.721444912625484, 0.751107791947296, 0.7800086468142229, 0.8309369882567488, 0.8897926159459756, 0.9038234631508684, 0.9164605438407302, 0.9684555857906337, 0.9888218622123179, 0.9900494398052899, 0.9950018585176996, 1.026534580045795], \"yaxis\": \"y14\", \"z\": [[null, null, null, null, null, null, null, null, null, null, null, null, null, null, null, null, null, null, null, null, null, null], [null, 0.7007740391600251, null, null, null, null, null, null, null, null, null, null, null, null, null, null, null, null, null, null, null, null], [null, null, null, null, null, null, null, null, null, null, 0.7044533350041138, null, null, null, null, null, null, null, null, null, null, null], [null, null, null, null, null, null, null, null, null, null, null, null, null, null, null, null, null, 0.7090548461489452, null, null, null, null], [null, null, null, null, null, null, null, null, null, null, null, null, null, null, 0.7122660786862711, null, null, null, null, null, null, null], [null, null, null, null, 0.6996245148447716, null, null, null, null, null, null, null, null, null, null, null, null, null, null, null, null, null], [null, null, null, null, null, null, null, null, null, null, null, 0.6992904193852759, null, null, null, null, null, null, null, null, null, null], [null, null, null, null, null, null, null, null, null, null, null, null, null, null, null, null, null, null, null, 0.7003750794832, null, null], [null, null, 0.6991141969897481, null, null, null, null, null, null, null, null, null, null, null, null, null, null, null, null, null, null, null], [null, null, null, null, null, 0.6989273519450643, null, null, null, null, null, null, null, null, null, null, null, null, null, null, null, null], [null, null, null, 0.6987518627100472, null, null, null, null, null, null, null, null, null, null, null, null, null, null, null, null, null, null], [null, null, null, null, null, null, null, null, null, null, null, null, 0.702229356941937, null, null, null, null, null, null, null, null, null], [null, null, null, null, null, null, null, null, null, null, null, null, null, null, null, null, 0.7020921592490991, null, null, null, null, null], [null, null, null, null, null, null, null, null, null, null, null, null, null, null, null, 0.7017116049114462, null, null, null, null, null, null], [null, null, null, null, null, null, null, null, null, null, null, null, null, null, null, null, null, null, 0.7004106728593765, null, null, null], [null, null, null, null, null, null, null, null, null, null, null, null, null, null, null, null, null, null, null, null, 0.7075874472309801, null], [null, null, null, null, null, null, null, null, null, null, null, null, null, 0.6982600215100139, null, null, null, null, null, null, null, null], [null, null, null, null, null, null, 0.6986239639816714, null, null, null, null, null, null, null, null, null, null, null, null, null, null, null], [null, null, null, null, null, null, null, 0.6990625268963145, null, null, null, null, null, null, null, null, null, null, null, null, null, null], [null, null, null, null, null, null, null, null, 0.6985637111252132, null, null, null, null, null, null, null, null, null, null, null, null, null], [null, null, null, null, null, null, null, null, null, 0.698634212783899, null, null, null, null, null, null, null, null, null, null, null, null], [null, null, null, null, null, null, null, null, null, null, null, null, null, null, null, null, null, null, null, null, null, null]]}, {\"marker\": {\"color\": \"black\", \"line\": {\"color\": \"Grey\", \"width\": 0.5}}, \"mode\": \"markers\", \"showlegend\": false, \"type\": \"scatter\", \"x\": [0.00010545779009505479, 0.00025089875473915946, 7.538431833896211e-06, 5.250087130258407e-06, 0.0038316394312051176, 0.0003399284171269997, 6.24814172253296, 2.3930768877183984e-06, 0.4803112720791934, 6.245876585878281e-08, 1.1034170867152987e-08, 1.7258533459230472e-08, 1.653599787540466e-07, 3.268061206481809e-08, 1.8661920104016937e-07, 3.0248086736399903e-07, 1.3457048545663045e-06, 2.915998383968674e-07, 2.9193514677158114e-05, 0.015857624957397107], \"xaxis\": \"x14\", \"y\": [0.5602922191370104, 0.8309369882567488, 0.751107791947296, 0.6151631070784156, 0.5050944561750277, 0.7800086468142229, 0.9038234631508684, 0.4790501939039644, 0.6350023371315985, 0.5875108427494995, 0.36434742795579345, 0.6554906889769498, 0.7002962578592645, 0.721444912625484, 0.9684555857906337, 0.9900494398052899, 0.9950018585176996, 0.9888218622123179, 0.9164605438407302, 0.8897926159459756], \"yaxis\": \"y14\"}, {\"colorbar\": {\"title\": {\"text\": \"Objective Value\"}}, \"colorscale\": [[0, \"rgb(220,220,220)\"], [0.30000000000000004, \"rgb(106,137,247)\"], [0.4, \"rgb(90,120,245)\"], [0.5, \"rgb(70,100,245)\"], [0.65, \"rgb(40,60,190)\"], [1, \"rgb(5,10,172)\"]], \"connectgaps\": true, \"contours\": {\"coloring\": \"heatmap\"}, \"hoverinfo\": \"none\", \"line\": {\"smoothing\": 1.3}, \"showscale\": false, \"type\": \"contour\", \"x\": [0.008695784003626365, 0.011962310686583296, 0.01821162639268017, 0.02446152706328949, 0.029158163725552723, 0.034523889931332534, 0.036087274062563145, 0.03623966178357429, 0.03631880031910773, 0.039802844302637114, 0.042967798477006526, 0.048507710747031835, 0.05195085272826953, 0.06010841199384105, 0.060447541697188065, 0.06251610916977142, 0.0641688300979165, 0.0723612599593154, 0.07410244191672528, 0.07728375335078388, 0.07729284434572192, 0.08055937102867886], \"xaxis\": \"x3\", \"y\": [0.007489459534161002, 0.010464934632562822, 0.01146008140455173, 0.013116742535647787, 0.03206617697238632, 0.037490266214095305, 0.04495259811817069, 0.0980742084826737, 0.12032459070247384, 0.21187056065297036, 0.3117933282958691, 0.402566316033456, 0.4203925287035287, 0.45660390777384097, 0.9743376376323518, 1.0393962540197244, 1.1979300999563511, 1.4309258286804851, 3.8781702715090556, 7.538362367800765, 8.422816641413203, 11.769103654597123], \"yaxis\": \"y3\", \"z\": [[null, null, null, null, null, null, null, null, null, null, null, null, null, null, null, null, null, null, null, null, null, null], [null, null, null, null, null, null, null, 0.6987518627100472, null, null, null, null, null, null, null, null, null, null, null, null, null, null], [null, null, null, null, null, null, null, null, null, null, null, null, null, 0.6991141969897481, null, null, null, null, null, null, null, null], [null, null, null, null, null, null, null, null, null, null, null, null, null, null, null, null, null, 0.6996245148447716, null, null, null, null], [null, null, null, null, null, null, null, null, null, null, 0.7004106728593765, null, null, null, null, null, null, null, null, null, null, null], [null, null, null, null, null, null, null, null, null, 0.6982600215100139, null, null, null, null, null, null, null, null, null, null, null, null], [null, null, null, null, null, null, null, null, null, null, null, null, null, null, null, null, null, null, null, 0.702229356941937, null, null], [null, null, null, null, null, null, null, null, null, null, null, null, null, null, null, null, null, null, 0.7003750794832, null, null, null], [null, null, null, null, null, null, null, null, null, null, null, null, null, null, null, null, null, null, null, null, 0.7017116049114462, null], [null, null, null, null, null, null, null, null, null, null, null, null, 0.7122660786862711, null, null, null, null, null, null, null, null, null], [null, null, null, 0.6990625268963145, null, null, null, null, null, null, null, null, null, null, null, null, null, null, null, null, null, null], [null, null, null, null, null, 0.6985637111252132, null, null, null, null, null, null, null, null, null, null, null, null, null, null, null, null], [null, null, null, null, null, null, 0.6986239639816714, null, null, null, null, null, null, null, null, null, null, null, null, null, null, null], [null, null, null, null, null, null, null, null, 0.698634212783899, null, null, null, null, null, null, null, null, null, null, null, null, null], [null, null, 0.7020921592490991, null, null, null, null, null, null, null, null, null, null, null, null, null, null, null, null, null, null, null], [null, null, null, null, 0.7007740391600251, null, null, null, null, null, null, null, null, null, null, null, null, null, null, null, null, null], [null, null, null, null, null, null, null, null, null, null, null, null, null, null, 0.6989273519450643, null, null, null, null, null, null, null], [null, null, null, null, null, null, null, null, null, null, null, null, null, null, null, 0.6992904193852759, null, null, null, null, null, null], [null, 0.7044533350041138, null, null, null, null, null, null, null, null, null, null, null, null, null, null, null, null, null, null, null, null], [null, null, null, null, null, null, null, null, null, null, null, null, null, null, null, null, 0.7075874472309801, null, null, null, null, null], [null, null, null, null, null, null, null, null, null, null, null, 0.7090548461489452, null, null, null, null, null, null, null, null, null, null], [null, null, null, null, null, null, null, null, null, null, null, null, null, null, null, null, null, null, null, null, null, null]]}, {\"marker\": {\"color\": \"black\", \"line\": {\"color\": \"Grey\", \"width\": 0.5}}, \"mode\": \"markers\", \"showlegend\": false, \"type\": \"scatter\", \"x\": [0.05195085272826953, 0.07729284434572192, 0.07728375335078388, 0.06251610916977142, 0.048507710747031835, 0.01821162639268017, 0.0641688300979165, 0.011962310686583296, 0.07410244191672528, 0.0723612599593154, 0.029158163725552723, 0.06010841199384105, 0.060447541697188065, 0.03623966178357429, 0.036087274062563145, 0.034523889931332534, 0.03631880031910773, 0.02446152706328949, 0.039802844302637114, 0.042967798477006526], \"xaxis\": \"x3\", \"y\": [0.21187056065297036, 0.12032459070247384, 0.04495259811817069, 1.4309258286804851, 8.422816641413203, 0.9743376376323518, 7.538362367800765, 3.8781702715090556, 0.0980742084826737, 0.013116742535647787, 1.0393962540197244, 0.01146008140455173, 1.1979300999563511, 0.010464934632562822, 0.4203925287035287, 0.402566316033456, 0.45660390777384097, 0.3117933282958691, 0.037490266214095305, 0.03206617697238632], \"yaxis\": \"y3\"}, {\"colorbar\": {\"title\": {\"text\": \"Objective Value\"}}, \"colorscale\": [[0, \"rgb(220,220,220)\"], [0.30000000000000004, \"rgb(106,137,247)\"], [0.4, \"rgb(90,120,245)\"], [0.5, \"rgb(70,100,245)\"], [0.65, \"rgb(40,60,190)\"], [1, \"rgb(5,10,172)\"]], \"connectgaps\": true, \"contours\": {\"coloring\": \"heatmap\"}, \"hoverinfo\": \"none\", \"line\": {\"smoothing\": 1.3}, \"showscale\": false, \"type\": \"contour\", \"x\": [0.008695784003626365, 0.011962310686583296, 0.01821162639268017, 0.02446152706328949, 0.029158163725552723, 0.034523889931332534, 0.036087274062563145, 0.03623966178357429, 0.03631880031910773, 0.039802844302637114, 0.042967798477006526, 0.048507710747031835, 0.05195085272826953, 0.06010841199384105, 0.060447541697188065, 0.06251610916977142, 0.0641688300979165, 0.0723612599593154, 0.07410244191672528, 0.07728375335078388, 0.07729284434572192, 0.08055937102867886], \"xaxis\": \"x7\", \"y\": [4.027997074846986e-09, 1.1034170867152987e-08, 1.7258533459230472e-08, 3.268061206481809e-08, 6.245876585878281e-08, 1.653599787540466e-07, 1.8661920104016937e-07, 2.915998383968674e-07, 3.0248086736399903e-07, 1.3457048545663045e-06, 2.3930768877183984e-06, 5.250087130258407e-06, 7.538431833896211e-06, 2.9193514677158114e-05, 0.00010545779009505479, 0.00025089875473915946, 0.0003399284171269997, 0.0038316394312051176, 0.015857624957397107, 0.4803112720791934, 6.24814172253296, 17.115966592710407], \"yaxis\": \"y7\", \"z\": [[null, null, null, null, null, null, null, null, null, null, null, null, null, null, null, null, null, null, null, null, null, null], [null, null, null, null, 0.7007740391600251, null, null, null, null, null, null, null, null, null, null, null, null, null, null, null, null, null], [null, null, null, null, null, null, null, null, null, null, null, null, null, 0.6991141969897481, null, null, null, null, null, null, null, null], [null, null, null, null, null, null, null, 0.6987518627100472, null, null, null, null, null, null, null, null, null, null, null, null, null, null], [null, null, null, null, null, null, null, null, null, null, null, null, null, null, null, null, null, 0.6996245148447716, null, null, null, null], [null, null, null, null, null, null, null, null, null, null, null, null, null, null, 0.6989273519450643, null, null, null, null, null, null, null], [null, null, null, null, null, null, 0.6986239639816714, null, null, null, null, null, null, null, null, null, null, null, null, null, null, null], [null, null, null, 0.6990625268963145, null, null, null, null, null, null, null, null, null, null, null, null, null, null, null, null, null, null], [null, null, null, null, null, 0.6985637111252132, null, null, null, null, null, null, null, null, null, null, null, null, null, null, null, null], [null, null, null, null, null, null, null, null, 0.698634212783899, null, null, null, null, null, null, null, null, null, null, null, null, null], [null, 0.7044533350041138, null, null, null, null, null, null, null, null, null, null, null, null, null, null, null, null, null, null, null, null], [null, null, null, null, null, null, null, null, null, null, null, null, null, null, null, 0.6992904193852759, null, null, null, null, null, null], [null, null, null, null, null, null, null, null, null, null, null, null, null, null, null, null, null, null, null, 0.702229356941937, null, null], [null, null, null, null, null, null, null, null, null, 0.6982600215100139, null, null, null, null, null, null, null, null, null, null, null, null], [null, null, null, null, null, null, null, null, null, null, null, null, 0.7122660786862711, null, null, null, null, null, null, null, null, null], [null, null, null, null, null, null, null, null, null, null, null, null, null, null, null, null, null, null, null, null, 0.7017116049114462, null], [null, null, 0.7020921592490991, null, null, null, null, null, null, null, null, null, null, null, null, null, null, null, null, null, null, null], [null, null, null, null, null, null, null, null, null, null, null, 0.7090548461489452, null, null, null, null, null, null, null, null, null, null], [null, null, null, null, null, null, null, null, null, null, 0.7004106728593765, null, null, null, null, null, null, null, null, null, null, null], [null, null, null, null, null, null, null, null, null, null, null, null, null, null, null, null, null, null, 0.7003750794832, null, null, null], [null, null, null, null, null, null, null, null, null, null, null, null, null, null, null, null, 0.7075874472309801, null, null, null, null, null], [null, null, null, null, null, null, null, null, null, null, null, null, null, null, null, null, null, null, null, null, null, null]]}, {\"marker\": {\"color\": \"black\", \"line\": {\"color\": \"Grey\", \"width\": 0.5}}, \"mode\": \"markers\", \"showlegend\": false, \"type\": \"scatter\", \"x\": [0.05195085272826953, 0.07729284434572192, 0.07728375335078388, 0.06251610916977142, 0.048507710747031835, 0.01821162639268017, 0.0641688300979165, 0.011962310686583296, 0.07410244191672528, 0.0723612599593154, 0.029158163725552723, 0.06010841199384105, 0.060447541697188065, 0.03623966178357429, 0.036087274062563145, 0.034523889931332534, 0.03631880031910773, 0.02446152706328949, 0.039802844302637114, 0.042967798477006526], \"xaxis\": \"x7\", \"y\": [0.00010545779009505479, 0.00025089875473915946, 7.538431833896211e-06, 5.250087130258407e-06, 0.0038316394312051176, 0.0003399284171269997, 6.24814172253296, 2.3930768877183984e-06, 0.4803112720791934, 6.245876585878281e-08, 1.1034170867152987e-08, 1.7258533459230472e-08, 1.653599787540466e-07, 3.268061206481809e-08, 1.8661920104016937e-07, 3.0248086736399903e-07, 1.3457048545663045e-06, 2.915998383968674e-07, 2.9193514677158114e-05, 0.015857624957397107], \"yaxis\": \"y7\"}, {\"type\": \"scatter\", \"xaxis\": \"x11\", \"yaxis\": \"y11\"}, {\"colorbar\": {\"title\": {\"text\": \"Objective Value\"}}, \"colorscale\": [[0, \"rgb(220,220,220)\"], [0.30000000000000004, \"rgb(106,137,247)\"], [0.4, \"rgb(90,120,245)\"], [0.5, \"rgb(70,100,245)\"], [0.65, \"rgb(40,60,190)\"], [1, \"rgb(5,10,172)\"]], \"connectgaps\": true, \"contours\": {\"coloring\": \"heatmap\"}, \"hoverinfo\": \"none\", \"line\": {\"smoothing\": 1.3}, \"showscale\": false, \"type\": \"contour\", \"x\": [0.008695784003626365, 0.011962310686583296, 0.01821162639268017, 0.02446152706328949, 0.029158163725552723, 0.034523889931332534, 0.036087274062563145, 0.03623966178357429, 0.03631880031910773, 0.039802844302637114, 0.042967798477006526, 0.048507710747031835, 0.05195085272826953, 0.06010841199384105, 0.060447541697188065, 0.06251610916977142, 0.0641688300979165, 0.0723612599593154, 0.07410244191672528, 0.07728375335078388, 0.07729284434572192, 0.08055937102867886], \"xaxis\": \"x15\", \"y\": [0.3328147064276981, 0.36434742795579345, 0.4790501939039644, 0.5050944561750277, 0.5602922191370104, 0.5875108427494995, 0.6151631070784156, 0.6350023371315985, 0.6554906889769498, 0.7002962578592645, 0.721444912625484, 0.751107791947296, 0.7800086468142229, 0.8309369882567488, 0.8897926159459756, 0.9038234631508684, 0.9164605438407302, 0.9684555857906337, 0.9888218622123179, 0.9900494398052899, 0.9950018585176996, 1.026534580045795], \"yaxis\": \"y15\", \"z\": [[null, null, null, null, null, null, null, null, null, null, null, null, null, null, null, null, null, null, null, null, null, null], [null, null, null, null, 0.7007740391600251, null, null, null, null, null, null, null, null, null, null, null, null, null, null, null, null, null], [null, 0.7044533350041138, null, null, null, null, null, null, null, null, null, null, null, null, null, null, null, null, null, null, null, null], [null, null, null, null, null, null, null, null, null, null, null, 0.7090548461489452, null, null, null, null, null, null, null, null, null, null], [null, null, null, null, null, null, null, null, null, null, null, null, 0.7122660786862711, null, null, null, null, null, null, null, null, null], [null, null, null, null, null, null, null, null, null, null, null, null, null, null, null, null, null, 0.6996245148447716, null, null, null, null], [null, null, null, null, null, null, null, null, null, null, null, null, null, null, null, 0.6992904193852759, null, null, null, null, null, null], [null, null, null, null, null, null, null, null, null, null, null, null, null, null, null, null, null, null, 0.7003750794832, null, null, null], [null, null, null, null, null, null, null, null, null, null, null, null, null, 0.6991141969897481, null, null, null, null, null, null, null, null], [null, null, null, null, null, null, null, null, null, null, null, null, null, null, 0.6989273519450643, null, null, null, null, null, null, null], [null, null, null, null, null, null, null, 0.6987518627100472, null, null, null, null, null, null, null, null, null, null, null, null, null, null], [null, null, null, null, null, null, null, null, null, null, null, null, null, null, null, null, null, null, null, 0.702229356941937, null, null], [null, null, 0.7020921592490991, null, null, null, null, null, null, null, null, null, null, null, null, null, null, null, null, null, null, null], [null, null, null, null, null, null, null, null, null, null, null, null, null, null, null, null, null, null, null, null, 0.7017116049114462, null], [null, null, null, null, null, null, null, null, null, null, 0.7004106728593765, null, null, null, null, null, null, null, null, null, null, null], [null, null, null, null, null, null, null, null, null, null, null, null, null, null, null, null, 0.7075874472309801, null, null, null, null, null], [null, null, null, null, null, null, null, null, null, 0.6982600215100139, null, null, null, null, null, null, null, null, null, null, null, null], [null, null, null, null, null, null, 0.6986239639816714, null, null, null, null, null, null, null, null, null, null, null, null, null, null, null], [null, null, null, 0.6990625268963145, null, null, null, null, null, null, null, null, null, null, null, null, null, null, null, null, null, null], [null, null, null, null, null, 0.6985637111252132, null, null, null, null, null, null, null, null, null, null, null, null, null, null, null, null], [null, null, null, null, null, null, null, null, 0.698634212783899, null, null, null, null, null, null, null, null, null, null, null, null, null], [null, null, null, null, null, null, null, null, null, null, null, null, null, null, null, null, null, null, null, null, null, null]]}, {\"marker\": {\"color\": \"black\", \"line\": {\"color\": \"Grey\", \"width\": 0.5}}, \"mode\": \"markers\", \"showlegend\": false, \"type\": \"scatter\", \"x\": [0.05195085272826953, 0.07729284434572192, 0.07728375335078388, 0.06251610916977142, 0.048507710747031835, 0.01821162639268017, 0.0641688300979165, 0.011962310686583296, 0.07410244191672528, 0.0723612599593154, 0.029158163725552723, 0.06010841199384105, 0.060447541697188065, 0.03623966178357429, 0.036087274062563145, 0.034523889931332534, 0.03631880031910773, 0.02446152706328949, 0.039802844302637114, 0.042967798477006526], \"xaxis\": \"x15\", \"y\": [0.5602922191370104, 0.8309369882567488, 0.751107791947296, 0.6151631070784156, 0.5050944561750277, 0.7800086468142229, 0.9038234631508684, 0.4790501939039644, 0.6350023371315985, 0.5875108427494995, 0.36434742795579345, 0.6554906889769498, 0.7002962578592645, 0.721444912625484, 0.9684555857906337, 0.9900494398052899, 0.9950018585176996, 0.9888218622123179, 0.9164605438407302, 0.8897926159459756], \"yaxis\": \"y15\"}, {\"colorbar\": {\"title\": {\"text\": \"Objective Value\"}}, \"colorscale\": [[0, \"rgb(220,220,220)\"], [0.30000000000000004, \"rgb(106,137,247)\"], [0.4, \"rgb(90,120,245)\"], [0.5, \"rgb(70,100,245)\"], [0.65, \"rgb(40,60,190)\"], [1, \"rgb(5,10,172)\"]], \"connectgaps\": true, \"contours\": {\"coloring\": \"heatmap\"}, \"hoverinfo\": \"none\", \"line\": {\"smoothing\": 1.3}, \"showscale\": false, \"type\": \"contour\", \"x\": [0.3328147064276981, 0.36434742795579345, 0.4790501939039644, 0.5050944561750277, 0.5602922191370104, 0.5875108427494995, 0.6151631070784156, 0.6350023371315985, 0.6554906889769498, 0.7002962578592645, 0.721444912625484, 0.751107791947296, 0.7800086468142229, 0.8309369882567488, 0.8897926159459756, 0.9038234631508684, 0.9164605438407302, 0.9684555857906337, 0.9888218622123179, 0.9900494398052899, 0.9950018585176996, 1.026534580045795], \"xaxis\": \"x4\", \"y\": [0.007489459534161002, 0.010464934632562822, 0.01146008140455173, 0.013116742535647787, 0.03206617697238632, 0.037490266214095305, 0.04495259811817069, 0.0980742084826737, 0.12032459070247384, 0.21187056065297036, 0.3117933282958691, 0.402566316033456, 0.4203925287035287, 0.45660390777384097, 0.9743376376323518, 1.0393962540197244, 1.1979300999563511, 1.4309258286804851, 3.8781702715090556, 7.538362367800765, 8.422816641413203, 11.769103654597123], \"yaxis\": \"y4\", \"z\": [[null, null, null, null, null, null, null, null, null, null, null, null, null, null, null, null, null, null, null, null, null, null], [null, null, null, null, null, null, null, null, null, null, 0.6987518627100472, null, null, null, null, null, null, null, null, null, null, null], [null, null, null, null, null, null, null, null, 0.6991141969897481, null, null, null, null, null, null, null, null, null, null, null, null, null], [null, null, null, null, null, 0.6996245148447716, null, null, null, null, null, null, null, null, null, null, null, null, null, null, null, null], [null, null, null, null, null, null, null, null, null, null, null, null, null, null, 0.7004106728593765, null, null, null, null, null, null, null], [null, null, null, null, null, null, null, null, null, null, null, null, null, null, null, null, 0.6982600215100139, null, null, null, null, null], [null, null, null, null, null, null, null, null, null, null, null, 0.702229356941937, null, null, null, null, null, null, null, null, null, null], [null, null, null, null, null, null, null, 0.7003750794832, null, null, null, null, null, null, null, null, null, null, null, null, null, null], [null, null, null, null, null, null, null, null, null, null, null, null, null, 0.7017116049114462, null, null, null, null, null, null, null, null], [null, null, null, null, 0.7122660786862711, null, null, null, null, null, null, null, null, null, null, null, null, null, null, null, null, null], [null, null, null, null, null, null, null, null, null, null, null, null, null, null, null, null, null, null, 0.6990625268963145, null, null, null], [null, null, null, null, null, null, null, null, null, null, null, null, null, null, null, null, null, null, null, 0.6985637111252132, null, null], [null, null, null, null, null, null, null, null, null, null, null, null, null, null, null, null, null, 0.6986239639816714, null, null, null, null], [null, null, null, null, null, null, null, null, null, null, null, null, null, null, null, null, null, null, null, null, 0.698634212783899, null], [null, null, null, null, null, null, null, null, null, null, null, null, 0.7020921592490991, null, null, null, null, null, null, null, null, null], [null, 0.7007740391600251, null, null, null, null, null, null, null, null, null, null, null, null, null, null, null, null, null, null, null, null], [null, null, null, null, null, null, null, null, null, 0.6989273519450643, null, null, null, null, null, null, null, null, null, null, null, null], [null, null, null, null, null, null, 0.6992904193852759, null, null, null, null, null, null, null, null, null, null, null, null, null, null, null], [null, null, 0.7044533350041138, null, null, null, null, null, null, null, null, null, null, null, null, null, null, null, null, null, null, null], [null, null, null, null, null, null, null, null, null, null, null, null, null, null, null, 0.7075874472309801, null, null, null, null, null, null], [null, null, null, 0.7090548461489452, null, null, null, null, null, null, null, null, null, null, null, null, null, null, null, null, null, null], [null, null, null, null, null, null, null, null, null, null, null, null, null, null, null, null, null, null, null, null, null, null]]}, {\"marker\": {\"color\": \"black\", \"line\": {\"color\": \"Grey\", \"width\": 0.5}}, \"mode\": \"markers\", \"showlegend\": false, \"type\": \"scatter\", \"x\": [0.5602922191370104, 0.8309369882567488, 0.751107791947296, 0.6151631070784156, 0.5050944561750277, 0.7800086468142229, 0.9038234631508684, 0.4790501939039644, 0.6350023371315985, 0.5875108427494995, 0.36434742795579345, 0.6554906889769498, 0.7002962578592645, 0.721444912625484, 0.9684555857906337, 0.9900494398052899, 0.9950018585176996, 0.9888218622123179, 0.9164605438407302, 0.8897926159459756], \"xaxis\": \"x4\", \"y\": [0.21187056065297036, 0.12032459070247384, 0.04495259811817069, 1.4309258286804851, 8.422816641413203, 0.9743376376323518, 7.538362367800765, 3.8781702715090556, 0.0980742084826737, 0.013116742535647787, 1.0393962540197244, 0.01146008140455173, 1.1979300999563511, 0.010464934632562822, 0.4203925287035287, 0.402566316033456, 0.45660390777384097, 0.3117933282958691, 0.037490266214095305, 0.03206617697238632], \"yaxis\": \"y4\"}, {\"colorbar\": {\"title\": {\"text\": \"Objective Value\"}}, \"colorscale\": [[0, \"rgb(220,220,220)\"], [0.30000000000000004, \"rgb(106,137,247)\"], [0.4, \"rgb(90,120,245)\"], [0.5, \"rgb(70,100,245)\"], [0.65, \"rgb(40,60,190)\"], [1, \"rgb(5,10,172)\"]], \"connectgaps\": true, \"contours\": {\"coloring\": \"heatmap\"}, \"hoverinfo\": \"none\", \"line\": {\"smoothing\": 1.3}, \"showscale\": false, \"type\": \"contour\", \"x\": [0.3328147064276981, 0.36434742795579345, 0.4790501939039644, 0.5050944561750277, 0.5602922191370104, 0.5875108427494995, 0.6151631070784156, 0.6350023371315985, 0.6554906889769498, 0.7002962578592645, 0.721444912625484, 0.751107791947296, 0.7800086468142229, 0.8309369882567488, 0.8897926159459756, 0.9038234631508684, 0.9164605438407302, 0.9684555857906337, 0.9888218622123179, 0.9900494398052899, 0.9950018585176996, 1.026534580045795], \"xaxis\": \"x8\", \"y\": [4.027997074846986e-09, 1.1034170867152987e-08, 1.7258533459230472e-08, 3.268061206481809e-08, 6.245876585878281e-08, 1.653599787540466e-07, 1.8661920104016937e-07, 2.915998383968674e-07, 3.0248086736399903e-07, 1.3457048545663045e-06, 2.3930768877183984e-06, 5.250087130258407e-06, 7.538431833896211e-06, 2.9193514677158114e-05, 0.00010545779009505479, 0.00025089875473915946, 0.0003399284171269997, 0.0038316394312051176, 0.015857624957397107, 0.4803112720791934, 6.24814172253296, 17.115966592710407], \"yaxis\": \"y8\", \"z\": [[null, null, null, null, null, null, null, null, null, null, null, null, null, null, null, null, null, null, null, null, null, null], [null, 0.7007740391600251, null, null, null, null, null, null, null, null, null, null, null, null, null, null, null, null, null, null, null, null], [null, null, null, null, null, null, null, null, 0.6991141969897481, null, null, null, null, null, null, null, null, null, null, null, null, null], [null, null, null, null, null, null, null, null, null, null, 0.6987518627100472, null, null, null, null, null, null, null, null, null, null, null], [null, null, null, null, null, 0.6996245148447716, null, null, null, null, null, null, null, null, null, null, null, null, null, null, null, null], [null, null, null, null, null, null, null, null, null, 0.6989273519450643, null, null, null, null, null, null, null, null, null, null, null, null], [null, null, null, null, null, null, null, null, null, null, null, null, null, null, null, null, null, 0.6986239639816714, null, null, null, null], [null, null, null, null, null, null, null, null, null, null, null, null, null, null, null, null, null, null, 0.6990625268963145, null, null, null], [null, null, null, null, null, null, null, null, null, null, null, null, null, null, null, null, null, null, null, 0.6985637111252132, null, null], [null, null, null, null, null, null, null, null, null, null, null, null, null, null, null, null, null, null, null, null, 0.698634212783899, null], [null, null, 0.7044533350041138, null, null, null, null, null, null, null, null, null, null, null, null, null, null, null, null, null, null, null], [null, null, null, null, null, null, 0.6992904193852759, null, null, null, null, null, null, null, null, null, null, null, null, null, null, null], [null, null, null, null, null, null, null, null, null, null, null, 0.702229356941937, null, null, null, null, null, null, null, null, null, null], [null, null, null, null, null, null, null, null, null, null, null, null, null, null, null, null, 0.6982600215100139, null, null, null, null, null], [null, null, null, null, 0.7122660786862711, null, null, null, null, null, null, null, null, null, null, null, null, null, null, null, null, null], [null, null, null, null, null, null, null, null, null, null, null, null, null, 0.7017116049114462, null, null, null, null, null, null, null, null], [null, null, null, null, null, null, null, null, null, null, null, null, 0.7020921592490991, null, null, null, null, null, null, null, null, null], [null, null, null, 0.7090548461489452, null, null, null, null, null, null, null, null, null, null, null, null, null, null, null, null, null, null], [null, null, null, null, null, null, null, null, null, null, null, null, null, null, 0.7004106728593765, null, null, null, null, null, null, null], [null, null, null, null, null, null, null, 0.7003750794832, null, null, null, null, null, null, null, null, null, null, null, null, null, null], [null, null, null, null, null, null, null, null, null, null, null, null, null, null, null, 0.7075874472309801, null, null, null, null, null, null], [null, null, null, null, null, null, null, null, null, null, null, null, null, null, null, null, null, null, null, null, null, null]]}, {\"marker\": {\"color\": \"black\", \"line\": {\"color\": \"Grey\", \"width\": 0.5}}, \"mode\": \"markers\", \"showlegend\": false, \"type\": \"scatter\", \"x\": [0.5602922191370104, 0.8309369882567488, 0.751107791947296, 0.6151631070784156, 0.5050944561750277, 0.7800086468142229, 0.9038234631508684, 0.4790501939039644, 0.6350023371315985, 0.5875108427494995, 0.36434742795579345, 0.6554906889769498, 0.7002962578592645, 0.721444912625484, 0.9684555857906337, 0.9900494398052899, 0.9950018585176996, 0.9888218622123179, 0.9164605438407302, 0.8897926159459756], \"xaxis\": \"x8\", \"y\": [0.00010545779009505479, 0.00025089875473915946, 7.538431833896211e-06, 5.250087130258407e-06, 0.0038316394312051176, 0.0003399284171269997, 6.24814172253296, 2.3930768877183984e-06, 0.4803112720791934, 6.245876585878281e-08, 1.1034170867152987e-08, 1.7258533459230472e-08, 1.653599787540466e-07, 3.268061206481809e-08, 1.8661920104016937e-07, 3.0248086736399903e-07, 1.3457048545663045e-06, 2.915998383968674e-07, 2.9193514677158114e-05, 0.015857624957397107], \"yaxis\": \"y8\"}, {\"colorbar\": {\"title\": {\"text\": \"Objective Value\"}}, \"colorscale\": [[0, \"rgb(220,220,220)\"], [0.30000000000000004, \"rgb(106,137,247)\"], [0.4, \"rgb(90,120,245)\"], [0.5, \"rgb(70,100,245)\"], [0.65, \"rgb(40,60,190)\"], [1, \"rgb(5,10,172)\"]], \"connectgaps\": true, \"contours\": {\"coloring\": \"heatmap\"}, \"hoverinfo\": \"none\", \"line\": {\"smoothing\": 1.3}, \"showscale\": false, \"type\": \"contour\", \"x\": [0.3328147064276981, 0.36434742795579345, 0.4790501939039644, 0.5050944561750277, 0.5602922191370104, 0.5875108427494995, 0.6151631070784156, 0.6350023371315985, 0.6554906889769498, 0.7002962578592645, 0.721444912625484, 0.751107791947296, 0.7800086468142229, 0.8309369882567488, 0.8897926159459756, 0.9038234631508684, 0.9164605438407302, 0.9684555857906337, 0.9888218622123179, 0.9900494398052899, 0.9950018585176996, 1.026534580045795], \"xaxis\": \"x12\", \"y\": [0.008695784003626365, 0.011962310686583296, 0.01821162639268017, 0.02446152706328949, 0.029158163725552723, 0.034523889931332534, 0.036087274062563145, 0.03623966178357429, 0.03631880031910773, 0.039802844302637114, 0.042967798477006526, 0.048507710747031835, 0.05195085272826953, 0.06010841199384105, 0.060447541697188065, 0.06251610916977142, 0.0641688300979165, 0.0723612599593154, 0.07410244191672528, 0.07728375335078388, 0.07729284434572192, 0.08055937102867886], \"yaxis\": \"y12\", \"z\": [[null, null, null, null, null, null, null, null, null, null, null, null, null, null, null, null, null, null, null, null, null, null], [null, null, 0.7044533350041138, null, null, null, null, null, null, null, null, null, null, null, null, null, null, null, null, null, null, null], [null, null, null, null, null, null, null, null, null, null, null, null, 0.7020921592490991, null, null, null, null, null, null, null, null, null], [null, null, null, null, null, null, null, null, null, null, null, null, null, null, null, null, null, null, 0.6990625268963145, null, null, null], [null, 0.7007740391600251, null, null, null, null, null, null, null, null, null, null, null, null, null, null, null, null, null, null, null, null], [null, null, null, null, null, null, null, null, null, null, null, null, null, null, null, null, null, null, null, 0.6985637111252132, null, null], [null, null, null, null, null, null, null, null, null, null, null, null, null, null, null, null, null, 0.6986239639816714, null, null, null, null], [null, null, null, null, null, null, null, null, null, null, 0.6987518627100472, null, null, null, null, null, null, null, null, null, null, null], [null, null, null, null, null, null, null, null, null, null, null, null, null, null, null, null, null, null, null, null, 0.698634212783899, null], [null, null, null, null, null, null, null, null, null, null, null, null, null, null, null, null, 0.6982600215100139, null, null, null, null, null], [null, null, null, null, null, null, null, null, null, null, null, null, null, null, 0.7004106728593765, null, null, null, null, null, null, null], [null, null, null, 0.7090548461489452, null, null, null, null, null, null, null, null, null, null, null, null, null, null, null, null, null, null], [null, null, null, null, 0.7122660786862711, null, null, null, null, null, null, null, null, null, null, null, null, null, null, null, null, null], [null, null, null, null, null, null, null, null, 0.6991141969897481, null, null, null, null, null, null, null, null, null, null, null, null, null], [null, null, null, null, null, null, null, null, null, 0.6989273519450643, null, null, null, null, null, null, null, null, null, null, null, null], [null, null, null, null, null, null, 0.6992904193852759, null, null, null, null, null, null, null, null, null, null, null, null, null, null, null], [null, null, null, null, null, null, null, null, null, null, null, null, null, null, null, 0.7075874472309801, null, null, null, null, null, null], [null, null, null, null, null, 0.6996245148447716, null, null, null, null, null, null, null, null, null, null, null, null, null, null, null, null], [null, null, null, null, null, null, null, 0.7003750794832, null, null, null, null, null, null, null, null, null, null, null, null, null, null], [null, null, null, null, null, null, null, null, null, null, null, 0.702229356941937, null, null, null, null, null, null, null, null, null, null], [null, null, null, null, null, null, null, null, null, null, null, null, null, 0.7017116049114462, null, null, null, null, null, null, null, null], [null, null, null, null, null, null, null, null, null, null, null, null, null, null, null, null, null, null, null, null, null, null]]}, {\"marker\": {\"color\": \"black\", \"line\": {\"color\": \"Grey\", \"width\": 0.5}}, \"mode\": \"markers\", \"showlegend\": false, \"type\": \"scatter\", \"x\": [0.5602922191370104, 0.8309369882567488, 0.751107791947296, 0.6151631070784156, 0.5050944561750277, 0.7800086468142229, 0.9038234631508684, 0.4790501939039644, 0.6350023371315985, 0.5875108427494995, 0.36434742795579345, 0.6554906889769498, 0.7002962578592645, 0.721444912625484, 0.9684555857906337, 0.9900494398052899, 0.9950018585176996, 0.9888218622123179, 0.9164605438407302, 0.8897926159459756], \"xaxis\": \"x12\", \"y\": [0.05195085272826953, 0.07729284434572192, 0.07728375335078388, 0.06251610916977142, 0.048507710747031835, 0.01821162639268017, 0.0641688300979165, 0.011962310686583296, 0.07410244191672528, 0.0723612599593154, 0.029158163725552723, 0.06010841199384105, 0.060447541697188065, 0.03623966178357429, 0.036087274062563145, 0.034523889931332534, 0.03631880031910773, 0.02446152706328949, 0.039802844302637114, 0.042967798477006526], \"yaxis\": \"y12\"}, {\"type\": \"scatter\", \"xaxis\": \"x16\", \"yaxis\": \"y16\"}],                        {\"template\": {\"data\": {\"bar\": [{\"error_x\": {\"color\": \"#2a3f5f\"}, \"error_y\": {\"color\": \"#2a3f5f\"}, \"marker\": {\"line\": {\"color\": \"#E5ECF6\", \"width\": 0.5}}, \"type\": \"bar\"}], \"barpolar\": [{\"marker\": {\"line\": {\"color\": \"#E5ECF6\", \"width\": 0.5}}, \"type\": \"barpolar\"}], \"carpet\": [{\"aaxis\": {\"endlinecolor\": \"#2a3f5f\", \"gridcolor\": \"white\", \"linecolor\": \"white\", \"minorgridcolor\": \"white\", \"startlinecolor\": \"#2a3f5f\"}, \"baxis\": {\"endlinecolor\": \"#2a3f5f\", \"gridcolor\": \"white\", \"linecolor\": \"white\", \"minorgridcolor\": \"white\", \"startlinecolor\": \"#2a3f5f\"}, \"type\": \"carpet\"}], \"choropleth\": [{\"colorbar\": {\"outlinewidth\": 0, \"ticks\": \"\"}, \"type\": \"choropleth\"}], \"contour\": [{\"colorbar\": {\"outlinewidth\": 0, \"ticks\": \"\"}, \"colorscale\": [[0.0, \"#0d0887\"], [0.1111111111111111, \"#46039f\"], [0.2222222222222222, \"#7201a8\"], [0.3333333333333333, \"#9c179e\"], [0.4444444444444444, \"#bd3786\"], [0.5555555555555556, \"#d8576b\"], [0.6666666666666666, \"#ed7953\"], [0.7777777777777778, \"#fb9f3a\"], [0.8888888888888888, \"#fdca26\"], [1.0, \"#f0f921\"]], \"type\": \"contour\"}], \"contourcarpet\": [{\"colorbar\": {\"outlinewidth\": 0, \"ticks\": \"\"}, \"type\": \"contourcarpet\"}], \"heatmap\": [{\"colorbar\": {\"outlinewidth\": 0, \"ticks\": \"\"}, \"colorscale\": [[0.0, \"#0d0887\"], [0.1111111111111111, \"#46039f\"], [0.2222222222222222, \"#7201a8\"], [0.3333333333333333, \"#9c179e\"], [0.4444444444444444, \"#bd3786\"], [0.5555555555555556, \"#d8576b\"], [0.6666666666666666, \"#ed7953\"], [0.7777777777777778, \"#fb9f3a\"], [0.8888888888888888, \"#fdca26\"], [1.0, \"#f0f921\"]], \"type\": \"heatmap\"}], \"heatmapgl\": [{\"colorbar\": {\"outlinewidth\": 0, \"ticks\": \"\"}, \"colorscale\": [[0.0, \"#0d0887\"], [0.1111111111111111, \"#46039f\"], [0.2222222222222222, \"#7201a8\"], [0.3333333333333333, \"#9c179e\"], [0.4444444444444444, \"#bd3786\"], [0.5555555555555556, \"#d8576b\"], [0.6666666666666666, \"#ed7953\"], [0.7777777777777778, \"#fb9f3a\"], [0.8888888888888888, \"#fdca26\"], [1.0, \"#f0f921\"]], \"type\": \"heatmapgl\"}], \"histogram\": [{\"marker\": {\"colorbar\": {\"outlinewidth\": 0, \"ticks\": \"\"}}, \"type\": \"histogram\"}], \"histogram2d\": [{\"colorbar\": {\"outlinewidth\": 0, \"ticks\": \"\"}, \"colorscale\": [[0.0, \"#0d0887\"], [0.1111111111111111, \"#46039f\"], [0.2222222222222222, \"#7201a8\"], [0.3333333333333333, \"#9c179e\"], [0.4444444444444444, \"#bd3786\"], [0.5555555555555556, \"#d8576b\"], [0.6666666666666666, \"#ed7953\"], [0.7777777777777778, \"#fb9f3a\"], [0.8888888888888888, \"#fdca26\"], [1.0, \"#f0f921\"]], \"type\": \"histogram2d\"}], \"histogram2dcontour\": [{\"colorbar\": {\"outlinewidth\": 0, \"ticks\": \"\"}, \"colorscale\": [[0.0, \"#0d0887\"], [0.1111111111111111, \"#46039f\"], [0.2222222222222222, \"#7201a8\"], [0.3333333333333333, \"#9c179e\"], [0.4444444444444444, \"#bd3786\"], [0.5555555555555556, \"#d8576b\"], [0.6666666666666666, \"#ed7953\"], [0.7777777777777778, \"#fb9f3a\"], [0.8888888888888888, \"#fdca26\"], [1.0, \"#f0f921\"]], \"type\": \"histogram2dcontour\"}], \"mesh3d\": [{\"colorbar\": {\"outlinewidth\": 0, \"ticks\": \"\"}, \"type\": \"mesh3d\"}], \"parcoords\": [{\"line\": {\"colorbar\": {\"outlinewidth\": 0, \"ticks\": \"\"}}, \"type\": \"parcoords\"}], \"pie\": [{\"automargin\": true, \"type\": \"pie\"}], \"scatter\": [{\"marker\": {\"colorbar\": {\"outlinewidth\": 0, \"ticks\": \"\"}}, \"type\": \"scatter\"}], \"scatter3d\": [{\"line\": {\"colorbar\": {\"outlinewidth\": 0, \"ticks\": \"\"}}, \"marker\": {\"colorbar\": {\"outlinewidth\": 0, \"ticks\": \"\"}}, \"type\": \"scatter3d\"}], \"scattercarpet\": [{\"marker\": {\"colorbar\": {\"outlinewidth\": 0, \"ticks\": \"\"}}, \"type\": \"scattercarpet\"}], \"scattergeo\": [{\"marker\": {\"colorbar\": {\"outlinewidth\": 0, \"ticks\": \"\"}}, \"type\": \"scattergeo\"}], \"scattergl\": [{\"marker\": {\"colorbar\": {\"outlinewidth\": 0, \"ticks\": \"\"}}, \"type\": \"scattergl\"}], \"scattermapbox\": [{\"marker\": {\"colorbar\": {\"outlinewidth\": 0, \"ticks\": \"\"}}, \"type\": \"scattermapbox\"}], \"scatterpolar\": [{\"marker\": {\"colorbar\": {\"outlinewidth\": 0, \"ticks\": \"\"}}, \"type\": \"scatterpolar\"}], \"scatterpolargl\": [{\"marker\": {\"colorbar\": {\"outlinewidth\": 0, \"ticks\": \"\"}}, \"type\": \"scatterpolargl\"}], \"scatterternary\": [{\"marker\": {\"colorbar\": {\"outlinewidth\": 0, \"ticks\": \"\"}}, \"type\": \"scatterternary\"}], \"surface\": [{\"colorbar\": {\"outlinewidth\": 0, \"ticks\": \"\"}, \"colorscale\": [[0.0, \"#0d0887\"], [0.1111111111111111, \"#46039f\"], [0.2222222222222222, \"#7201a8\"], [0.3333333333333333, \"#9c179e\"], [0.4444444444444444, \"#bd3786\"], [0.5555555555555556, \"#d8576b\"], [0.6666666666666666, \"#ed7953\"], [0.7777777777777778, \"#fb9f3a\"], [0.8888888888888888, \"#fdca26\"], [1.0, \"#f0f921\"]], \"type\": \"surface\"}], \"table\": [{\"cells\": {\"fill\": {\"color\": \"#EBF0F8\"}, \"line\": {\"color\": \"white\"}}, \"header\": {\"fill\": {\"color\": \"#C8D4E3\"}, \"line\": {\"color\": \"white\"}}, \"type\": \"table\"}]}, \"layout\": {\"annotationdefaults\": {\"arrowcolor\": \"#2a3f5f\", \"arrowhead\": 0, \"arrowwidth\": 1}, \"autotypenumbers\": \"strict\", \"coloraxis\": {\"colorbar\": {\"outlinewidth\": 0, \"ticks\": \"\"}}, \"colorscale\": {\"diverging\": [[0, \"#8e0152\"], [0.1, \"#c51b7d\"], [0.2, \"#de77ae\"], [0.3, \"#f1b6da\"], [0.4, \"#fde0ef\"], [0.5, \"#f7f7f7\"], [0.6, \"#e6f5d0\"], [0.7, \"#b8e186\"], [0.8, \"#7fbc41\"], [0.9, \"#4d9221\"], [1, \"#276419\"]], \"sequential\": [[0.0, \"#0d0887\"], [0.1111111111111111, \"#46039f\"], [0.2222222222222222, \"#7201a8\"], [0.3333333333333333, \"#9c179e\"], [0.4444444444444444, \"#bd3786\"], [0.5555555555555556, \"#d8576b\"], [0.6666666666666666, \"#ed7953\"], [0.7777777777777778, \"#fb9f3a\"], [0.8888888888888888, \"#fdca26\"], [1.0, \"#f0f921\"]], \"sequentialminus\": [[0.0, \"#0d0887\"], [0.1111111111111111, \"#46039f\"], [0.2222222222222222, \"#7201a8\"], [0.3333333333333333, \"#9c179e\"], [0.4444444444444444, \"#bd3786\"], [0.5555555555555556, \"#d8576b\"], [0.6666666666666666, \"#ed7953\"], [0.7777777777777778, \"#fb9f3a\"], [0.8888888888888888, \"#fdca26\"], [1.0, \"#f0f921\"]]}, \"colorway\": [\"#636efa\", \"#EF553B\", \"#00cc96\", \"#ab63fa\", \"#FFA15A\", \"#19d3f3\", \"#FF6692\", \"#B6E880\", \"#FF97FF\", \"#FECB52\"], \"font\": {\"color\": \"#2a3f5f\"}, \"geo\": {\"bgcolor\": \"white\", \"lakecolor\": \"white\", \"landcolor\": \"#E5ECF6\", \"showlakes\": true, \"showland\": true, \"subunitcolor\": \"white\"}, \"hoverlabel\": {\"align\": \"left\"}, \"hovermode\": \"closest\", \"mapbox\": {\"style\": \"light\"}, \"paper_bgcolor\": \"white\", \"plot_bgcolor\": \"#E5ECF6\", \"polar\": {\"angularaxis\": {\"gridcolor\": \"white\", \"linecolor\": \"white\", \"ticks\": \"\"}, \"bgcolor\": \"#E5ECF6\", \"radialaxis\": {\"gridcolor\": \"white\", \"linecolor\": \"white\", \"ticks\": \"\"}}, \"scene\": {\"xaxis\": {\"backgroundcolor\": \"#E5ECF6\", \"gridcolor\": \"white\", \"gridwidth\": 2, \"linecolor\": \"white\", \"showbackground\": true, \"ticks\": \"\", \"zerolinecolor\": \"white\"}, \"yaxis\": {\"backgroundcolor\": \"#E5ECF6\", \"gridcolor\": \"white\", \"gridwidth\": 2, \"linecolor\": \"white\", \"showbackground\": true, \"ticks\": \"\", \"zerolinecolor\": \"white\"}, \"zaxis\": {\"backgroundcolor\": \"#E5ECF6\", \"gridcolor\": \"white\", \"gridwidth\": 2, \"linecolor\": \"white\", \"showbackground\": true, \"ticks\": \"\", \"zerolinecolor\": \"white\"}}, \"shapedefaults\": {\"line\": {\"color\": \"#2a3f5f\"}}, \"ternary\": {\"aaxis\": {\"gridcolor\": \"white\", \"linecolor\": \"white\", \"ticks\": \"\"}, \"baxis\": {\"gridcolor\": \"white\", \"linecolor\": \"white\", \"ticks\": \"\"}, \"bgcolor\": \"#E5ECF6\", \"caxis\": {\"gridcolor\": \"white\", \"linecolor\": \"white\", \"ticks\": \"\"}}, \"title\": {\"x\": 0.05}, \"xaxis\": {\"automargin\": true, \"gridcolor\": \"white\", \"linecolor\": \"white\", \"ticks\": \"\", \"title\": {\"standoff\": 15}, \"zerolinecolor\": \"white\", \"zerolinewidth\": 2}, \"yaxis\": {\"automargin\": true, \"gridcolor\": \"white\", \"linecolor\": \"white\", \"ticks\": \"\", \"title\": {\"standoff\": 15}, \"zerolinecolor\": \"white\", \"zerolinewidth\": 2}}}, \"title\": {\"text\": \"Contour Plot\"}, \"xaxis\": {\"anchor\": \"y\", \"domain\": [0.0, 0.2125], \"matches\": \"x13\", \"range\": [-2.125549521392722, 1.0707433878488852], \"showticklabels\": false, \"type\": \"log\"}, \"xaxis10\": {\"anchor\": \"y10\", \"domain\": [0.2625, 0.475], \"matches\": \"x14\", \"range\": [-8.39491085350528, 1.2334014301479734], \"showticklabels\": false, \"type\": \"log\"}, \"xaxis11\": {\"anchor\": \"y11\", \"domain\": [0.525, 0.7375], \"matches\": \"x15\", \"range\": [0.008695784003626365, 0.08055937102867886], \"showticklabels\": false}, \"xaxis12\": {\"anchor\": \"y12\", \"domain\": [0.7875, 1.0], \"matches\": \"x16\", \"range\": [0.3328147064276981, 1.026534580045795], \"showticklabels\": false}, \"xaxis13\": {\"anchor\": \"y13\", \"domain\": [0.0, 0.2125], \"range\": [-2.125549521392722, 1.0707433878488852], \"title\": {\"text\": \"alpha\"}, \"type\": \"log\"}, \"xaxis14\": {\"anchor\": \"y14\", \"domain\": [0.2625, 0.475], \"range\": [-8.39491085350528, 1.2334014301479734], \"title\": {\"text\": \"lambda\"}, \"type\": \"log\"}, \"xaxis15\": {\"anchor\": \"y15\", \"domain\": [0.525, 0.7375], \"range\": [0.008695784003626365, 0.08055937102867886], \"title\": {\"text\": \"learning_rate\"}}, \"xaxis16\": {\"anchor\": \"y16\", \"domain\": [0.7875, 1.0], \"range\": [0.3328147064276981, 1.026534580045795], \"title\": {\"text\": \"subsample\"}}, \"xaxis2\": {\"anchor\": \"y2\", \"domain\": [0.2625, 0.475], \"matches\": \"x14\", \"range\": [-8.39491085350528, 1.2334014301479734], \"showticklabels\": false, \"type\": \"log\"}, \"xaxis3\": {\"anchor\": \"y3\", \"domain\": [0.525, 0.7375], \"matches\": \"x15\", \"range\": [0.008695784003626365, 0.08055937102867886], \"showticklabels\": false}, \"xaxis4\": {\"anchor\": \"y4\", \"domain\": [0.7875, 1.0], \"matches\": \"x16\", \"range\": [0.3328147064276981, 1.026534580045795], \"showticklabels\": false}, \"xaxis5\": {\"anchor\": \"y5\", \"domain\": [0.0, 0.2125], \"matches\": \"x13\", \"range\": [-2.125549521392722, 1.0707433878488852], \"showticklabels\": false, \"type\": \"log\"}, \"xaxis6\": {\"anchor\": \"y6\", \"domain\": [0.2625, 0.475], \"matches\": \"x14\", \"range\": [-8.39491085350528, 1.2334014301479734], \"showticklabels\": false, \"type\": \"log\"}, \"xaxis7\": {\"anchor\": \"y7\", \"domain\": [0.525, 0.7375], \"matches\": \"x15\", \"range\": [0.008695784003626365, 0.08055937102867886], \"showticklabels\": false}, \"xaxis8\": {\"anchor\": \"y8\", \"domain\": [0.7875, 1.0], \"matches\": \"x16\", \"range\": [0.3328147064276981, 1.026534580045795], \"showticklabels\": false}, \"xaxis9\": {\"anchor\": \"y9\", \"domain\": [0.0, 0.2125], \"matches\": \"x13\", \"range\": [-2.125549521392722, 1.0707433878488852], \"showticklabels\": false, \"type\": \"log\"}, \"yaxis\": {\"anchor\": \"x\", \"domain\": [0.80625, 1.0], \"range\": [-2.125549521392722, 1.0707433878488852], \"title\": {\"text\": \"alpha\"}, \"type\": \"log\"}, \"yaxis10\": {\"anchor\": \"x10\", \"domain\": [0.26875, 0.4625], \"matches\": \"y9\", \"range\": [0.008695784003626365, 0.08055937102867886], \"showticklabels\": false}, \"yaxis11\": {\"anchor\": \"x11\", \"domain\": [0.26875, 0.4625], \"matches\": \"y9\", \"range\": [0.008695784003626365, 0.08055937102867886], \"showticklabels\": false}, \"yaxis12\": {\"anchor\": \"x12\", \"domain\": [0.26875, 0.4625], \"matches\": \"y9\", \"range\": [0.008695784003626365, 0.08055937102867886], \"showticklabels\": false}, \"yaxis13\": {\"anchor\": \"x13\", \"domain\": [0.0, 0.19375], \"range\": [0.3328147064276981, 1.026534580045795], \"title\": {\"text\": \"subsample\"}}, \"yaxis14\": {\"anchor\": \"x14\", \"domain\": [0.0, 0.19375], \"matches\": \"y13\", \"range\": [0.3328147064276981, 1.026534580045795], \"showticklabels\": false}, \"yaxis15\": {\"anchor\": \"x15\", \"domain\": [0.0, 0.19375], \"matches\": \"y13\", \"range\": [0.3328147064276981, 1.026534580045795], \"showticklabels\": false}, \"yaxis16\": {\"anchor\": \"x16\", \"domain\": [0.0, 0.19375], \"matches\": \"y13\", \"range\": [0.3328147064276981, 1.026534580045795], \"showticklabels\": false}, \"yaxis2\": {\"anchor\": \"x2\", \"domain\": [0.80625, 1.0], \"matches\": \"y\", \"range\": [-2.125549521392722, 1.0707433878488852], \"showticklabels\": false, \"type\": \"log\"}, \"yaxis3\": {\"anchor\": \"x3\", \"domain\": [0.80625, 1.0], \"matches\": \"y\", \"range\": [-2.125549521392722, 1.0707433878488852], \"showticklabels\": false, \"type\": \"log\"}, \"yaxis4\": {\"anchor\": \"x4\", \"domain\": [0.80625, 1.0], \"matches\": \"y\", \"range\": [-2.125549521392722, 1.0707433878488852], \"showticklabels\": false, \"type\": \"log\"}, \"yaxis5\": {\"anchor\": \"x5\", \"domain\": [0.5375, 0.73125], \"range\": [-8.39491085350528, 1.2334014301479734], \"title\": {\"text\": \"lambda\"}, \"type\": \"log\"}, \"yaxis6\": {\"anchor\": \"x6\", \"domain\": [0.5375, 0.73125], \"matches\": \"y5\", \"range\": [-8.39491085350528, 1.2334014301479734], \"showticklabels\": false, \"type\": \"log\"}, \"yaxis7\": {\"anchor\": \"x7\", \"domain\": [0.5375, 0.73125], \"matches\": \"y5\", \"range\": [-8.39491085350528, 1.2334014301479734], \"showticklabels\": false, \"type\": \"log\"}, \"yaxis8\": {\"anchor\": \"x8\", \"domain\": [0.5375, 0.73125], \"matches\": \"y5\", \"range\": [-8.39491085350528, 1.2334014301479734], \"showticklabels\": false, \"type\": \"log\"}, \"yaxis9\": {\"anchor\": \"x9\", \"domain\": [0.26875, 0.4625], \"range\": [0.008695784003626365, 0.08055937102867886], \"title\": {\"text\": \"learning_rate\"}}},                        {\"responsive\": true}                    ).then(function(){\n",
       "                            \n",
       "var gd = document.getElementById('871f844b-1f3c-4cc2-b14a-e72792ae5597');\n",
       "var x = new MutationObserver(function (mutations, observer) {{\n",
       "        var display = window.getComputedStyle(gd).display;\n",
       "        if (!display || display === 'none') {{\n",
       "            console.log([gd, 'removed!']);\n",
       "            Plotly.purge(gd);\n",
       "            observer.disconnect();\n",
       "        }}\n",
       "}});\n",
       "\n",
       "// Listen for the removal of the full notebook cells\n",
       "var notebookContainer = gd.closest('#notebook-container');\n",
       "if (notebookContainer) {{\n",
       "    x.observe(notebookContainer, {childList: true});\n",
       "}}\n",
       "\n",
       "// Listen for the clearing of the current output cell\n",
       "var outputEl = gd.closest('.output');\n",
       "if (outputEl) {{\n",
       "    x.observe(outputEl, {childList: true});\n",
       "}}\n",
       "\n",
       "                        })                };                });            </script>        </div>"
      ]
     },
     "metadata": {},
     "output_type": "display_data"
    }
   ],
   "source": [
    "#plot_contour: plots parameter interactions on an interactive chart. You can choose which hyperparameters you would like to explore.\n",
    "optuna.visualization.plot_contour(study, params=['alpha',\n",
    "                            #'max_depth',\n",
    "                            'lambda',\n",
    "                            'subsample',\n",
    "                            'learning_rate',\n",
    "                            'subsample'])"
   ]
  },
  {
   "cell_type": "code",
   "execution_count": 11,
   "metadata": {
    "execution": {
     "iopub.execute_input": "2022-06-04T20:58:23.291336Z",
     "iopub.status.busy": "2022-06-04T20:58:23.286304Z",
     "iopub.status.idle": "2022-06-04T20:58:23.801874Z",
     "shell.execute_reply": "2022-06-04T20:58:23.801253Z",
     "shell.execute_reply.started": "2022-06-04T20:17:02.488618Z"
    },
    "papermill": {
     "duration": 0.565035,
     "end_time": "2022-06-04T20:58:23.802000",
     "exception": false,
     "start_time": "2022-06-04T20:58:23.236965",
     "status": "completed"
    },
    "tags": []
   },
   "outputs": [
    {
     "data": {
      "text/html": [
       "<div>                            <div id=\"28a23ee8-eb1a-45bb-861a-4c4640fb6804\" class=\"plotly-graph-div\" style=\"height:525px; width:100%;\"></div>            <script type=\"text/javascript\">                require([\"plotly\"], function(Plotly) {                    window.PLOTLYENV=window.PLOTLYENV || {};                                    if (document.getElementById(\"28a23ee8-eb1a-45bb-861a-4c4640fb6804\")) {                    Plotly.newPlot(                        \"28a23ee8-eb1a-45bb-861a-4c4640fb6804\",                        [{\"cliponaxis\": false, \"hovertemplate\": [\"lambda (LogUniformDistribution): 0.0009341822955920882<extra></extra>\", \"learning_rate (UniformDistribution): 0.024757419570691278<extra></extra>\", \"colsample_bytree (UniformDistribution): 0.04297305896744381<extra></extra>\", \"subsample (UniformDistribution): 0.08449177712012859<extra></extra>\", \"min_child_weight (UniformDistribution): 0.09507788607565937<extra></extra>\", \"alpha (LogUniformDistribution): 0.1593186527002571<extra></extra>\", \"max_depth (IntUniformDistribution): 0.5924470232702277<extra></extra>\"], \"marker\": {\"color\": [\"rgb(8,48,107)\", \"rgb(8,48,107)\", \"rgb(8,48,107)\", \"rgb(8,48,107)\", \"rgb(8,48,107)\", \"rgb(8,48,107)\", \"rgb(8,81,156)\"]}, \"orientation\": \"h\", \"text\": [\"0.0009341822955920882\", \"0.024757419570691278\", \"0.04297305896744381\", \"0.08449177712012859\", \"0.09507788607565937\", \"0.1593186527002571\", \"0.5924470232702277\"], \"textposition\": \"outside\", \"texttemplate\": \"%{text:.2f}\", \"type\": \"bar\", \"x\": [0.0009341822955920882, 0.024757419570691278, 0.04297305896744381, 0.08449177712012859, 0.09507788607565937, 0.1593186527002571, 0.5924470232702277], \"y\": [\"lambda\", \"learning_rate\", \"colsample_bytree\", \"subsample\", \"min_child_weight\", \"alpha\", \"max_depth\"]}],                        {\"showlegend\": false, \"template\": {\"data\": {\"bar\": [{\"error_x\": {\"color\": \"#2a3f5f\"}, \"error_y\": {\"color\": \"#2a3f5f\"}, \"marker\": {\"line\": {\"color\": \"#E5ECF6\", \"width\": 0.5}}, \"type\": \"bar\"}], \"barpolar\": [{\"marker\": {\"line\": {\"color\": \"#E5ECF6\", \"width\": 0.5}}, \"type\": \"barpolar\"}], \"carpet\": [{\"aaxis\": {\"endlinecolor\": \"#2a3f5f\", \"gridcolor\": \"white\", \"linecolor\": \"white\", \"minorgridcolor\": \"white\", \"startlinecolor\": \"#2a3f5f\"}, \"baxis\": {\"endlinecolor\": \"#2a3f5f\", \"gridcolor\": \"white\", \"linecolor\": \"white\", \"minorgridcolor\": \"white\", \"startlinecolor\": \"#2a3f5f\"}, \"type\": \"carpet\"}], \"choropleth\": [{\"colorbar\": {\"outlinewidth\": 0, \"ticks\": \"\"}, \"type\": \"choropleth\"}], \"contour\": [{\"colorbar\": {\"outlinewidth\": 0, \"ticks\": \"\"}, \"colorscale\": [[0.0, \"#0d0887\"], [0.1111111111111111, \"#46039f\"], [0.2222222222222222, \"#7201a8\"], [0.3333333333333333, \"#9c179e\"], [0.4444444444444444, \"#bd3786\"], [0.5555555555555556, \"#d8576b\"], [0.6666666666666666, \"#ed7953\"], [0.7777777777777778, \"#fb9f3a\"], [0.8888888888888888, \"#fdca26\"], [1.0, \"#f0f921\"]], \"type\": \"contour\"}], \"contourcarpet\": [{\"colorbar\": {\"outlinewidth\": 0, \"ticks\": \"\"}, \"type\": \"contourcarpet\"}], \"heatmap\": [{\"colorbar\": {\"outlinewidth\": 0, \"ticks\": \"\"}, \"colorscale\": [[0.0, \"#0d0887\"], [0.1111111111111111, \"#46039f\"], [0.2222222222222222, \"#7201a8\"], [0.3333333333333333, \"#9c179e\"], [0.4444444444444444, \"#bd3786\"], [0.5555555555555556, \"#d8576b\"], [0.6666666666666666, \"#ed7953\"], [0.7777777777777778, \"#fb9f3a\"], [0.8888888888888888, \"#fdca26\"], [1.0, \"#f0f921\"]], \"type\": \"heatmap\"}], \"heatmapgl\": [{\"colorbar\": {\"outlinewidth\": 0, \"ticks\": \"\"}, \"colorscale\": [[0.0, \"#0d0887\"], [0.1111111111111111, \"#46039f\"], [0.2222222222222222, \"#7201a8\"], [0.3333333333333333, \"#9c179e\"], [0.4444444444444444, \"#bd3786\"], [0.5555555555555556, \"#d8576b\"], [0.6666666666666666, \"#ed7953\"], [0.7777777777777778, \"#fb9f3a\"], [0.8888888888888888, \"#fdca26\"], [1.0, \"#f0f921\"]], \"type\": \"heatmapgl\"}], \"histogram\": [{\"marker\": {\"colorbar\": {\"outlinewidth\": 0, \"ticks\": \"\"}}, \"type\": \"histogram\"}], \"histogram2d\": [{\"colorbar\": {\"outlinewidth\": 0, \"ticks\": \"\"}, \"colorscale\": [[0.0, \"#0d0887\"], [0.1111111111111111, \"#46039f\"], [0.2222222222222222, \"#7201a8\"], [0.3333333333333333, \"#9c179e\"], [0.4444444444444444, \"#bd3786\"], [0.5555555555555556, \"#d8576b\"], [0.6666666666666666, \"#ed7953\"], [0.7777777777777778, \"#fb9f3a\"], [0.8888888888888888, \"#fdca26\"], [1.0, \"#f0f921\"]], \"type\": \"histogram2d\"}], \"histogram2dcontour\": [{\"colorbar\": {\"outlinewidth\": 0, \"ticks\": \"\"}, \"colorscale\": [[0.0, \"#0d0887\"], [0.1111111111111111, \"#46039f\"], [0.2222222222222222, \"#7201a8\"], [0.3333333333333333, \"#9c179e\"], [0.4444444444444444, \"#bd3786\"], [0.5555555555555556, \"#d8576b\"], [0.6666666666666666, \"#ed7953\"], [0.7777777777777778, \"#fb9f3a\"], [0.8888888888888888, \"#fdca26\"], [1.0, \"#f0f921\"]], \"type\": \"histogram2dcontour\"}], \"mesh3d\": [{\"colorbar\": {\"outlinewidth\": 0, \"ticks\": \"\"}, \"type\": \"mesh3d\"}], \"parcoords\": [{\"line\": {\"colorbar\": {\"outlinewidth\": 0, \"ticks\": \"\"}}, \"type\": \"parcoords\"}], \"pie\": [{\"automargin\": true, \"type\": \"pie\"}], \"scatter\": [{\"marker\": {\"colorbar\": {\"outlinewidth\": 0, \"ticks\": \"\"}}, \"type\": \"scatter\"}], \"scatter3d\": [{\"line\": {\"colorbar\": {\"outlinewidth\": 0, \"ticks\": \"\"}}, \"marker\": {\"colorbar\": {\"outlinewidth\": 0, \"ticks\": \"\"}}, \"type\": \"scatter3d\"}], \"scattercarpet\": [{\"marker\": {\"colorbar\": {\"outlinewidth\": 0, \"ticks\": \"\"}}, \"type\": \"scattercarpet\"}], \"scattergeo\": [{\"marker\": {\"colorbar\": {\"outlinewidth\": 0, \"ticks\": \"\"}}, \"type\": \"scattergeo\"}], \"scattergl\": [{\"marker\": {\"colorbar\": {\"outlinewidth\": 0, \"ticks\": \"\"}}, \"type\": \"scattergl\"}], \"scattermapbox\": [{\"marker\": {\"colorbar\": {\"outlinewidth\": 0, \"ticks\": \"\"}}, \"type\": \"scattermapbox\"}], \"scatterpolar\": [{\"marker\": {\"colorbar\": {\"outlinewidth\": 0, \"ticks\": \"\"}}, \"type\": \"scatterpolar\"}], \"scatterpolargl\": [{\"marker\": {\"colorbar\": {\"outlinewidth\": 0, \"ticks\": \"\"}}, \"type\": \"scatterpolargl\"}], \"scatterternary\": [{\"marker\": {\"colorbar\": {\"outlinewidth\": 0, \"ticks\": \"\"}}, \"type\": \"scatterternary\"}], \"surface\": [{\"colorbar\": {\"outlinewidth\": 0, \"ticks\": \"\"}, \"colorscale\": [[0.0, \"#0d0887\"], [0.1111111111111111, \"#46039f\"], [0.2222222222222222, \"#7201a8\"], [0.3333333333333333, \"#9c179e\"], [0.4444444444444444, \"#bd3786\"], [0.5555555555555556, \"#d8576b\"], [0.6666666666666666, \"#ed7953\"], [0.7777777777777778, \"#fb9f3a\"], [0.8888888888888888, \"#fdca26\"], [1.0, \"#f0f921\"]], \"type\": \"surface\"}], \"table\": [{\"cells\": {\"fill\": {\"color\": \"#EBF0F8\"}, \"line\": {\"color\": \"white\"}}, \"header\": {\"fill\": {\"color\": \"#C8D4E3\"}, \"line\": {\"color\": \"white\"}}, \"type\": \"table\"}]}, \"layout\": {\"annotationdefaults\": {\"arrowcolor\": \"#2a3f5f\", \"arrowhead\": 0, \"arrowwidth\": 1}, \"autotypenumbers\": \"strict\", \"coloraxis\": {\"colorbar\": {\"outlinewidth\": 0, \"ticks\": \"\"}}, \"colorscale\": {\"diverging\": [[0, \"#8e0152\"], [0.1, \"#c51b7d\"], [0.2, \"#de77ae\"], [0.3, \"#f1b6da\"], [0.4, \"#fde0ef\"], [0.5, \"#f7f7f7\"], [0.6, \"#e6f5d0\"], [0.7, \"#b8e186\"], [0.8, \"#7fbc41\"], [0.9, \"#4d9221\"], [1, \"#276419\"]], \"sequential\": [[0.0, \"#0d0887\"], [0.1111111111111111, \"#46039f\"], [0.2222222222222222, \"#7201a8\"], [0.3333333333333333, \"#9c179e\"], [0.4444444444444444, \"#bd3786\"], [0.5555555555555556, \"#d8576b\"], [0.6666666666666666, \"#ed7953\"], [0.7777777777777778, \"#fb9f3a\"], [0.8888888888888888, \"#fdca26\"], [1.0, \"#f0f921\"]], \"sequentialminus\": [[0.0, \"#0d0887\"], [0.1111111111111111, \"#46039f\"], [0.2222222222222222, \"#7201a8\"], [0.3333333333333333, \"#9c179e\"], [0.4444444444444444, \"#bd3786\"], [0.5555555555555556, \"#d8576b\"], [0.6666666666666666, \"#ed7953\"], [0.7777777777777778, \"#fb9f3a\"], [0.8888888888888888, \"#fdca26\"], [1.0, \"#f0f921\"]]}, \"colorway\": [\"#636efa\", \"#EF553B\", \"#00cc96\", \"#ab63fa\", \"#FFA15A\", \"#19d3f3\", \"#FF6692\", \"#B6E880\", \"#FF97FF\", \"#FECB52\"], \"font\": {\"color\": \"#2a3f5f\"}, \"geo\": {\"bgcolor\": \"white\", \"lakecolor\": \"white\", \"landcolor\": \"#E5ECF6\", \"showlakes\": true, \"showland\": true, \"subunitcolor\": \"white\"}, \"hoverlabel\": {\"align\": \"left\"}, \"hovermode\": \"closest\", \"mapbox\": {\"style\": \"light\"}, \"paper_bgcolor\": \"white\", \"plot_bgcolor\": \"#E5ECF6\", \"polar\": {\"angularaxis\": {\"gridcolor\": \"white\", \"linecolor\": \"white\", \"ticks\": \"\"}, \"bgcolor\": \"#E5ECF6\", \"radialaxis\": {\"gridcolor\": \"white\", \"linecolor\": \"white\", \"ticks\": \"\"}}, \"scene\": {\"xaxis\": {\"backgroundcolor\": \"#E5ECF6\", \"gridcolor\": \"white\", \"gridwidth\": 2, \"linecolor\": \"white\", \"showbackground\": true, \"ticks\": \"\", \"zerolinecolor\": \"white\"}, \"yaxis\": {\"backgroundcolor\": \"#E5ECF6\", \"gridcolor\": \"white\", \"gridwidth\": 2, \"linecolor\": \"white\", \"showbackground\": true, \"ticks\": \"\", \"zerolinecolor\": \"white\"}, \"zaxis\": {\"backgroundcolor\": \"#E5ECF6\", \"gridcolor\": \"white\", \"gridwidth\": 2, \"linecolor\": \"white\", \"showbackground\": true, \"ticks\": \"\", \"zerolinecolor\": \"white\"}}, \"shapedefaults\": {\"line\": {\"color\": \"#2a3f5f\"}}, \"ternary\": {\"aaxis\": {\"gridcolor\": \"white\", \"linecolor\": \"white\", \"ticks\": \"\"}, \"baxis\": {\"gridcolor\": \"white\", \"linecolor\": \"white\", \"ticks\": \"\"}, \"bgcolor\": \"#E5ECF6\", \"caxis\": {\"gridcolor\": \"white\", \"linecolor\": \"white\", \"ticks\": \"\"}}, \"title\": {\"x\": 0.05}, \"xaxis\": {\"automargin\": true, \"gridcolor\": \"white\", \"linecolor\": \"white\", \"ticks\": \"\", \"title\": {\"standoff\": 15}, \"zerolinecolor\": \"white\", \"zerolinewidth\": 2}, \"yaxis\": {\"automargin\": true, \"gridcolor\": \"white\", \"linecolor\": \"white\", \"ticks\": \"\", \"title\": {\"standoff\": 15}, \"zerolinecolor\": \"white\", \"zerolinewidth\": 2}}}, \"title\": {\"text\": \"Hyperparameter Importances\"}, \"xaxis\": {\"title\": {\"text\": \"Importance\"}}, \"yaxis\": {\"title\": {\"text\": \"Hyperparameter\"}}},                        {\"responsive\": true}                    ).then(function(){\n",
       "                            \n",
       "var gd = document.getElementById('28a23ee8-eb1a-45bb-861a-4c4640fb6804');\n",
       "var x = new MutationObserver(function (mutations, observer) {{\n",
       "        var display = window.getComputedStyle(gd).display;\n",
       "        if (!display || display === 'none') {{\n",
       "            console.log([gd, 'removed!']);\n",
       "            Plotly.purge(gd);\n",
       "            observer.disconnect();\n",
       "        }}\n",
       "}});\n",
       "\n",
       "// Listen for the removal of the full notebook cells\n",
       "var notebookContainer = gd.closest('#notebook-container');\n",
       "if (notebookContainer) {{\n",
       "    x.observe(notebookContainer, {childList: true});\n",
       "}}\n",
       "\n",
       "// Listen for the clearing of the current output cell\n",
       "var outputEl = gd.closest('.output');\n",
       "if (outputEl) {{\n",
       "    x.observe(outputEl, {childList: true});\n",
       "}}\n",
       "\n",
       "                        })                };                });            </script>        </div>"
      ]
     },
     "metadata": {},
     "output_type": "display_data"
    }
   ],
   "source": [
    "#Visualize parameter importances.\n",
    "optuna.visualization.plot_param_importances(study)"
   ]
  },
  {
   "cell_type": "code",
   "execution_count": 12,
   "metadata": {
    "execution": {
     "iopub.execute_input": "2022-06-04T20:58:23.872565Z",
     "iopub.status.busy": "2022-06-04T20:58:23.871742Z",
     "iopub.status.idle": "2022-06-04T20:58:23.877845Z",
     "shell.execute_reply": "2022-06-04T20:58:23.877302Z",
     "shell.execute_reply.started": "2022-06-04T20:20:00.025575Z"
    },
    "papermill": {
     "duration": 0.045389,
     "end_time": "2022-06-04T20:58:23.877933",
     "exception": false,
     "start_time": "2022-06-04T20:58:23.832544",
     "status": "completed"
    },
    "tags": []
   },
   "outputs": [
    {
     "data": {
      "text/html": [
       "<div>                            <div id=\"55c8f088-af12-40ea-9f72-418b92373533\" class=\"plotly-graph-div\" style=\"height:525px; width:100%;\"></div>            <script type=\"text/javascript\">                require([\"plotly\"], function(Plotly) {                    window.PLOTLYENV=window.PLOTLYENV || {};                                    if (document.getElementById(\"55c8f088-af12-40ea-9f72-418b92373533\")) {                    Plotly.newPlot(                        \"55c8f088-af12-40ea-9f72-418b92373533\",                        [{\"mode\": \"lines\", \"name\": \"no-name-39ad46d8-a842-4e2a-971b-153ccc60183e\", \"type\": \"scatter\", \"x\": [0.6982600215100139, 0.6984014968350266, 0.6985429721600392, 0.698684447485052, 0.6988259228100647, 0.6989673981350774, 0.6991088734600901, 0.6992503487851027, 0.6993918241101155, 0.6995332994351282, 0.6996747747601408, 0.6998162500851536, 0.6999577254101663, 0.700099200735179, 0.7002406760601917, 0.7003821513852043, 0.7005236267102171, 0.7006651020352298, 0.7008065773602424, 0.7009480526852552, 0.7010895280102679, 0.7012310033352805, 0.7013724786602933, 0.7015139539853059, 0.7016554293103187, 0.7017969046353314, 0.701938379960344, 0.7020798552853568, 0.7022213306103695, 0.7023628059353821, 0.7025042812603949, 0.7026457565854075, 0.7027872319104203, 0.702928707235433, 0.7030701825604456, 0.7032116578854584, 0.7033531332104711, 0.7034946085354837, 0.7036360838604965, 0.7037775591855091, 0.7039190345105218, 0.7040605098355346, 0.7042019851605472, 0.70434346048556, 0.7044849358105727, 0.7046264111355853, 0.7047678864605981, 0.7049093617856107, 0.7050508371106234, 0.7051923124356362, 0.7053337877606488, 0.7054752630856616, 0.7056167384106743, 0.7057582137356869, 0.7058996890606997, 0.7060411643857123, 0.706182639710725, 0.7063241150357378, 0.7064655903607504, 0.7066070656857631, 0.7067485410107759, 0.7068900163357885, 0.7070314916608013, 0.7071729669858139, 0.7073144423108266, 0.7074559176358394, 0.707597392960852, 0.7077388682858647, 0.7078803436108775, 0.7080218189358901, 0.7081632942609029, 0.7083047695859155, 0.7084462449109282, 0.708587720235941, 0.7087291955609536, 0.7088706708859663, 0.7090121462109791, 0.7091536215359917, 0.7092950968610044, 0.7094365721860171, 0.7095780475110298, 0.7097195228360426, 0.7098609981610552, 0.7100024734860679, 0.7101439488110807, 0.7102854241360933, 0.710426899461106, 0.7105683747861187, 0.7107098501111314, 0.7108513254361442, 0.7109928007611568, 0.7111342760861695, 0.7112757514111823, 0.7114172267361949, 0.7115587020612076, 0.7117001773862203, 0.711841652711233, 0.7119831280362457, 0.7121246033612584, 0.7122660786862711], \"y\": [0.05, 0.05, 0.05, 0.2, 0.25, 0.3, 0.35, 0.4, 0.45, 0.45, 0.5, 0.5, 0.5, 0.5, 0.5, 0.55, 0.6, 0.6, 0.65, 0.65, 0.65, 0.65, 0.65, 0.65, 0.65, 0.7, 0.7, 0.7, 0.75, 0.8, 0.8, 0.8, 0.8, 0.8, 0.8, 0.8, 0.8, 0.8, 0.8, 0.8, 0.8, 0.8, 0.8, 0.8, 0.85, 0.85, 0.85, 0.85, 0.85, 0.85, 0.85, 0.85, 0.85, 0.85, 0.85, 0.85, 0.85, 0.85, 0.85, 0.85, 0.85, 0.85, 0.85, 0.85, 0.85, 0.85, 0.9, 0.9, 0.9, 0.9, 0.9, 0.9, 0.9, 0.9, 0.9, 0.9, 0.9, 0.95, 0.95, 0.95, 0.95, 0.95, 0.95, 0.95, 0.95, 0.95, 0.95, 0.95, 0.95, 0.95, 0.95, 0.95, 0.95, 0.95, 0.95, 0.95, 0.95, 0.95, 0.95, 1.0]}],                        {\"template\": {\"data\": {\"bar\": [{\"error_x\": {\"color\": \"#2a3f5f\"}, \"error_y\": {\"color\": \"#2a3f5f\"}, \"marker\": {\"line\": {\"color\": \"#E5ECF6\", \"width\": 0.5}}, \"type\": \"bar\"}], \"barpolar\": [{\"marker\": {\"line\": {\"color\": \"#E5ECF6\", \"width\": 0.5}}, \"type\": \"barpolar\"}], \"carpet\": [{\"aaxis\": {\"endlinecolor\": \"#2a3f5f\", \"gridcolor\": \"white\", \"linecolor\": \"white\", \"minorgridcolor\": \"white\", \"startlinecolor\": \"#2a3f5f\"}, \"baxis\": {\"endlinecolor\": \"#2a3f5f\", \"gridcolor\": \"white\", \"linecolor\": \"white\", \"minorgridcolor\": \"white\", \"startlinecolor\": \"#2a3f5f\"}, \"type\": \"carpet\"}], \"choropleth\": [{\"colorbar\": {\"outlinewidth\": 0, \"ticks\": \"\"}, \"type\": \"choropleth\"}], \"contour\": [{\"colorbar\": {\"outlinewidth\": 0, \"ticks\": \"\"}, \"colorscale\": [[0.0, \"#0d0887\"], [0.1111111111111111, \"#46039f\"], [0.2222222222222222, \"#7201a8\"], [0.3333333333333333, \"#9c179e\"], [0.4444444444444444, \"#bd3786\"], [0.5555555555555556, \"#d8576b\"], [0.6666666666666666, \"#ed7953\"], [0.7777777777777778, \"#fb9f3a\"], [0.8888888888888888, \"#fdca26\"], [1.0, \"#f0f921\"]], \"type\": \"contour\"}], \"contourcarpet\": [{\"colorbar\": {\"outlinewidth\": 0, \"ticks\": \"\"}, \"type\": \"contourcarpet\"}], \"heatmap\": [{\"colorbar\": {\"outlinewidth\": 0, \"ticks\": \"\"}, \"colorscale\": [[0.0, \"#0d0887\"], [0.1111111111111111, \"#46039f\"], [0.2222222222222222, \"#7201a8\"], [0.3333333333333333, \"#9c179e\"], [0.4444444444444444, \"#bd3786\"], [0.5555555555555556, \"#d8576b\"], [0.6666666666666666, \"#ed7953\"], [0.7777777777777778, \"#fb9f3a\"], [0.8888888888888888, \"#fdca26\"], [1.0, \"#f0f921\"]], \"type\": \"heatmap\"}], \"heatmapgl\": [{\"colorbar\": {\"outlinewidth\": 0, \"ticks\": \"\"}, \"colorscale\": [[0.0, \"#0d0887\"], [0.1111111111111111, \"#46039f\"], [0.2222222222222222, \"#7201a8\"], [0.3333333333333333, \"#9c179e\"], [0.4444444444444444, \"#bd3786\"], [0.5555555555555556, \"#d8576b\"], [0.6666666666666666, \"#ed7953\"], [0.7777777777777778, \"#fb9f3a\"], [0.8888888888888888, \"#fdca26\"], [1.0, \"#f0f921\"]], \"type\": \"heatmapgl\"}], \"histogram\": [{\"marker\": {\"colorbar\": {\"outlinewidth\": 0, \"ticks\": \"\"}}, \"type\": \"histogram\"}], \"histogram2d\": [{\"colorbar\": {\"outlinewidth\": 0, \"ticks\": \"\"}, \"colorscale\": [[0.0, \"#0d0887\"], [0.1111111111111111, \"#46039f\"], [0.2222222222222222, \"#7201a8\"], [0.3333333333333333, \"#9c179e\"], [0.4444444444444444, \"#bd3786\"], [0.5555555555555556, \"#d8576b\"], [0.6666666666666666, \"#ed7953\"], [0.7777777777777778, \"#fb9f3a\"], [0.8888888888888888, \"#fdca26\"], [1.0, \"#f0f921\"]], \"type\": \"histogram2d\"}], \"histogram2dcontour\": [{\"colorbar\": {\"outlinewidth\": 0, \"ticks\": \"\"}, \"colorscale\": [[0.0, \"#0d0887\"], [0.1111111111111111, \"#46039f\"], [0.2222222222222222, \"#7201a8\"], [0.3333333333333333, \"#9c179e\"], [0.4444444444444444, \"#bd3786\"], [0.5555555555555556, \"#d8576b\"], [0.6666666666666666, \"#ed7953\"], [0.7777777777777778, \"#fb9f3a\"], [0.8888888888888888, \"#fdca26\"], [1.0, \"#f0f921\"]], \"type\": \"histogram2dcontour\"}], \"mesh3d\": [{\"colorbar\": {\"outlinewidth\": 0, \"ticks\": \"\"}, \"type\": \"mesh3d\"}], \"parcoords\": [{\"line\": {\"colorbar\": {\"outlinewidth\": 0, \"ticks\": \"\"}}, \"type\": \"parcoords\"}], \"pie\": [{\"automargin\": true, \"type\": \"pie\"}], \"scatter\": [{\"marker\": {\"colorbar\": {\"outlinewidth\": 0, \"ticks\": \"\"}}, \"type\": \"scatter\"}], \"scatter3d\": [{\"line\": {\"colorbar\": {\"outlinewidth\": 0, \"ticks\": \"\"}}, \"marker\": {\"colorbar\": {\"outlinewidth\": 0, \"ticks\": \"\"}}, \"type\": \"scatter3d\"}], \"scattercarpet\": [{\"marker\": {\"colorbar\": {\"outlinewidth\": 0, \"ticks\": \"\"}}, \"type\": \"scattercarpet\"}], \"scattergeo\": [{\"marker\": {\"colorbar\": {\"outlinewidth\": 0, \"ticks\": \"\"}}, \"type\": \"scattergeo\"}], \"scattergl\": [{\"marker\": {\"colorbar\": {\"outlinewidth\": 0, \"ticks\": \"\"}}, \"type\": \"scattergl\"}], \"scattermapbox\": [{\"marker\": {\"colorbar\": {\"outlinewidth\": 0, \"ticks\": \"\"}}, \"type\": \"scattermapbox\"}], \"scatterpolar\": [{\"marker\": {\"colorbar\": {\"outlinewidth\": 0, \"ticks\": \"\"}}, \"type\": \"scatterpolar\"}], \"scatterpolargl\": [{\"marker\": {\"colorbar\": {\"outlinewidth\": 0, \"ticks\": \"\"}}, \"type\": \"scatterpolargl\"}], \"scatterternary\": [{\"marker\": {\"colorbar\": {\"outlinewidth\": 0, \"ticks\": \"\"}}, \"type\": \"scatterternary\"}], \"surface\": [{\"colorbar\": {\"outlinewidth\": 0, \"ticks\": \"\"}, \"colorscale\": [[0.0, \"#0d0887\"], [0.1111111111111111, \"#46039f\"], [0.2222222222222222, \"#7201a8\"], [0.3333333333333333, \"#9c179e\"], [0.4444444444444444, \"#bd3786\"], [0.5555555555555556, \"#d8576b\"], [0.6666666666666666, \"#ed7953\"], [0.7777777777777778, \"#fb9f3a\"], [0.8888888888888888, \"#fdca26\"], [1.0, \"#f0f921\"]], \"type\": \"surface\"}], \"table\": [{\"cells\": {\"fill\": {\"color\": \"#EBF0F8\"}, \"line\": {\"color\": \"white\"}}, \"header\": {\"fill\": {\"color\": \"#C8D4E3\"}, \"line\": {\"color\": \"white\"}}, \"type\": \"table\"}]}, \"layout\": {\"annotationdefaults\": {\"arrowcolor\": \"#2a3f5f\", \"arrowhead\": 0, \"arrowwidth\": 1}, \"autotypenumbers\": \"strict\", \"coloraxis\": {\"colorbar\": {\"outlinewidth\": 0, \"ticks\": \"\"}}, \"colorscale\": {\"diverging\": [[0, \"#8e0152\"], [0.1, \"#c51b7d\"], [0.2, \"#de77ae\"], [0.3, \"#f1b6da\"], [0.4, \"#fde0ef\"], [0.5, \"#f7f7f7\"], [0.6, \"#e6f5d0\"], [0.7, \"#b8e186\"], [0.8, \"#7fbc41\"], [0.9, \"#4d9221\"], [1, \"#276419\"]], \"sequential\": [[0.0, \"#0d0887\"], [0.1111111111111111, \"#46039f\"], [0.2222222222222222, \"#7201a8\"], [0.3333333333333333, \"#9c179e\"], [0.4444444444444444, \"#bd3786\"], [0.5555555555555556, \"#d8576b\"], [0.6666666666666666, \"#ed7953\"], [0.7777777777777778, \"#fb9f3a\"], [0.8888888888888888, \"#fdca26\"], [1.0, \"#f0f921\"]], \"sequentialminus\": [[0.0, \"#0d0887\"], [0.1111111111111111, \"#46039f\"], [0.2222222222222222, \"#7201a8\"], [0.3333333333333333, \"#9c179e\"], [0.4444444444444444, \"#bd3786\"], [0.5555555555555556, \"#d8576b\"], [0.6666666666666666, \"#ed7953\"], [0.7777777777777778, \"#fb9f3a\"], [0.8888888888888888, \"#fdca26\"], [1.0, \"#f0f921\"]]}, \"colorway\": [\"#636efa\", \"#EF553B\", \"#00cc96\", \"#ab63fa\", \"#FFA15A\", \"#19d3f3\", \"#FF6692\", \"#B6E880\", \"#FF97FF\", \"#FECB52\"], \"font\": {\"color\": \"#2a3f5f\"}, \"geo\": {\"bgcolor\": \"white\", \"lakecolor\": \"white\", \"landcolor\": \"#E5ECF6\", \"showlakes\": true, \"showland\": true, \"subunitcolor\": \"white\"}, \"hoverlabel\": {\"align\": \"left\"}, \"hovermode\": \"closest\", \"mapbox\": {\"style\": \"light\"}, \"paper_bgcolor\": \"white\", \"plot_bgcolor\": \"#E5ECF6\", \"polar\": {\"angularaxis\": {\"gridcolor\": \"white\", \"linecolor\": \"white\", \"ticks\": \"\"}, \"bgcolor\": \"#E5ECF6\", \"radialaxis\": {\"gridcolor\": \"white\", \"linecolor\": \"white\", \"ticks\": \"\"}}, \"scene\": {\"xaxis\": {\"backgroundcolor\": \"#E5ECF6\", \"gridcolor\": \"white\", \"gridwidth\": 2, \"linecolor\": \"white\", \"showbackground\": true, \"ticks\": \"\", \"zerolinecolor\": \"white\"}, \"yaxis\": {\"backgroundcolor\": \"#E5ECF6\", \"gridcolor\": \"white\", \"gridwidth\": 2, \"linecolor\": \"white\", \"showbackground\": true, \"ticks\": \"\", \"zerolinecolor\": \"white\"}, \"zaxis\": {\"backgroundcolor\": \"#E5ECF6\", \"gridcolor\": \"white\", \"gridwidth\": 2, \"linecolor\": \"white\", \"showbackground\": true, \"ticks\": \"\", \"zerolinecolor\": \"white\"}}, \"shapedefaults\": {\"line\": {\"color\": \"#2a3f5f\"}}, \"ternary\": {\"aaxis\": {\"gridcolor\": \"white\", \"linecolor\": \"white\", \"ticks\": \"\"}, \"baxis\": {\"gridcolor\": \"white\", \"linecolor\": \"white\", \"ticks\": \"\"}, \"bgcolor\": \"#E5ECF6\", \"caxis\": {\"gridcolor\": \"white\", \"linecolor\": \"white\", \"ticks\": \"\"}}, \"title\": {\"x\": 0.05}, \"xaxis\": {\"automargin\": true, \"gridcolor\": \"white\", \"linecolor\": \"white\", \"ticks\": \"\", \"title\": {\"standoff\": 15}, \"zerolinecolor\": \"white\", \"zerolinewidth\": 2}, \"yaxis\": {\"automargin\": true, \"gridcolor\": \"white\", \"linecolor\": \"white\", \"ticks\": \"\", \"title\": {\"standoff\": 15}, \"zerolinecolor\": \"white\", \"zerolinewidth\": 2}}}, \"title\": {\"text\": \"Empirical Distribution Function Plot\"}, \"xaxis\": {\"title\": {\"text\": \"Objective Value\"}}, \"yaxis\": {\"range\": [0, 1], \"title\": {\"text\": \"Cumulative Probability\"}}},                        {\"responsive\": true}                    ).then(function(){\n",
       "                            \n",
       "var gd = document.getElementById('55c8f088-af12-40ea-9f72-418b92373533');\n",
       "var x = new MutationObserver(function (mutations, observer) {{\n",
       "        var display = window.getComputedStyle(gd).display;\n",
       "        if (!display || display === 'none') {{\n",
       "            console.log([gd, 'removed!']);\n",
       "            Plotly.purge(gd);\n",
       "            observer.disconnect();\n",
       "        }}\n",
       "}});\n",
       "\n",
       "// Listen for the removal of the full notebook cells\n",
       "var notebookContainer = gd.closest('#notebook-container');\n",
       "if (notebookContainer) {{\n",
       "    x.observe(notebookContainer, {childList: true});\n",
       "}}\n",
       "\n",
       "// Listen for the clearing of the current output cell\n",
       "var outputEl = gd.closest('.output');\n",
       "if (outputEl) {{\n",
       "    x.observe(outputEl, {childList: true});\n",
       "}}\n",
       "\n",
       "                        })                };                });            </script>        </div>"
      ]
     },
     "metadata": {},
     "output_type": "display_data"
    }
   ],
   "source": [
    "#Visualize empirical distribution function\n",
    "optuna.visualization.plot_edf(study)"
   ]
  },
  {
   "cell_type": "markdown",
   "metadata": {
    "papermill": {
     "duration": 0.029856,
     "end_time": "2022-06-04T20:58:23.938104",
     "exception": false,
     "start_time": "2022-06-04T20:58:23.908248",
     "status": "completed"
    },
    "tags": []
   },
   "source": [
    "### Optuna with cross-validation code was developed using this: https://aetperf.github.io/2021/02/16/Optuna-+-XGBoost-on-a-tabular-dataset.html"
   ]
  },
  {
   "cell_type": "markdown",
   "metadata": {
    "papermill": {
     "duration": 0.03014,
     "end_time": "2022-06-04T20:58:23.998417",
     "exception": false,
     "start_time": "2022-06-04T20:58:23.968277",
     "status": "completed"
    },
    "tags": []
   },
   "source": [
    "# Let's create an XGBoostRegressor model with the best hyperparameters"
   ]
  },
  {
   "cell_type": "code",
   "execution_count": 13,
   "metadata": {
    "execution": {
     "iopub.execute_input": "2022-06-04T20:58:24.062593Z",
     "iopub.status.busy": "2022-06-04T20:58:24.061868Z",
     "iopub.status.idle": "2022-06-04T20:58:24.064803Z",
     "shell.execute_reply": "2022-06-04T20:58:24.064222Z",
     "shell.execute_reply.started": "2022-05-01T17:22:57.599389Z"
    },
    "papermill": {
     "duration": 0.036191,
     "end_time": "2022-06-04T20:58:24.064900",
     "exception": false,
     "start_time": "2022-06-04T20:58:24.028709",
     "status": "completed"
    },
    "tags": []
   },
   "outputs": [],
   "source": [
    "#Best_trial = study.best_trial.params\n",
    "#Best_trial[\"n_estimators\"], Best_trial[\"tree_method\"] = 10000, 'gpu_hist'\n",
    "#Best_trial"
   ]
  },
  {
   "cell_type": "code",
   "execution_count": 14,
   "metadata": {
    "execution": {
     "iopub.execute_input": "2022-06-04T20:58:24.128869Z",
     "iopub.status.busy": "2022-06-04T20:58:24.128150Z",
     "iopub.status.idle": "2022-06-04T20:58:24.130912Z",
     "shell.execute_reply": "2022-06-04T20:58:24.130474Z",
     "shell.execute_reply.started": "2022-05-01T17:23:22.067386Z"
    },
    "papermill": {
     "duration": 0.03629,
     "end_time": "2022-06-04T20:58:24.130996",
     "exception": false,
     "start_time": "2022-06-04T20:58:24.094706",
     "status": "completed"
    },
    "tags": []
   },
   "outputs": [],
   "source": [
    "#preds = np.zeros(test.shape[0])\n",
    "#kf = KFold(n_splits=5,random_state=48,shuffle=True)\n",
    "#rmse=[]  # list contains rmse for each fold\n",
    "#n=0\n",
    "#for trn_idx, test_idx in kf.split(train[columns],train['target']):\n",
    "#    X_tr,X_val=train[columns].iloc[trn_idx],train[columns].iloc[test_idx]\n",
    "#    y_tr,y_val=train['target'].iloc[trn_idx],train['target'].iloc[test_idx]\n",
    "#    model = xgb.XGBRegressor(**Best_trial)\n",
    "#    model.fit(X_tr,y_tr,eval_set=[(X_val,y_val)],early_stopping_rounds=100,verbose=False)\n",
    "#    preds+=model.predict(test[columns])/kf.n_splits\n",
    "#    rmse.append(mean_squared_error(y_val, model.predict(X_val), squared=False))\n",
    "#    print(f\"fold: {n+1} ==> rmse: {rmse[n]}\")\n",
    "#    n+=1"
   ]
  },
  {
   "cell_type": "code",
   "execution_count": 15,
   "metadata": {
    "execution": {
     "iopub.execute_input": "2022-06-04T20:58:24.194994Z",
     "iopub.status.busy": "2022-06-04T20:58:24.194229Z",
     "iopub.status.idle": "2022-06-04T20:58:24.196593Z",
     "shell.execute_reply": "2022-06-04T20:58:24.197100Z",
     "shell.execute_reply.started": "2022-05-01T17:33:56.132385Z"
    },
    "papermill": {
     "duration": 0.036025,
     "end_time": "2022-06-04T20:58:24.197202",
     "exception": false,
     "start_time": "2022-06-04T20:58:24.161177",
     "status": "completed"
    },
    "tags": []
   },
   "outputs": [],
   "source": [
    "#np.mean(rmse)"
   ]
  },
  {
   "cell_type": "markdown",
   "metadata": {
    "papermill": {
     "duration": 0.02977,
     "end_time": "2022-06-04T20:58:24.257150",
     "exception": false,
     "start_time": "2022-06-04T20:58:24.227380",
     "status": "completed"
    },
    "tags": []
   },
   "source": [
    "# 5. Submission <a class=\"anchor\" id=\"chapter5\"></a>"
   ]
  },
  {
   "cell_type": "code",
   "execution_count": 16,
   "metadata": {
    "execution": {
     "iopub.execute_input": "2022-06-04T20:58:24.321632Z",
     "iopub.status.busy": "2022-06-04T20:58:24.320903Z",
     "iopub.status.idle": "2022-06-04T20:58:24.324119Z",
     "shell.execute_reply": "2022-06-04T20:58:24.323700Z",
     "shell.execute_reply.started": "2022-05-01T18:57:00.12764Z"
    },
    "papermill": {
     "duration": 0.036749,
     "end_time": "2022-06-04T20:58:24.324209",
     "exception": false,
     "start_time": "2022-06-04T20:58:24.287460",
     "status": "completed"
    },
    "tags": []
   },
   "outputs": [],
   "source": [
    "#sub['target']=preds\n",
    "#sub.to_csv('submission.csv', index=False)"
   ]
  }
 ],
 "metadata": {
  "kernelspec": {
   "display_name": "Python 3",
   "language": "python",
   "name": "python3"
  },
  "language_info": {
   "codemirror_mode": {
    "name": "ipython",
    "version": 3
   },
   "file_extension": ".py",
   "mimetype": "text/x-python",
   "name": "python",
   "nbconvert_exporter": "python",
   "pygments_lexer": "ipython3",
   "version": "3.7.6"
  },
  "papermill": {
   "duration": 2107.037158,
   "end_time": "2022-06-04T20:58:24.460932",
   "environment_variables": {},
   "exception": null,
   "input_path": "__notebook__.ipynb",
   "output_path": "__notebook__.ipynb",
   "parameters": {},
   "start_time": "2022-06-04T20:23:17.423774",
   "version": "2.1.0"
  }
 },
 "nbformat": 4,
 "nbformat_minor": 4
}
