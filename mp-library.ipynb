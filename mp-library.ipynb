{
 "cells": [
  {
   "cell_type": "markdown",
   "id": "b542a327",
   "metadata": {
    "papermill": {
     "duration": 0.007109,
     "end_time": "2022-06-03T01:53:22.533317",
     "exception": false,
     "start_time": "2022-06-03T01:53:22.526208",
     "status": "completed"
    },
    "tags": []
   },
   "source": [
    "### This is my library of Python functions to speed up standard ML analysis of tabular data.\n",
    "\n",
    "Author: Mykola Pinchuk\n",
    "\n",
    "Started on 05/21/2022"
   ]
  },
  {
   "cell_type": "code",
   "execution_count": 1,
   "id": "277ed3cb",
   "metadata": {
    "execution": {
     "iopub.execute_input": "2022-06-03T01:53:22.548618Z",
     "iopub.status.busy": "2022-06-03T01:53:22.547913Z",
     "iopub.status.idle": "2022-06-03T01:53:22.592854Z",
     "shell.execute_reply": "2022-06-03T01:53:22.591783Z"
    },
    "papermill": {
     "duration": 0.055463,
     "end_time": "2022-06-03T01:53:22.595599",
     "exception": false,
     "start_time": "2022-06-03T01:53:22.540136",
     "status": "completed"
    },
    "tags": []
   },
   "outputs": [],
   "source": [
    "def fillna_mp_i1(df_train, df_test, df_pred, num_features, cat_features, num_fill='median', cat_fill='mode'):\n",
    "    \"\"\"This function speeds up filling missing values for 3 main datasets using different imputation methods.\n",
    "    Later may replace it with some subclass.\n",
    "    Example: \n",
    "    fillna_mp_i1(X_train, X_test, X_pred, num_cols, cat_cols)\"\"\"\n",
    "    \n",
    "    # set df_pred to None if it does not exist\n",
    "    if (cat_features is not None):\n",
    "        if (cat_fill=='mode'):\n",
    "\n",
    "            df_train[cat_features] = df_train[cat_features].fillna(value=df_train[cat_features].mode().iloc[0])\n",
    "            df_test[cat_features] = df_test[cat_features].fillna(value=df_train[cat_features].mode().iloc[0])\n",
    "            if (df_pred is not None):\n",
    "                df_pred[cat_features] = df_pred[cat_features].fillna(value=df_train[cat_features].mode().iloc[0])\n",
    "\n",
    "        if (cat_fill=='missing'):\n",
    "\n",
    "            df_train[cat_features] = df_train[cat_features].fillna(value='missing')\n",
    "            df_test[cat_features] = df_test[cat_features].fillna(value='missing')\n",
    "            if (df_pred is not None):\n",
    "                df_pred[cat_features] = df_pred[cat_features].fillna(value='missing')\n",
    "        \n",
    "    if (num_fill=='median'):\n",
    "        df_train[num_features] = df_train[num_features].fillna(value=df_train[num_features].median())\n",
    "        df_test[num_features] = df_test[num_features].fillna(value=df_train[num_features].median())\n",
    "        if (df_pred is not None):\n",
    "            df_pred[num_features] = df_pred[num_features].fillna(value=df_train[num_features].median())    \n",
    "    \n",
    "    if (cat_features is not None):\n",
    "        all_good = (\n",
    "        (np.prod(df_train[num_features+cat_features].shape)==df_train[num_features+cat_features].count().sum()) and \n",
    "        (np.prod(df_test[num_features+cat_features].shape) == df_test[num_features+cat_features].count().sum()))\n",
    "        if (all_good):\n",
    "            print('Missing values imputed successfully')\n",
    "        else:\n",
    "            print('There are still some missing values...')\n",
    "    else:\n",
    "        all_good = (\n",
    "        (np.prod(df_train[num_features].shape)==df_train[num_features].count().sum()) and \n",
    "        (np.prod(df_test[num_features].shape) == df_test[num_features].count().sum()))\n",
    "        if (all_good):\n",
    "            print('Missing values imputed successfully')\n",
    "        else:\n",
    "            print('There are still some missing values...')\n",
    "    \n",
    "    \n",
    "def add_misDummy_mp_i1(df_train, df_test, df_pred, features):\n",
    "    \"\"\"This function creates new dummy columns for missing features.\n",
    "    Example: add_misDummy_mp_i1(X_train, X_test, X_pred, ['Age'])\"\"\"\n",
    "    # set df_pred to None if it does not exist\n",
    "    \n",
    "    columns_before = df_train.shape[1]\n",
    "    \n",
    "    for feature_name in features:\n",
    "        \n",
    "        if df_train[feature_name].count()==df_train.shape[0]:\n",
    "            continue\n",
    "        \n",
    "        misColName = 'mis'+feature_name\n",
    "        df_train.loc[df_train[feature_name].isnull(), misColName]=1\n",
    "        df_train.loc[df_train[feature_name].notnull(), misColName]=0\n",
    "        df_test.loc[df_test[feature_name].isnull(), misColName]=1\n",
    "        df_test.loc[df_test[feature_name].notnull(), misColName]=0\n",
    "        if (df_pred is not None):\n",
    "            df_pred.loc[df_pred[feature_name].isnull(), misColName]=1\n",
    "            df_pred.loc[df_pred[feature_name].notnull(), misColName]=0\n",
    "            \n",
    "        columns_after = df_train.shape[1]\n",
    "            \n",
    "    print(columns_after-columns_before, ' dummy features added')\n",
    "   \n",
    "\n",
    "def discretize_mp_i1(df_train, df_test, df_pred, feature, ntiles, delete_feature=False):\n",
    "    \"\"\"This function divides a continuous feature into quantile groups.\n",
    "    Example: discretize_mp_i1(X_train, X_test, X_pred, 'Age', 15)\"\"\"\n",
    "    # set df_pred to None if it does not exist\n",
    "    _,bin = pd.qcut(df_train[feature], ntiles, retbins = True, labels = False, duplicates = 'drop')\n",
    "    df_train[feature+'Ntile'] = pd.cut(df_train[feature], labels=False, duplicates = 'drop', bins = bin ,include_lowest = True)\n",
    "    df_test[feature+'Ntile'] = pd.cut(df_test[feature], labels=False, duplicates = 'drop', bins = bin ,include_lowest = True)\n",
    "    if (df_pred is not None):\n",
    "        df_pred[feature+'Ntile'] = pd.cut(df_pred[feature], labels=False, duplicates = 'drop', bins = bin ,include_lowest = True)\n",
    "    if (delete_feature==True):\n",
    "        df_train.drop(columns=[feature], inplace=True)\n",
    "        df_test.drop(columns=[feature], inplace=True)\n",
    "        df_pred.drop(columns=[feature], inplace=True)\n",
    "    print('Discretized ',feature, ' into ', len(bin)-1, ' bins')\n",
    "\n",
    "\n",
    "def log_transformer_mp_i1(df_train, df_test, df_pred=None, feature_subset=False, max_skew=3):\n",
    "    \"\"\"This function divides a continuous feature into quantile groups.\n",
    "    Example: log_transformer_mp_i1(X_train, X_test, X_pred, feature_subset=num_cols)\"\"\"\n",
    "    # set df_pred to None if it does not exist\n",
    "    if (feature_subset==False):\n",
    "        features_totransform = df_train.columns\n",
    "    else:\n",
    "        features_totransform = feature_subset.copy()\n",
    "    skewed_vars = list(df_train.skew()[(df_train.skew())>max_skew].index)\n",
    "    for col in list(set(skewed_vars)&set(features_totransform)):\n",
    "        df_train[col] = np.log1p(df_train[col])\n",
    "        df_test[col] = np.log1p(df_test[col])\n",
    "        if (df_pred is not None):\n",
    "            df_pred[col] = np.log1p(df_pred[col])\n",
    "    print('Skewed columns log-transformed: ', list(set(skewed_vars)&set(features_totransform)))\n",
    "    \n",
    "    \n",
    "def add_dummyfeatures(df_train, df_test, df_pred, feature_dict):\n",
    "    \"\"\"This function adds dummy feature when some feature is equal to value, specified in a dictionary.\n",
    "    Example: add_dummyfeatures(X_train, X_test, X_pred, {'RoomService':0, 'Spa':0, 'VRDeck':0, 'ShoppingMall':0})\"\"\"\n",
    "    input_dimensions = np.array([df_train.shape[1], df_test.shape[1], df_pred.shape[1]])\n",
    "    for i in range(len(list(feature_dict.items()))):\n",
    "        feature,value = list(feature_dict.keys())[i], list(feature_dict.values())[i]\n",
    "        df_train.loc[df_train[feature]==value,(str(feature)+str(value))]=1\n",
    "        df_train.loc[df_train[feature]!=value,(str(feature)+str(value))]=0\n",
    "        df_test.loc[df_test[feature]==value,(str(feature)+str(value))]=1\n",
    "        df_test.loc[df_test[feature]!=value,(str(feature)+str(value))]=0\n",
    "        df_pred.loc[df_pred[feature]==value,(str(feature)+str(value))]=1\n",
    "        df_pred.loc[df_pred[feature]!=value,(str(feature)+str(value))]=0\n",
    "    output_dimensions = np.array([df_train.shape[1], df_test.shape[1], df_pred.shape[1]])\n",
    "    print(output_dimensions-input_dimensions, ' variables created') "
   ]
  },
  {
   "cell_type": "code",
   "execution_count": 2,
   "id": "b2d5a395",
   "metadata": {
    "execution": {
     "iopub.execute_input": "2022-06-03T01:53:22.609640Z",
     "iopub.status.busy": "2022-06-03T01:53:22.609358Z",
     "iopub.status.idle": "2022-06-03T01:53:22.612560Z",
     "shell.execute_reply": "2022-06-03T01:53:22.611864Z"
    },
    "papermill": {
     "duration": 0.013036,
     "end_time": "2022-06-03T01:53:22.614527",
     "exception": false,
     "start_time": "2022-06-03T01:53:22.601491",
     "status": "completed"
    },
    "tags": []
   },
   "outputs": [],
   "source": [
    "# need to add function to add dummy feature where continuous feature is equal to some number, e.g., 0.\n",
    "# see SpaceTitanic for raw code.\n",
    "\n",
    "# add function to delete columns from all datasets"
   ]
  },
  {
   "cell_type": "code",
   "execution_count": 3,
   "id": "1005717b",
   "metadata": {
    "execution": {
     "iopub.execute_input": "2022-06-03T01:53:22.628490Z",
     "iopub.status.busy": "2022-06-03T01:53:22.627879Z",
     "iopub.status.idle": "2022-06-03T01:53:22.632857Z",
     "shell.execute_reply": "2022-06-03T01:53:22.632275Z"
    },
    "papermill": {
     "duration": 0.014525,
     "end_time": "2022-06-03T01:53:22.634944",
     "exception": false,
     "start_time": "2022-06-03T01:53:22.620419",
     "status": "completed"
    },
    "tags": []
   },
   "outputs": [
    {
     "name": "stdout",
     "output_type": "stream",
     "text": [
      "Help on function fillna_mp_i1 in module __main__:\n",
      "\n",
      "fillna_mp_i1(df_train, df_test, df_pred, num_features, cat_features, num_fill='median', cat_fill='mode')\n",
      "    This function speeds up filling missing values for 3 main datasets using different imputation methods.\n",
      "    Later may replace it with some subclass.\n",
      "    Example: \n",
      "    fillna_mp_i1(X_train, X_test, X_pred, num_cols, cat_cols)\n",
      "\n"
     ]
    }
   ],
   "source": [
    "help(fillna_mp_i1)\n"
   ]
  },
  {
   "cell_type": "raw",
   "id": "937fdf44",
   "metadata": {
    "papermill": {
     "duration": 0.006212,
     "end_time": "2022-06-03T01:53:22.648132",
     "exception": false,
     "start_time": "2022-06-03T01:53:22.641920",
     "status": "completed"
    },
    "tags": []
   },
   "source": []
  }
 ],
 "metadata": {
  "kernelspec": {
   "display_name": "Python 3",
   "language": "python",
   "name": "python3"
  },
  "language_info": {
   "codemirror_mode": {
    "name": "ipython",
    "version": 3
   },
   "file_extension": ".py",
   "mimetype": "text/x-python",
   "name": "python",
   "nbconvert_exporter": "python",
   "pygments_lexer": "ipython3",
   "version": "3.7.12"
  },
  "papermill": {
   "default_parameters": {},
   "duration": 11.666988,
   "end_time": "2022-06-03T01:53:23.376403",
   "environment_variables": {},
   "exception": null,
   "input_path": "__notebook__.ipynb",
   "output_path": "__notebook__.ipynb",
   "parameters": {},
   "start_time": "2022-06-03T01:53:11.709415",
   "version": "2.3.4"
  }
 },
 "nbformat": 4,
 "nbformat_minor": 5
}
